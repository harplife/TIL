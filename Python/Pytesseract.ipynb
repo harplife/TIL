{
 "cells": [
  {
   "cell_type": "markdown",
   "metadata": {},
   "source": [
    "# Tesseract로 Text Recognition 해보기!\n",
    "\n",
    "1. tesseract 다운로드 하고 설치 - [링크](<https://github.com/tesseract-ocr/tesseract/wiki/4.0-with-LSTM#400-alpha-for-windows>)\n",
    "2. tesseract 연동 패키지: `pip install pytesseract`\n",
    "\n",
    "참고: https://www.pyimagesearch.com/2017/07/10/using-tesseract-ocr-python/"
   ]
  },
  {
   "cell_type": "code",
   "execution_count": 1,
   "metadata": {},
   "outputs": [],
   "source": [
    "import pytesseract\n",
    "from PIL import Image\n",
    "\n",
    "pytesseract.pytesseract.tesseract_cmd = r'C:\\Program Files (x86)\\Tesseract-OCR\\tesseract'"
   ]
  },
  {
   "cell_type": "markdown",
   "metadata": {},
   "source": [
    "![english](https://user-images.githubusercontent.com/44990492/59588153-ed23b780-9121-11e9-9d65-94c8bb62895b.png)"
   ]
  },
  {
   "cell_type": "code",
   "execution_count": 2,
   "metadata": {},
   "outputs": [
    {
     "name": "stdout",
     "output_type": "stream",
     "text": [
      "A Dream Within A Dream\n",
      "\n",
      "by Edgar Allan Poe\n",
      "\n",
      "\"Take this kiss upon the brow!\n",
      "And, in pating from you now,\n",
      "Thus much let me avou-\n",
      "You are not wrong, who deem\n",
      "That my days have been a dream;\n",
      "Yerif hope has flown away\n",
      "\n",
      "In a night, or in a day,\n",
      "\n",
      "In a vision, o i none,\n",
      "\n",
      "1s it therefore th less gone?\n",
      "All that we see or seem\n",
      "\n",
      "1s buta dream within a dream.\n"
     ]
    }
   ],
   "source": [
    "print(pytesseract.image_to_string(Image.open('english.png')))"
   ]
  },
  {
   "cell_type": "markdown",
   "metadata": {},
   "source": [
    "![hangul](https://user-images.githubusercontent.com/44990492/59588172-f3199880-9121-11e9-80fa-a659ef9ba469.png)"
   ]
  },
  {
   "cell_type": "code",
   "execution_count": 3,
   "metadata": {},
   "outputs": [
    {
     "name": "stdout",
     "output_type": "stream",
     "text": [
      "쇼뻔\n",
      "\n",
      "여기저기서 단풍잎 같문 슬플 7|믈미 즉툭딜이진냐 단풍잎\n",
      "펠어저 니은 재리쩨띠 물들 미련괘 놀고 니뭇가지 뭐해 츄늘미\n",
      "펠뼈 밌디^ 가만히 촨눌크 들며디브걱펜 는닙께 마린 큘김이\n",
      "든데 두 슨으룻 따듯한 돌들 쓸어 보편 슨폐핍헤드 마린 불감\n",
      "이 묻어닌디} 디시 슨폐|닥믈 ː써티믄대슨곰께는 밈문 검불\n",
      "이 흐 고】 맑은 감둘이 ′르고)갑튤 옥께는 사림뼈렵 흩`휼밀\n",
      "굴′ 훼틈디문 순이익 밀굴미 이린디~소넌문 훼홀히 뚫\n",
      "감어믄디^그레드 밈문 갑들문 플러 시림채렵 읊밀굴′\n",
      "어틈다운순미믹 밀굴문 미란다\n"
     ]
    }
   ],
   "source": [
    "print(pytesseract.image_to_string(Image.open('hangul.png'), lang='kor'))"
   ]
  }
 ],
 "metadata": {
  "kernelspec": {
   "display_name": "tess_env",
   "language": "python",
   "name": "tess_env"
  },
  "language_info": {
   "codemirror_mode": {
    "name": "ipython",
    "version": 3
   },
   "file_extension": ".py",
   "mimetype": "text/x-python",
   "name": "python",
   "nbconvert_exporter": "python",
   "pygments_lexer": "ipython3",
   "version": "3.6.7"
  },
  "toc": {
   "base_numbering": 1,
   "nav_menu": {},
   "number_sections": true,
   "sideBar": true,
   "skip_h1_title": false,
   "title_cell": "Table of Contents",
   "title_sidebar": "Contents",
   "toc_cell": false,
   "toc_position": {},
   "toc_section_display": true,
   "toc_window_display": false
  },
  "varInspector": {
   "cols": {
    "lenName": 16,
    "lenType": 16,
    "lenVar": 40
   },
   "kernels_config": {
    "python": {
     "delete_cmd_postfix": "",
     "delete_cmd_prefix": "del ",
     "library": "var_list.py",
     "varRefreshCmd": "print(var_dic_list())"
    },
    "r": {
     "delete_cmd_postfix": ") ",
     "delete_cmd_prefix": "rm(",
     "library": "var_list.r",
     "varRefreshCmd": "cat(var_dic_list()) "
    }
   },
   "types_to_exclude": [
    "module",
    "function",
    "builtin_function_or_method",
    "instance",
    "_Feature"
   ],
   "window_display": false
  }
 },
 "nbformat": 4,
 "nbformat_minor": 2
}
