{
 "cells": [
  {
   "cell_type": "markdown",
   "metadata": {},
   "source": [
    "# BITHUMB 크럴링"
   ]
  },
  {
   "cell_type": "markdown",
   "metadata": {},
   "source": [
    "## 크럴링 결과 csv로 저장"
   ]
  },
  {
   "cell_type": "code",
   "execution_count": 5,
   "metadata": {},
   "outputs": [],
   "source": [
    "import requests\n",
    "from bs4 import BeautifulSoup\n",
    "\n",
    "url = 'https://www.bithumb.com/'\n",
    "html = requests.get(url).text\n",
    "soup = BeautifulSoup(html, 'html.parser')\n",
    "coins = soup.select('.coin_list tr')\n",
    "\n",
    "with open('bithumb.csv', 'w') as f:\n",
    "    for coin in coins:\n",
    "        name = coin.select_one('td:nth-child(1) p a strong').text.strip()\n",
    "        price = coin.select_one('td:nth-child(2) strong').text.replace(',','')\n",
    "        f.write(f'{name}, {price}\\n')"
   ]
  },
  {
   "cell_type": "markdown",
   "metadata": {},
   "source": [
    "## 크럴링 결과 시세대로 정렬"
   ]
  },
  {
   "cell_type": "code",
   "execution_count": 23,
   "metadata": {
    "scrolled": true
   },
   "outputs": [
    {
     "name": "stdout",
     "output_type": "stream",
     "text": [
      "비트코인 :: 10,360,000 원\n",
      "비트코인 캐시 :: 511,500 원\n",
      "이더리움 :: 319,900 원\n",
      "대시 :: 202,900 원\n",
      "라이트코인 :: 134,400 원\n",
      "비트코인에스브이 :: 129,300 원\n",
      "모네로 :: 110,800 원\n",
      "제트캐시 :: 105,400 원\n",
      "어거 :: 28,600 원\n",
      "비트코인 골드 :: 28,510 원\n",
      "이더리움 클래식 :: 9,845 원\n",
      "이오스 :: 9,370 원\n",
      "크립토닷컴 :: 6,635 원\n",
      "퀀텀 :: 3,895 원\n",
      "메탈 :: 3,630 원\n",
      "밸러토큰 :: 3,534 원\n",
      "웨이브 :: 3,295 원\n",
      "비트코인 다이아몬드 :: 2,915 원\n",
      "오미세고 :: 2,636 원\n",
      "파퓰러스 :: 2,593 원\n",
      "월튼체인 :: 2,590 원\n",
      "피벡스 :: 2,461 원\n",
      "비에이치피 :: 1,791 원\n",
      "하이퍼캐시 :: 1,779 원\n",
      "레이든네트워크토큰 :: 1,406 원\n",
      "체인링크 :: 1,383 원\n",
      "지엑스체인 :: 1,286 원\n",
      "스트라티스 :: 1,269 원\n",
      "트루체인 :: 1,047 원\n",
      "에어론 :: 747 원\n",
      "애터니티 :: 675 원\n",
      "아크블록 :: 583 원\n",
      "아이앤에스 :: 555 원\n",
      "스팀 :: 532 원\n",
      "리플 :: 505 원\n",
      "아이콘 :: 456 원\n",
      "베이직어텐션토큰 :: 451 원\n",
      "제로엑스 :: 400 원\n",
      "텐엑스 :: 369 원\n",
      "코르텍스 :: 343 원\n",
      "카이버 네트워크 :: 317 원\n",
      "아이오티체인 :: 309 원\n",
      "솔트 :: 284 원\n",
      "엘프 :: 277 원\n",
      "에토스 :: 232 원\n",
      "이더제로 :: 209 원\n",
      "프리마스 :: 177 원\n",
      "엔진코인 :: 173 원\n",
      "스텔라루멘 :: 172 원\n",
      "파워렛저 :: 151 원\n",
      "룸네트워크 :: 145 원\n",
      "쎄타토큰 :: 135 원\n",
      "폴리매스 :: 126 원\n",
      "에이다 :: 111 원\n",
      "골렘 :: 109 원\n",
      "넴 :: 107 원\n",
      "루프링 :: 94 원\n",
      "왁스 :: 87 원\n",
      "믹스마블 NEW :: 80 원\n",
      "미스릴 :: 66 원\n",
      "원루트 네트워크 :: 65 원\n",
      "사이버마일즈 :: 47 원\n",
      "기프토 :: 45 원\n",
      "에이치닥 :: 44 원\n",
      "오브스 :: 42 원\n",
      "트론 :: 37 원\n",
      "스테이터스네트워크토큰 :: 36 원\n",
      "코넌 :: 28 원\n",
      "베잔트 :: 26 원\n",
      "위쇼토큰 :: 26 원\n",
      "버지 :: 26 원\n",
      "질리카 :: 25 원\n",
      "플레이코인 :: 25 원\n",
      "이오스트 :: 20 원\n",
      "비체인 :: 9 원\n",
      "앵커 :: 9 원\n",
      "다빈치 :: 7 원\n",
      "오디세이 :: 4 원\n",
      "더마이다스터치골드 :: 4 원\n",
      "비트토렌트 :: 3 원\n",
      "아피스 :: 2 원\n",
      "큐브 :: 2 원\n",
      "아모코인 :: 1 원\n",
      "펀디엑스 :: 1 원\n",
      "롬 :: 0 원\n",
      "디에이씨씨 :: 0 원\n"
     ]
    }
   ],
   "source": [
    "import requests\n",
    "from bs4 import BeautifulSoup\n",
    "import operator\n",
    "import collections\n",
    "\n",
    "url = 'https://www.bithumb.com/'\n",
    "html = requests.get(url).text\n",
    "soup = BeautifulSoup(html, 'html.parser')\n",
    "coins = soup.select('.coin_list tr')\n",
    "\n",
    "results = {}\n",
    "\n",
    "for coin in coins:\n",
    "    name = coin.select_one('td:nth-of-type(1) p a strong').text.strip()\n",
    "    price = float(coin.select_one('td:nth-of-type(2) strong').text.replace(',','').replace('원',''))\n",
    "    price = round(price)\n",
    "    results[name] = price\n",
    "\n",
    "sorted_results = sorted(results.items(), key=operator.itemgetter(1), reverse=True)\n",
    "\n",
    "for result in sorted_results:\n",
    "    name, price = result\n",
    "    print('{} :: {:,d} 원'.format(name, price))"
   ]
  },
  {
   "cell_type": "code",
   "execution_count": null,
   "metadata": {},
   "outputs": [],
   "source": []
  }
 ],
 "metadata": {
  "kernelspec": {
   "display_name": "keras_env",
   "language": "python",
   "name": "keras_env"
  },
  "language_info": {
   "codemirror_mode": {
    "name": "ipython",
    "version": 3
   },
   "file_extension": ".py",
   "mimetype": "text/x-python",
   "name": "python",
   "nbconvert_exporter": "python",
   "pygments_lexer": "ipython3",
   "version": "3.6.7"
  },
  "toc": {
   "base_numbering": 1,
   "nav_menu": {},
   "number_sections": true,
   "sideBar": true,
   "skip_h1_title": false,
   "title_cell": "Table of Contents",
   "title_sidebar": "Contents",
   "toc_cell": false,
   "toc_position": {},
   "toc_section_display": true,
   "toc_window_display": false
  },
  "varInspector": {
   "cols": {
    "lenName": 16,
    "lenType": 16,
    "lenVar": 40
   },
   "kernels_config": {
    "python": {
     "delete_cmd_postfix": "",
     "delete_cmd_prefix": "del ",
     "library": "var_list.py",
     "varRefreshCmd": "print(var_dic_list())"
    },
    "r": {
     "delete_cmd_postfix": ") ",
     "delete_cmd_prefix": "rm(",
     "library": "var_list.r",
     "varRefreshCmd": "cat(var_dic_list()) "
    }
   },
   "types_to_exclude": [
    "module",
    "function",
    "builtin_function_or_method",
    "instance",
    "_Feature"
   ],
   "window_display": false
  }
 },
 "nbformat": 4,
 "nbformat_minor": 2
}
