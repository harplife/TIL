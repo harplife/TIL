{
 "cells": [
  {
   "cell_type": "markdown",
   "metadata": {},
   "source": [
    "# Numpy, Pandas 연산, 공분산, 상관관계"
   ]
  },
  {
   "cell_type": "markdown",
   "metadata": {
    "heading_collapsed": true
   },
   "source": [
    "## NUMPY"
   ]
  },
  {
   "cell_type": "markdown",
   "metadata": {
    "heading_collapsed": true,
    "hidden": true
   },
   "source": [
    "### 간단 연산"
   ]
  },
  {
   "cell_type": "code",
   "execution_count": 3,
   "metadata": {
    "hidden": true
   },
   "outputs": [
    {
     "name": "stdout",
     "output_type": "stream",
     "text": [
      "15\n",
      "3.0\n",
      "2.0\n",
      "1.4142135623730951\n"
     ]
    }
   ],
   "source": [
    "import numpy as np\n",
    "\n",
    "arr = np.array([1,2,3,4,5], dtype=np.int32)\n",
    "print(arr.sum())\n",
    "print(arr.mean())\n",
    "print(arr.var())\n",
    "print(arr.std())"
   ]
  },
  {
   "cell_type": "markdown",
   "metadata": {
    "heading_collapsed": true,
    "hidden": true
   },
   "source": [
    "### 금융 데이터를 사용한 통계 (공분산, 상관계수)"
   ]
  },
  {
   "cell_type": "markdown",
   "metadata": {
    "heading_collapsed": true,
    "hidden": true
   },
   "source": [
    "#### 공분산"
   ]
  },
  {
   "cell_type": "code",
   "execution_count": 16,
   "metadata": {
    "hidden": true
   },
   "outputs": [
    {
     "data": {
      "text/plain": [
       "array([[ 4.64762211e+09, -3.86535936e+08],\n",
       "       [-3.86535936e+08,  6.35924170e+07]])"
      ]
     },
     "execution_count": 16,
     "metadata": {},
     "output_type": "execute_result"
    }
   ],
   "source": [
    "\"\"\"\n",
    "공분산?\n",
    "두 개의 확률의 관계\n",
    "연관성이 없으면 =0\n",
    "확률변수(random variables) X와 Y의 관계\n",
    "두 변수의 변하는 방향을 알기 위해 사용.\n",
    "X가 증가하면 Y도 증가 == 공분산 양수\n",
    "X가 증가하면 Y가 준다 == 공분산 음수\n",
    "상관계수\n",
    "두 확률변수의 관계정도(strength)를 측정하기가 좋지 않다?\n",
    "\"\"\"\n",
    "# 공분산이 양수인 경우 (KOSPI지수와 삼성전자 주가)\n",
    "import numpy as np\n",
    "import pandas as pd\n",
    "import datetime\n",
    "import pandas_datareader.data as pdr # 설치!\n",
    "\n",
    "start = datetime.datetime(2019,1,1)\n",
    "end = datetime.datetime(2019,12,31)\n",
    "\n",
    "# Yahoo에서 제공하는 코스피 지수정보 > DataFrame\n",
    "# df_KOSPI = pdr.DataReader(\"011390\",\"google\",start,end) # proxy 문제떄문에 일단 skip\n",
    "\n",
    "df_BUSAN = pd.read_json(\"./data/stock/부산산업.json\")[\"Close\"]\n",
    "df_LIG = pd.read_json(\"./data/stock/LIG넥스원.json\")[\"Close\"]\n",
    "\n",
    "# numpy자체의 covaraince 함수가 있다.\n",
    "np.cov(df_BUSAN,df_LIG)"
   ]
  },
  {
   "cell_type": "markdown",
   "metadata": {
    "hidden": true
   },
   "source": [
    "#### 상관관계"
   ]
  },
  {
   "cell_type": "code",
   "execution_count": 18,
   "metadata": {
    "hidden": true,
    "scrolled": false
   },
   "outputs": [
    {
     "data": {
      "text/plain": [
       "array([[1.        , 0.91317306],\n",
       "       [0.91317306, 1.        ]])"
      ]
     },
     "metadata": {},
     "output_type": "display_data"
    },
    {
     "data": {
      "text/plain": [
       "array([[ 1.        , -0.71100361],\n",
       "       [-0.71100361,  1.        ]])"
      ]
     },
     "metadata": {},
     "output_type": "display_data"
    }
   ],
   "source": [
    "\"\"\"\n",
    "상관관계(correlation)\n",
    "서로 연관이 있어보이는 관계\n",
    "상관계수(correlation coefficient)는 0~1사이의 값이 나온다.\n",
    "\n",
    "0.0~0.3 약한 관계\n",
    "0.3~0.7 중간 관계\n",
    "0.7~1.0 강한 관계\n",
    "\"\"\"\n",
    "import numpy as np\n",
    "import pandas as pd\n",
    "import datetime\n",
    "import pandas_datareader.data as pdr # 설치!\n",
    "\n",
    "start = datetime.datetime(2019,1,1)\n",
    "end = datetime.datetime(2019,12,31)\n",
    "\n",
    "df_KOSPI = pd.read_json(\"./data/stock/KOSPI.json\")[\"Close\"]\n",
    "df_SE = pd.read_json(\"./data/stock/SE.json\")[\"Close\"]\n",
    "\n",
    "# numpy의 corrcoef 함수가 있다.\n",
    "display(np.corrcoef(df_KOSPI,df_SE))\n",
    "\n",
    "df_BUSAN = pd.read_json(\"./data/stock/부산산업.json\")[\"Close\"]\n",
    "df_LIG = pd.read_json(\"./data/stock/LIG넥스원.json\")[\"Close\"]\n",
    "\n",
    "display(np.corrcoef(df_BUSAN,df_LIG))"
   ]
  },
  {
   "cell_type": "markdown",
   "metadata": {
    "heading_collapsed": true
   },
   "source": [
    "## PANDAS"
   ]
  },
  {
   "cell_type": "markdown",
   "metadata": {
    "heading_collapsed": true,
    "hidden": true
   },
   "source": [
    "### 간단 연산"
   ]
  },
  {
   "cell_type": "code",
   "execution_count": 8,
   "metadata": {
    "hidden": true,
    "scrolled": false
   },
   "outputs": [
    {
     "data": {
      "text/html": [
       "<div>\n",
       "<style scoped>\n",
       "    .dataframe tbody tr th:only-of-type {\n",
       "        vertical-align: middle;\n",
       "    }\n",
       "\n",
       "    .dataframe tbody tr th {\n",
       "        vertical-align: top;\n",
       "    }\n",
       "\n",
       "    .dataframe thead th {\n",
       "        text-align: right;\n",
       "    }\n",
       "</style>\n",
       "<table border=\"1\" class=\"dataframe\">\n",
       "  <thead>\n",
       "    <tr style=\"text-align: right;\">\n",
       "      <th></th>\n",
       "      <th>one</th>\n",
       "      <th>two</th>\n",
       "    </tr>\n",
       "  </thead>\n",
       "  <tbody>\n",
       "    <tr>\n",
       "      <th>a</th>\n",
       "      <td>2.0</td>\n",
       "      <td>NaN</td>\n",
       "    </tr>\n",
       "    <tr>\n",
       "      <th>b</th>\n",
       "      <td>7.0</td>\n",
       "      <td>-3.0</td>\n",
       "    </tr>\n",
       "    <tr>\n",
       "      <th>c</th>\n",
       "      <td>NaN</td>\n",
       "      <td>NaN</td>\n",
       "    </tr>\n",
       "    <tr>\n",
       "      <th>d</th>\n",
       "      <td>1.0</td>\n",
       "      <td>-2.0</td>\n",
       "    </tr>\n",
       "  </tbody>\n",
       "</table>\n",
       "</div>"
      ],
      "text/plain": [
       "   one  two\n",
       "a  2.0  NaN\n",
       "b  7.0 -3.0\n",
       "c  NaN  NaN\n",
       "d  1.0 -2.0"
      ]
     },
     "metadata": {},
     "output_type": "display_data"
    },
    {
     "data": {
      "text/plain": [
       "one    10.0\n",
       "two    -5.0\n",
       "dtype: float64"
      ]
     },
     "metadata": {},
     "output_type": "display_data"
    },
    {
     "data": {
      "text/plain": [
       "one    3.333333\n",
       "two   -2.500000\n",
       "dtype: float64"
      ]
     },
     "metadata": {},
     "output_type": "display_data"
    },
    {
     "data": {
      "text/plain": [
       "a    2.0\n",
       "b    4.0\n",
       "c    0.0\n",
       "d   -1.0\n",
       "dtype: float64"
      ]
     },
     "metadata": {},
     "output_type": "display_data"
    },
    {
     "data": {
      "text/html": [
       "<div>\n",
       "<style scoped>\n",
       "    .dataframe tbody tr th:only-of-type {\n",
       "        vertical-align: middle;\n",
       "    }\n",
       "\n",
       "    .dataframe tbody tr th {\n",
       "        vertical-align: top;\n",
       "    }\n",
       "\n",
       "    .dataframe thead th {\n",
       "        text-align: right;\n",
       "    }\n",
       "</style>\n",
       "<table border=\"1\" class=\"dataframe\">\n",
       "  <thead>\n",
       "    <tr style=\"text-align: right;\">\n",
       "      <th></th>\n",
       "      <th>one</th>\n",
       "      <th>two</th>\n",
       "    </tr>\n",
       "  </thead>\n",
       "  <tbody>\n",
       "    <tr>\n",
       "      <th>a</th>\n",
       "      <td>2.000000</td>\n",
       "      <td>-3.0</td>\n",
       "    </tr>\n",
       "    <tr>\n",
       "      <th>b</th>\n",
       "      <td>7.000000</td>\n",
       "      <td>-3.0</td>\n",
       "    </tr>\n",
       "    <tr>\n",
       "      <th>c</th>\n",
       "      <td>3.333333</td>\n",
       "      <td>-3.0</td>\n",
       "    </tr>\n",
       "    <tr>\n",
       "      <th>d</th>\n",
       "      <td>1.000000</td>\n",
       "      <td>-2.0</td>\n",
       "    </tr>\n",
       "  </tbody>\n",
       "</table>\n",
       "</div>"
      ],
      "text/plain": [
       "        one  two\n",
       "a  2.000000 -3.0\n",
       "b  7.000000 -3.0\n",
       "c  3.333333 -3.0\n",
       "d  1.000000 -2.0"
      ]
     },
     "metadata": {},
     "output_type": "display_data"
    }
   ],
   "source": [
    "\"\"\"\n",
    "pandas를 활용한 연산\n",
    ".sum()\n",
    ".mean()\n",
    ".sum(axis=1)\n",
    "\"\"\"\n",
    "import numpy as np\n",
    "import pandas as pd\n",
    "\n",
    "data = [\n",
    "    [2.0, np.nan],\n",
    "    [7,-3],\n",
    "    [np.nan, np.nan],\n",
    "    [1,-2]]\n",
    "\n",
    "df = pd.DataFrame(data,\n",
    "                 columns=[\"one\",\"two\"],\n",
    "                  index=[\"a\",\"b\",\"c\",\"d\"])\n",
    "display(df)\n",
    "display(df.sum())\n",
    "display(df.mean())\n",
    "display(df.sum(axis=1))\n",
    "\n",
    "'''\n",
    "결측값 해결\n",
    "one column의 결측값은 one column의 평균으로 대체\n",
    "two column의 결측값은 two column의 최소값으로 대체\n",
    "데이터프레임 출력\n",
    "'''\n",
    "df[\"one\"].fillna(value=df[\"one\"].mean(),inplace=True)\n",
    "df[\"two\"].fillna(value=df[\"two\"].min(),inplace=True)\n",
    "display(df)"
   ]
  },
  {
   "cell_type": "markdown",
   "metadata": {
    "heading_collapsed": true,
    "hidden": true
   },
   "source": [
    "### 금융 데이터를 사용한 통계 (공분산, 상관계수)"
   ]
  },
  {
   "cell_type": "code",
   "execution_count": 17,
   "metadata": {
    "hidden": true
   },
   "outputs": [
    {
     "data": {
      "text/plain": [
       "-0.5766876815236218"
      ]
     },
     "metadata": {},
     "output_type": "display_data"
    },
    {
     "data": {
      "text/html": [
       "<div>\n",
       "<style scoped>\n",
       "    .dataframe tbody tr th:only-of-type {\n",
       "        vertical-align: middle;\n",
       "    }\n",
       "\n",
       "    .dataframe tbody tr th {\n",
       "        vertical-align: top;\n",
       "    }\n",
       "\n",
       "    .dataframe thead th {\n",
       "        text-align: right;\n",
       "    }\n",
       "</style>\n",
       "<table border=\"1\" class=\"dataframe\">\n",
       "  <thead>\n",
       "    <tr style=\"text-align: right;\">\n",
       "      <th></th>\n",
       "      <th>KOSPI</th>\n",
       "      <th>SE</th>\n",
       "      <th>LIG</th>\n",
       "      <th>BUSAN</th>\n",
       "    </tr>\n",
       "  </thead>\n",
       "  <tbody>\n",
       "    <tr>\n",
       "      <th>KOSPI</th>\n",
       "      <td>2.417723e+04</td>\n",
       "      <td>4.902221e+05</td>\n",
       "      <td>9.800948e+05</td>\n",
       "      <td>-6.113070e+06</td>\n",
       "    </tr>\n",
       "    <tr>\n",
       "      <th>SE</th>\n",
       "      <td>4.902221e+05</td>\n",
       "      <td>1.191991e+07</td>\n",
       "      <td>1.796994e+07</td>\n",
       "      <td>-1.103778e+08</td>\n",
       "    </tr>\n",
       "    <tr>\n",
       "      <th>LIG</th>\n",
       "      <td>9.800948e+05</td>\n",
       "      <td>1.796994e+07</td>\n",
       "      <td>6.359242e+07</td>\n",
       "      <td>-3.865359e+08</td>\n",
       "    </tr>\n",
       "    <tr>\n",
       "      <th>BUSAN</th>\n",
       "      <td>-6.113070e+06</td>\n",
       "      <td>-1.103778e+08</td>\n",
       "      <td>-3.865359e+08</td>\n",
       "      <td>4.647622e+09</td>\n",
       "    </tr>\n",
       "  </tbody>\n",
       "</table>\n",
       "</div>"
      ],
      "text/plain": [
       "              KOSPI            SE           LIG         BUSAN\n",
       "KOSPI  2.417723e+04  4.902221e+05  9.800948e+05 -6.113070e+06\n",
       "SE     4.902221e+05  1.191991e+07  1.796994e+07 -1.103778e+08\n",
       "LIG    9.800948e+05  1.796994e+07  6.359242e+07 -3.865359e+08\n",
       "BUSAN -6.113070e+06 -1.103778e+08 -3.865359e+08  4.647622e+09"
      ]
     },
     "metadata": {},
     "output_type": "display_data"
    },
    {
     "data": {
      "text/html": [
       "<div>\n",
       "<style scoped>\n",
       "    .dataframe tbody tr th:only-of-type {\n",
       "        vertical-align: middle;\n",
       "    }\n",
       "\n",
       "    .dataframe tbody tr th {\n",
       "        vertical-align: top;\n",
       "    }\n",
       "\n",
       "    .dataframe thead th {\n",
       "        text-align: right;\n",
       "    }\n",
       "</style>\n",
       "<table border=\"1\" class=\"dataframe\">\n",
       "  <thead>\n",
       "    <tr style=\"text-align: right;\">\n",
       "      <th></th>\n",
       "      <th>KOSPI</th>\n",
       "      <th>SE</th>\n",
       "      <th>LIG</th>\n",
       "      <th>BUSAN</th>\n",
       "    </tr>\n",
       "  </thead>\n",
       "  <tbody>\n",
       "    <tr>\n",
       "      <th>KOSPI</th>\n",
       "      <td>1.000000</td>\n",
       "      <td>0.913173</td>\n",
       "      <td>0.790428</td>\n",
       "      <td>-0.576688</td>\n",
       "    </tr>\n",
       "    <tr>\n",
       "      <th>SE</th>\n",
       "      <td>0.913173</td>\n",
       "      <td>1.000000</td>\n",
       "      <td>0.652691</td>\n",
       "      <td>-0.468954</td>\n",
       "    </tr>\n",
       "    <tr>\n",
       "      <th>LIG</th>\n",
       "      <td>0.790428</td>\n",
       "      <td>0.652691</td>\n",
       "      <td>1.000000</td>\n",
       "      <td>-0.711004</td>\n",
       "    </tr>\n",
       "    <tr>\n",
       "      <th>BUSAN</th>\n",
       "      <td>-0.576688</td>\n",
       "      <td>-0.468954</td>\n",
       "      <td>-0.711004</td>\n",
       "      <td>1.000000</td>\n",
       "    </tr>\n",
       "  </tbody>\n",
       "</table>\n",
       "</div>"
      ],
      "text/plain": [
       "          KOSPI        SE       LIG     BUSAN\n",
       "KOSPI  1.000000  0.913173  0.790428 -0.576688\n",
       "SE     0.913173  1.000000  0.652691 -0.468954\n",
       "LIG    0.790428  0.652691  1.000000 -0.711004\n",
       "BUSAN -0.576688 -0.468954 -0.711004  1.000000"
      ]
     },
     "metadata": {},
     "output_type": "display_data"
    }
   ],
   "source": [
    "import numpy as np\n",
    "import pandas as pd\n",
    "import datetime\n",
    "import pandas_datareader.data as pdr # 설치!\n",
    "\n",
    "start = datetime.datetime(2019,1,1)\n",
    "end = datetime.datetime(2019,12,31)\n",
    "\n",
    "df_KOSPI = pd.read_json(\"./data/stock/KOSPI.json\")[\"Close\"]\n",
    "df_SE = pd.read_json(\"./data/stock/SE.json\")[\"Close\"]\n",
    "df_BUSAN = pd.read_json(\"./data/stock/부산산업.json\")[\"Close\"]\n",
    "df_LIG = pd.read_json(\"./data/stock/LIG넥스원.json\")[\"Close\"]\n",
    "\n",
    "data = {\n",
    "    \"KOSPI\" : df_KOSPI,\n",
    "    \"SE\":df_SE,\n",
    "    \"LIG\":df_LIG,\n",
    "    \"BUSAN\":df_BUSAN\n",
    "}\n",
    "\n",
    "df = pd.DataFrame(data)\n",
    "\n",
    "display( df[\"BUSAN\"].corr(df[\"KOSPI\"]) )\n",
    "\n",
    "#공분산 확인\n",
    "display( df.cov() )\n",
    "\n",
    "# 상관계수 확인\n",
    "display( df.corr() )\n",
    "'''\n",
    "상관계수 분석결과:\n",
    "KOSPI와 SE의 관계계수가 높다!\n",
    "KOSPI와 LIG의 관계계수가 높다!\n",
    "KOSPI와 BUSAN의 관계는 전혀 없다...\n",
    "\n",
    "SE와 LIG의 관계계수가 높다.\n",
    "'''"
   ]
  },
  {
   "cell_type": "markdown",
   "metadata": {
    "heading_collapsed": true
   },
   "source": [
    "# 추가: 인덱스 순서 sorting"
   ]
  },
  {
   "cell_type": "code",
   "execution_count": 27,
   "metadata": {
    "hidden": true
   },
   "outputs": [
    {
     "data": {
      "text/html": [
       "<div>\n",
       "<style scoped>\n",
       "    .dataframe tbody tr th:only-of-type {\n",
       "        vertical-align: middle;\n",
       "    }\n",
       "\n",
       "    .dataframe tbody tr th {\n",
       "        vertical-align: top;\n",
       "    }\n",
       "\n",
       "    .dataframe thead th {\n",
       "        text-align: right;\n",
       "    }\n",
       "</style>\n",
       "<table border=\"1\" class=\"dataframe\">\n",
       "  <thead>\n",
       "    <tr style=\"text-align: right;\">\n",
       "      <th></th>\n",
       "      <th>A</th>\n",
       "      <th>B</th>\n",
       "      <th>C</th>\n",
       "      <th>D</th>\n",
       "    </tr>\n",
       "  </thead>\n",
       "  <tbody>\n",
       "    <tr>\n",
       "      <th>2019-01-01</th>\n",
       "      <td>5</td>\n",
       "      <td>0</td>\n",
       "      <td>3</td>\n",
       "      <td>3</td>\n",
       "    </tr>\n",
       "    <tr>\n",
       "      <th>2019-01-02</th>\n",
       "      <td>7</td>\n",
       "      <td>9</td>\n",
       "      <td>3</td>\n",
       "      <td>5</td>\n",
       "    </tr>\n",
       "    <tr>\n",
       "      <th>2019-01-03</th>\n",
       "      <td>2</td>\n",
       "      <td>4</td>\n",
       "      <td>7</td>\n",
       "      <td>6</td>\n",
       "    </tr>\n",
       "    <tr>\n",
       "      <th>2019-01-04</th>\n",
       "      <td>8</td>\n",
       "      <td>8</td>\n",
       "      <td>1</td>\n",
       "      <td>6</td>\n",
       "    </tr>\n",
       "    <tr>\n",
       "      <th>2019-01-05</th>\n",
       "      <td>7</td>\n",
       "      <td>7</td>\n",
       "      <td>8</td>\n",
       "      <td>1</td>\n",
       "    </tr>\n",
       "    <tr>\n",
       "      <th>2019-01-06</th>\n",
       "      <td>5</td>\n",
       "      <td>9</td>\n",
       "      <td>8</td>\n",
       "      <td>9</td>\n",
       "    </tr>\n",
       "  </tbody>\n",
       "</table>\n",
       "</div>"
      ],
      "text/plain": [
       "            A  B  C  D\n",
       "2019-01-01  5  0  3  3\n",
       "2019-01-02  7  9  3  5\n",
       "2019-01-03  2  4  7  6\n",
       "2019-01-04  8  8  1  6\n",
       "2019-01-05  7  7  8  1\n",
       "2019-01-06  5  9  8  9"
      ]
     },
     "metadata": {},
     "output_type": "display_data"
    },
    {
     "data": {
      "text/html": [
       "<div>\n",
       "<style scoped>\n",
       "    .dataframe tbody tr th:only-of-type {\n",
       "        vertical-align: middle;\n",
       "    }\n",
       "\n",
       "    .dataframe tbody tr th {\n",
       "        vertical-align: top;\n",
       "    }\n",
       "\n",
       "    .dataframe thead th {\n",
       "        text-align: right;\n",
       "    }\n",
       "</style>\n",
       "<table border=\"1\" class=\"dataframe\">\n",
       "  <thead>\n",
       "    <tr style=\"text-align: right;\">\n",
       "      <th></th>\n",
       "      <th>B</th>\n",
       "      <th>D</th>\n",
       "      <th>C</th>\n",
       "      <th>A</th>\n",
       "    </tr>\n",
       "  </thead>\n",
       "  <tbody>\n",
       "    <tr>\n",
       "      <th>2019-01-03</th>\n",
       "      <td>4</td>\n",
       "      <td>6</td>\n",
       "      <td>7</td>\n",
       "      <td>2</td>\n",
       "    </tr>\n",
       "    <tr>\n",
       "      <th>2019-01-06</th>\n",
       "      <td>9</td>\n",
       "      <td>9</td>\n",
       "      <td>8</td>\n",
       "      <td>5</td>\n",
       "    </tr>\n",
       "    <tr>\n",
       "      <th>2019-01-02</th>\n",
       "      <td>9</td>\n",
       "      <td>5</td>\n",
       "      <td>3</td>\n",
       "      <td>7</td>\n",
       "    </tr>\n",
       "    <tr>\n",
       "      <th>2019-01-01</th>\n",
       "      <td>0</td>\n",
       "      <td>3</td>\n",
       "      <td>3</td>\n",
       "      <td>5</td>\n",
       "    </tr>\n",
       "    <tr>\n",
       "      <th>2019-01-04</th>\n",
       "      <td>8</td>\n",
       "      <td>6</td>\n",
       "      <td>1</td>\n",
       "      <td>8</td>\n",
       "    </tr>\n",
       "    <tr>\n",
       "      <th>2019-01-05</th>\n",
       "      <td>7</td>\n",
       "      <td>1</td>\n",
       "      <td>8</td>\n",
       "      <td>7</td>\n",
       "    </tr>\n",
       "  </tbody>\n",
       "</table>\n",
       "</div>"
      ],
      "text/plain": [
       "            B  D  C  A\n",
       "2019-01-03  4  6  7  2\n",
       "2019-01-06  9  9  8  5\n",
       "2019-01-02  9  5  3  7\n",
       "2019-01-01  0  3  3  5\n",
       "2019-01-04  8  6  1  8\n",
       "2019-01-05  7  1  8  7"
      ]
     },
     "metadata": {},
     "output_type": "display_data"
    },
    {
     "data": {
      "text/html": [
       "<div>\n",
       "<style scoped>\n",
       "    .dataframe tbody tr th:only-of-type {\n",
       "        vertical-align: middle;\n",
       "    }\n",
       "\n",
       "    .dataframe tbody tr th {\n",
       "        vertical-align: top;\n",
       "    }\n",
       "\n",
       "    .dataframe thead th {\n",
       "        text-align: right;\n",
       "    }\n",
       "</style>\n",
       "<table border=\"1\" class=\"dataframe\">\n",
       "  <thead>\n",
       "    <tr style=\"text-align: right;\">\n",
       "      <th></th>\n",
       "      <th>B</th>\n",
       "      <th>D</th>\n",
       "      <th>C</th>\n",
       "      <th>A</th>\n",
       "    </tr>\n",
       "  </thead>\n",
       "  <tbody>\n",
       "    <tr>\n",
       "      <th>2019-01-06</th>\n",
       "      <td>9</td>\n",
       "      <td>9</td>\n",
       "      <td>8</td>\n",
       "      <td>5</td>\n",
       "    </tr>\n",
       "    <tr>\n",
       "      <th>2019-01-05</th>\n",
       "      <td>7</td>\n",
       "      <td>1</td>\n",
       "      <td>8</td>\n",
       "      <td>7</td>\n",
       "    </tr>\n",
       "    <tr>\n",
       "      <th>2019-01-04</th>\n",
       "      <td>8</td>\n",
       "      <td>6</td>\n",
       "      <td>1</td>\n",
       "      <td>8</td>\n",
       "    </tr>\n",
       "    <tr>\n",
       "      <th>2019-01-03</th>\n",
       "      <td>4</td>\n",
       "      <td>6</td>\n",
       "      <td>7</td>\n",
       "      <td>2</td>\n",
       "    </tr>\n",
       "    <tr>\n",
       "      <th>2019-01-02</th>\n",
       "      <td>9</td>\n",
       "      <td>5</td>\n",
       "      <td>3</td>\n",
       "      <td>7</td>\n",
       "    </tr>\n",
       "    <tr>\n",
       "      <th>2019-01-01</th>\n",
       "      <td>0</td>\n",
       "      <td>3</td>\n",
       "      <td>3</td>\n",
       "      <td>5</td>\n",
       "    </tr>\n",
       "  </tbody>\n",
       "</table>\n",
       "</div>"
      ],
      "text/plain": [
       "            B  D  C  A\n",
       "2019-01-06  9  9  8  5\n",
       "2019-01-05  7  1  8  7\n",
       "2019-01-04  8  6  1  8\n",
       "2019-01-03  4  6  7  2\n",
       "2019-01-02  9  5  3  7\n",
       "2019-01-01  0  3  3  5"
      ]
     },
     "metadata": {},
     "output_type": "display_data"
    }
   ],
   "source": [
    "import numpy as np\n",
    "import pandas as pd\n",
    "\n",
    "np.random.seed(0)\n",
    "df = pd.DataFrame( np.random.randint(0,10,(6,4)),\n",
    "                  columns = [\"A\",\"B\",\"C\",\"D\"],\n",
    "                  index= pd.date_range(\"20190101\",periods=6) )\n",
    "display(df)\n",
    "\n",
    "# 새로운 데이터프레임에 df 인덱스 바꿔친 값을 넣은다.\n",
    "random_index = np.random.permutation(df.index)\n",
    "df2 = df.reindex(index=random_index, columns=[\"B\",\"D\",\"C\",\"A\"])\n",
    "\n",
    "# 이거 한 이유는 섞여있는것을 다시 sort_index()로 정렬하기 위해;;\n",
    "display(df2)\n",
    "\n",
    "df2.sort_index(axis=0, ascending=False, inplace=True)\n",
    "# ascending=False하면 내림차순!\n",
    "# axis=1 하면 열의 순서를 정렬 가능!\n",
    "display(df2)"
   ]
  },
  {
   "cell_type": "code",
   "execution_count": null,
   "metadata": {
    "hidden": true
   },
   "outputs": [],
   "source": []
  }
 ],
 "metadata": {
  "kernelspec": {
   "display_name": "data_env",
   "language": "python",
   "name": "data_env"
  },
  "language_info": {
   "codemirror_mode": {
    "name": "ipython",
    "version": 3
   },
   "file_extension": ".py",
   "mimetype": "text/x-python",
   "name": "python",
   "nbconvert_exporter": "python",
   "pygments_lexer": "ipython3",
   "version": "3.6.7"
  },
  "toc": {
   "base_numbering": 1,
   "nav_menu": {},
   "number_sections": true,
   "sideBar": true,
   "skip_h1_title": false,
   "title_cell": "Table of Contents",
   "title_sidebar": "Contents",
   "toc_cell": false,
   "toc_position": {},
   "toc_section_display": true,
   "toc_window_display": false
  },
  "varInspector": {
   "cols": {
    "lenName": 16,
    "lenType": 16,
    "lenVar": 40
   },
   "kernels_config": {
    "python": {
     "delete_cmd_postfix": "",
     "delete_cmd_prefix": "del ",
     "library": "var_list.py",
     "varRefreshCmd": "print(var_dic_list())"
    },
    "r": {
     "delete_cmd_postfix": ") ",
     "delete_cmd_prefix": "rm(",
     "library": "var_list.r",
     "varRefreshCmd": "cat(var_dic_list()) "
    }
   },
   "types_to_exclude": [
    "module",
    "function",
    "builtin_function_or_method",
    "instance",
    "_Feature"
   ],
   "window_display": false
  }
 },
 "nbformat": 4,
 "nbformat_minor": 2
}
