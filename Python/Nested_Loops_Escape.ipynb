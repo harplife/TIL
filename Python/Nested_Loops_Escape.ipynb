{
 "cells": [
  {
   "cell_type": "markdown",
   "metadata": {},
   "source": [
    "# Nested Loops Escape\n",
    "\n",
    "    -- abstract --\n",
    "    It's not easy to break out of nested loops.\n",
    "    Van Guido (Python Creator) suggests that we refactor the code and use Return.\n",
    "    However, refactoring can be a bit difficult, and we just want quick and easy.\n",
    "    We explore the alternate solution instead;\n",
    "    That is, we surround the loop with Try Exception block!\n",
    "    \n",
    "    -- explanation --\n",
    "    Make a custom Exception that only Pass when exeption occur.\n",
    "    Surround the nested loops with Try Except block,\n",
    "    and then raise custom Exception when the nested loops needs to break.\n",
    "    \n",
    "    -- SO ref --\n",
    "    https://stackoverflow.com/a/3171971/10570582"
   ]
  },
  {
   "cell_type": "markdown",
   "metadata": {},
   "source": [
    "## Custom Exception + Context Manager\n",
    "\n",
    "    Context Manager allows the use of Custom Exception without using Try Except block."
   ]
  },
  {
   "cell_type": "code",
   "execution_count": 1,
   "metadata": {},
   "outputs": [],
   "source": [
    "from contextlib import contextmanager\n",
    "\n",
    "@contextmanager\n",
    "def nested_break():\n",
    "    class NestedBreakException(Exception):\n",
    "        pass\n",
    "    try:\n",
    "        yield NestedBreakException\n",
    "    except NestedBreakException:\n",
    "        pass"
   ]
  },
  {
   "cell_type": "markdown",
   "metadata": {},
   "source": [
    "## Test\n",
    "\n",
    "    Break condition is within two infinite loops.\n",
    "    Raising the custom exception will break out of both loops."
   ]
  },
  {
   "cell_type": "code",
   "execution_count": 14,
   "metadata": {},
   "outputs": [
    {
     "name": "stdout",
     "output_type": "stream",
     "text": [
      "You are in a 'nesty' loop!\n",
      "Would you like to break out? (y/n): y\n"
     ]
    }
   ],
   "source": [
    "with nested_break() as mylabel:\n",
    "    while True:\n",
    "        print(\"You are in a 'nesty' loop!\")\n",
    "        while True:\n",
    "            ok = input(\"Would you like to break out? (y/n): \")\n",
    "            if ok.lower() == \"y\" : raise mylabel\n",
    "            elif ok.lower() == \"n\" : break\n",
    "            else : break\n",
    "        print(\"\\ncontinue looping\\n\")"
   ]
  },
  {
   "cell_type": "code",
   "execution_count": null,
   "metadata": {},
   "outputs": [],
   "source": []
  }
 ],
 "metadata": {
  "kernelspec": {
   "display_name": "gpu_env",
   "language": "python",
   "name": "gpu_env"
  },
  "language_info": {
   "codemirror_mode": {
    "name": "ipython",
    "version": 3
   },
   "file_extension": ".py",
   "mimetype": "text/x-python",
   "name": "python",
   "nbconvert_exporter": "python",
   "pygments_lexer": "ipython3",
   "version": "3.7.6"
  }
 },
 "nbformat": 4,
 "nbformat_minor": 4
}
