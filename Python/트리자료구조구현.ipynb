{
 "cells": [
  {
   "cell_type": "markdown",
   "id": "978dc0cc",
   "metadata": {},
   "source": [
    "# 파이썬으로 트리 구조 자료형 구현해보기"
   ]
  },
  {
   "cell_type": "code",
   "execution_count": 1,
   "id": "10085172",
   "metadata": {},
   "outputs": [],
   "source": [
    "# 데이터의 관계를 인덱스로서 Parent, Child 로 구현한 목록\n",
    "relations = [(2,6), (3,7), (4,8), (9,10), (10, 11), (1,2), (1,3), (1,4), (2,5)]"
   ]
  },
  {
   "cell_type": "code",
   "execution_count": 2,
   "id": "287ff696",
   "metadata": {},
   "outputs": [],
   "source": [
    "def make_tree_graph(relations):\n",
    "    '''\n",
    "    관계목록을 받아 각 데이터를 노드로 변환하고, 트리구조 관계를 정의한다.\n",
    "    \n",
    "    Relations: list of (parent, child) pair tuples.\n",
    "    \n",
    "    Anytree 라는 패키지를 사용해서 구현한다.\n",
    "    설치: pip install anytree\n",
    "    '''\n",
    "    from anytree import Node, RenderTree\n",
    "    from itertools import chain\n",
    "    \n",
    "    unique_indices = list(set(chain.from_iterable(relations)))\n",
    "    unique_nodes = {x: Node(x, text=f\"text_{x}\") for x in unique_indices}\n",
    "    \n",
    "    # 누가 부모인지만 제대로 정의해주면 부모 노드의 정보가 자동으로 업데이트 된다.\n",
    "    for parent, child in relations:\n",
    "        parent_node = unique_nodes[parent]\n",
    "        child_node = unique_nodes[child]\n",
    "        child_node.parent = parent_node\n",
    "    \n",
    "    return unique_nodes"
   ]
  },
  {
   "cell_type": "code",
   "execution_count": 3,
   "id": "a863e35a",
   "metadata": {},
   "outputs": [],
   "source": [
    "unique_nodes = make_tree_graph(relations)"
   ]
  },
  {
   "cell_type": "code",
   "execution_count": 4,
   "id": "e78b4213",
   "metadata": {},
   "outputs": [
    {
     "name": "stdout",
     "output_type": "stream",
     "text": [
      "1\n",
      "├── 2\n",
      "│   ├── 6\n",
      "│   └── 5\n",
      "├── 3\n",
      "│   └── 7\n",
      "└── 4\n",
      "    └── 8\n"
     ]
    }
   ],
   "source": [
    "from anytree import RenderTree\n",
    "\n",
    "# 한개의 노트에 대해서 트리를 RenderTree 함수를 사용해서 그려볼수 있다 (print만 가능).\n",
    "for pre, fill, node in RenderTree(unique_nodes[1]):\n",
    "    print(f'{pre}{node.name}')"
   ]
  },
  {
   "cell_type": "code",
   "execution_count": 5,
   "id": "101f1b0b",
   "metadata": {},
   "outputs": [
    {
     "data": {
      "text/plain": [
       "{1: Node('/1', text='text_1'),\n",
       " 2: Node('/1/2', text='text_2'),\n",
       " 3: Node('/1/3', text='text_3'),\n",
       " 4: Node('/1/4', text='text_4'),\n",
       " 5: Node('/1/2/5', text='text_5'),\n",
       " 6: Node('/1/2/6', text='text_6'),\n",
       " 7: Node('/1/3/7', text='text_7'),\n",
       " 8: Node('/1/4/8', text='text_8'),\n",
       " 9: Node('/9', text='text_9'),\n",
       " 10: Node('/9/10', text='text_10'),\n",
       " 11: Node('/9/10/11', text='text_11')}"
      ]
     },
     "execution_count": 5,
     "metadata": {},
     "output_type": "execute_result"
    }
   ],
   "source": [
    "unique_nodes"
   ]
  },
  {
   "cell_type": "code",
   "execution_count": 6,
   "id": "34de9283",
   "metadata": {},
   "outputs": [],
   "source": [
    "def get_all_children(node, node_list=None):\n",
    "    '''\n",
    "    Recursive하게 자식 노드들을 가져와본다.\n",
    "    '''\n",
    "    \n",
    "    if not node_list:\n",
    "        node_list = []\n",
    "    for child in node.children:\n",
    "        node_list.append(child)\n",
    "        get_all_children(child, node_list)\n",
    "    return node_list"
   ]
  },
  {
   "cell_type": "code",
   "execution_count": 7,
   "id": "4261733c",
   "metadata": {},
   "outputs": [
    {
     "name": "stdout",
     "output_type": "stream",
     "text": [
      "Node('/1', text='text_1')\n",
      "[Node('/1/2', text='text_2'), Node('/1/2/6', text='text_6'), Node('/1/2/5', text='text_5'), Node('/1/3', text='text_3'), Node('/1/3/7', text='text_7'), Node('/1/4', text='text_4'), Node('/1/4/8', text='text_8')]\n",
      "Node('/9', text='text_9')\n",
      "[Node('/9/10', text='text_10'), Node('/9/10/11', text='text_11')]\n"
     ]
    }
   ],
   "source": [
    "for key, node in unique_nodes.items():\n",
    "    # 노드가 최상위(Root)인지 확인 후, 모든 자식들 출력\n",
    "    if node.is_root:\n",
    "        children = get_all_children(node)\n",
    "        print(node)\n",
    "        print(children)"
   ]
  }
 ],
 "metadata": {
  "kernelspec": {
   "display_name": "gen_env",
   "language": "python",
   "name": "gen_env"
  },
  "language_info": {
   "codemirror_mode": {
    "name": "ipython",
    "version": 3
   },
   "file_extension": ".py",
   "mimetype": "text/x-python",
   "name": "python",
   "nbconvert_exporter": "python",
   "pygments_lexer": "ipython3",
   "version": "3.8.12"
  }
 },
 "nbformat": 4,
 "nbformat_minor": 5
}
