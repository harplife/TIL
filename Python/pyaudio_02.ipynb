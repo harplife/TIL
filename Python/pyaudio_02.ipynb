{
 "cells": [
  {
   "cell_type": "markdown",
   "metadata": {},
   "source": [
    "# pyaudio 패키지로 binaural sine wave 만들기\n",
    "\n",
    "참고: https://en.wikipedia.org/wiki/List_of_intervals_in_5-limit_just_intonation\n",
    "참고: https://pypi.org/project/AccelBrainBeat/#files\n",
    "\n",
    "pip install pyaudio\n",
    "\n",
    "주의: pyaudio가 깔리지 않으면 Visual Studio 깔아줘야됨..\n",
    "\n",
    "struct: https://docs.python.org/2/library/struct.html#struct.pack"
   ]
  },
  {
   "cell_type": "markdown",
   "metadata": {},
   "source": [
    "## import"
   ]
  },
  {
   "cell_type": "code",
   "execution_count": 1,
   "metadata": {},
   "outputs": [],
   "source": [
    "import pyaudio\n",
    "import numpy as np\n",
    "import struct"
   ]
  },
  {
   "cell_type": "markdown",
   "metadata": {},
   "source": [
    "## 소리 생성 및 play!"
   ]
  },
  {
   "cell_type": "code",
   "execution_count": 51,
   "metadata": {},
   "outputs": [
    {
     "name": "stdout",
     "output_type": "stream",
     "text": [
      "Wall time: 3.18 s\n"
     ]
    }
   ],
   "source": [
    "%%time\n",
    "\n",
    "p = pyaudio.PyAudio()\n",
    "\n",
    "duration = 3\n",
    "fps = 48000\n",
    "\n",
    "# for paFloat32 sample values must be in range [-1.0, 1.0]\n",
    "stream = p.open(format=pyaudio.paFloat32,\n",
    "                channels=2,\n",
    "                rate=fps,\n",
    "                output=True)\n",
    "\n",
    "def note(freq, duration, fps):\n",
    "    wave = np.array(np.sin(2 * np.pi * np.arange(fps * duration) * freq / fps), dtype=np.float32)\n",
    "    return wave\n",
    "\n",
    "# generate samples, note conversion to float32 array\n",
    "left = note(250, duration, fps)\n",
    "right = note(254, duration, fps)\n",
    "for i in range(len(left)):\n",
    "    audio = struct.pack(\"2f\", left[i], right[i])\n",
    "    stream.write(audio)\n",
    "\n",
    "\n",
    "stream.stop_stream()\n",
    "stream.close()\n",
    "p.terminate()"
   ]
  }
 ],
 "metadata": {
  "kernelspec": {
   "display_name": "data_env",
   "language": "python",
   "name": "data_env"
  },
  "language_info": {
   "codemirror_mode": {
    "name": "ipython",
    "version": 3
   },
   "file_extension": ".py",
   "mimetype": "text/x-python",
   "name": "python",
   "nbconvert_exporter": "python",
   "pygments_lexer": "ipython3",
   "version": "3.6.8"
  }
 },
 "nbformat": 4,
 "nbformat_minor": 2
}
