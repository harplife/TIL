{
 "cells": [
  {
   "cell_type": "markdown",
   "metadata": {},
   "source": [
    "# Crawling Naver Top Search Result"
   ]
  },
  {
   "cell_type": "code",
   "execution_count": 4,
   "metadata": {},
   "outputs": [
    {
     "name": "stdout",
     "output_type": "stream",
     "text": [
      "1. 위메프복권\n",
      "2. 파세코 창문형 에어컨\n",
      "3. 어헤즈 특가\n",
      "4. 양정철\n",
      "5. 양현석\n",
      "6. 배리나\n",
      "7. 김해공항\n",
      "8. 에뛰드 하우스\n",
      "9. 토스 5만원이벤트\n",
      "10. 소인수분해\n",
      "11. 조작된 도시\n",
      "12. 제주공항\n",
      "13. 빅히트샵\n",
      "14. yg엔터테인먼트\n",
      "15. 창문형 에어컨\n",
      "16. 김하늘\n",
      "17. 태풍\n",
      "18. 베리굿\n",
      "19. 삼성 채용\n",
      "20. 효린 카톡\n"
     ]
    }
   ],
   "source": [
    "import requests\n",
    "from bs4 import BeautifulSoup as BS\n",
    "\n",
    "url = 'https://www.naver.com/'\n",
    "response = requests.get(url).text\n",
    "\n",
    "soup = BS(response, 'html.parser')\n",
    "\n",
    "results = soup.select('.ah_roll_area.PM_CL_realtimeKeyword_rolling .ah_k')\n",
    "\n",
    "idx = 0\n",
    "\n",
    "for result in results:\n",
    "  idx = idx + 1\n",
    "  print(\"{}. {}\".format(idx, result.text))"
   ]
  }
 ],
 "metadata": {
  "kernelspec": {
   "display_name": "keras_env",
   "language": "python",
   "name": "keras_env"
  },
  "language_info": {
   "codemirror_mode": {
    "name": "ipython",
    "version": 3
   },
   "file_extension": ".py",
   "mimetype": "text/x-python",
   "name": "python",
   "nbconvert_exporter": "python",
   "pygments_lexer": "ipython3",
   "version": "3.6.7"
  },
  "toc": {
   "base_numbering": 1,
   "nav_menu": {},
   "number_sections": true,
   "sideBar": true,
   "skip_h1_title": false,
   "title_cell": "Table of Contents",
   "title_sidebar": "Contents",
   "toc_cell": false,
   "toc_position": {},
   "toc_section_display": true,
   "toc_window_display": false
  },
  "varInspector": {
   "cols": {
    "lenName": 16,
    "lenType": 16,
    "lenVar": 40
   },
   "kernels_config": {
    "python": {
     "delete_cmd_postfix": "",
     "delete_cmd_prefix": "del ",
     "library": "var_list.py",
     "varRefreshCmd": "print(var_dic_list())"
    },
    "r": {
     "delete_cmd_postfix": ") ",
     "delete_cmd_prefix": "rm(",
     "library": "var_list.r",
     "varRefreshCmd": "cat(var_dic_list()) "
    }
   },
   "types_to_exclude": [
    "module",
    "function",
    "builtin_function_or_method",
    "instance",
    "_Feature"
   ],
   "window_display": false
  }
 },
 "nbformat": 4,
 "nbformat_minor": 2
}
