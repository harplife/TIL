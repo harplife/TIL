{
 "cells": [
  {
   "cell_type": "markdown",
   "metadata": {},
   "source": [
    "# EPOCH/POSIX/UNIX time?"
   ]
  },
  {
   "cell_type": "markdown",
   "metadata": {},
   "source": [
    "## 파이썬 datetime 자료구조"
   ]
  },
  {
   "cell_type": "code",
   "execution_count": 1,
   "metadata": {},
   "outputs": [
    {
     "name": "stdout",
     "output_type": "stream",
     "text": [
      "2019-06-17\n",
      "2019-06-18 08:44:44.759835\n",
      "2019-06-18 10:24:44.759835\n"
     ]
    }
   ],
   "source": [
    "from datetime import date, datetime, timedelta\n",
    "\n",
    "today = date.today()\n",
    "# timedelta값은 시간 간격. 오늘날짜에 n일 수를 빼고 더할수 있다.\n",
    "days = timedelta(days=-1)\n",
    "print(today + days)\n",
    "\n",
    "# hours, minutes, seconds, weeks, days 덧셈뺄셈 가능\n",
    "today = datetime.today()\n",
    "hours = timedelta(hours=-2)\n",
    "print(today + hours)\n",
    "mins = timedelta(minutes=-20)\n",
    "print(today + mins)"
   ]
  },
  {
   "cell_type": "code",
   "execution_count": 2,
   "metadata": {},
   "outputs": [
    {
     "name": "stdout",
     "output_type": "stream",
     "text": [
      "2019-04-18\n"
     ]
    }
   ],
   "source": [
    "from dateutil.relativedelta import relativedelta\n",
    "\n",
    "today = date.today()\n",
    "months = relativedelta(months=-2)\n",
    "print(today+months)\n",
    "# 월 단위 계산은 linear가 아닌 relative이다!\n",
    "# 3월 31일의 한달 전은 2월 31일이 아닌 2월 28일이 된다."
   ]
  },
  {
   "cell_type": "code",
   "execution_count": 3,
   "metadata": {},
   "outputs": [
    {
     "name": "stdout",
     "output_type": "stream",
     "text": [
      "현재 날짜는 2019-06-18\n",
      "현재 날짜는 2019.06.18\n",
      "현재 날짜는 2019/06/18\n",
      "현재 날짜는 20190618\n",
      "현재 날짜는 06.18.2019\n"
     ]
    }
   ],
   "source": [
    "print(\"현재 날짜는 {}\".format(today))\n",
    "print(\"현재 날짜는 {}\".format(today.strftime(\"%Y.%m.%d\")))\n",
    "print(\"현재 날짜는 {}\".format(today.strftime(\"%Y/%m/%d\")))\n",
    "print(\"현재 날짜는 {}\".format(today.strftime(\"%Y%m%d\")))\n",
    "print(\"현재 날짜는 {}\".format(today.strftime(\"%m.%d.%Y\")))"
   ]
  },
  {
   "cell_type": "markdown",
   "metadata": {},
   "source": [
    "## 참고자료~\n",
    "1. https://docs.python.org/3/library/datetime.html#datetime.date.timetuple\n",
    "2. https://docs.python.org/3/library/time.html#time.struct_time\n",
    "3. https://docs.python.org/3/library/time.html#time.mktime"
   ]
  },
  {
   "cell_type": "code",
   "execution_count": 6,
   "metadata": {},
   "outputs": [
    {
     "name": "stdout",
     "output_type": "stream",
     "text": [
      "2019-01-01 00:00:00\n",
      "<class 'datetime.datetime'>\n",
      "2019-01-01 00:00:00\n",
      "<class 'pandas._libs.tslibs.timestamps.Timestamp'>\n",
      "time.struct_time(tm_year=2000, tm_mon=7, tm_mday=30, tm_hour=18, tm_min=45, tm_sec=3, tm_wday=6, tm_yday=212, tm_isdst=0)\n",
      "2000-07-30 18:45:03\n",
      "time.struct_time(tm_year=2019, tm_mon=1, tm_mday=1, tm_hour=0, tm_min=0, tm_sec=0, tm_wday=1, tm_yday=1, tm_isdst=-1)\n",
      "1546268400.0\n",
      "1546268400.0\n"
     ]
    }
   ],
   "source": [
    "import pandas as pd\n",
    "from datetime import date, datetime, timedelta\n",
    "from dateutil.relativedelta import relativedelta\n",
    "from time import mktime, gmtime\n",
    "\n",
    "# 반복문 돌려서 날짜 뽑기\n",
    "start_day = datetime(2019,1,1)\n",
    "s_date = [(start_day + timedelta(days=x)) for x in range(10)]\n",
    "print(s_date[0])\n",
    "print(type(s_date[0]))\n",
    "\n",
    "# 판다 date_range기능 써서 날짜 뽑기\n",
    "dti = pd.Series(pd.date_range('2019-01-01', freq='D', periods=10))\n",
    "print(dti[0])\n",
    "print(type(dti[0]))\n",
    "\n",
    "print( gmtime(964982703) )\n",
    "\n",
    "dt = datetime.fromtimestamp(mktime(gmtime(964982703)))\n",
    "print(dt)\n",
    "\n",
    "print( date.timetuple(dti[0]) )\n",
    "print( mktime(date.timetuple(dti[0])) )\n",
    "print( mktime(date.timetuple(s_date[0])) )"
   ]
  }
 ],
 "metadata": {
  "kernelspec": {
   "display_name": "data_env",
   "language": "python",
   "name": "data_env"
  },
  "language_info": {
   "codemirror_mode": {
    "name": "ipython",
    "version": 3
   },
   "file_extension": ".py",
   "mimetype": "text/x-python",
   "name": "python",
   "nbconvert_exporter": "python",
   "pygments_lexer": "ipython3",
   "version": "3.6.7"
  },
  "toc": {
   "base_numbering": 1,
   "nav_menu": {},
   "number_sections": true,
   "sideBar": true,
   "skip_h1_title": false,
   "title_cell": "Table of Contents",
   "title_sidebar": "Contents",
   "toc_cell": false,
   "toc_position": {},
   "toc_section_display": true,
   "toc_window_display": false
  },
  "varInspector": {
   "cols": {
    "lenName": 16,
    "lenType": 16,
    "lenVar": 40
   },
   "kernels_config": {
    "python": {
     "delete_cmd_postfix": "",
     "delete_cmd_prefix": "del ",
     "library": "var_list.py",
     "varRefreshCmd": "print(var_dic_list())"
    },
    "r": {
     "delete_cmd_postfix": ") ",
     "delete_cmd_prefix": "rm(",
     "library": "var_list.r",
     "varRefreshCmd": "cat(var_dic_list()) "
    }
   },
   "types_to_exclude": [
    "module",
    "function",
    "builtin_function_or_method",
    "instance",
    "_Feature"
   ],
   "window_display": false
  }
 },
 "nbformat": 4,
 "nbformat_minor": 2
}
