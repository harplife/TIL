{
 "cells": [
  {
   "cell_type": "markdown",
   "metadata": {},
   "source": [
    "# Generate Sine Wave Audio\n",
    "\n",
    "링크: http://people.csail.mit.edu/hubert/pyaudio/\n",
    "\n",
    "패키지 설치: pip install pyaudio"
   ]
  },
  {
   "cell_type": "markdown",
   "metadata": {},
   "source": [
    "## IMPORT"
   ]
  },
  {
   "cell_type": "code",
   "execution_count": 2,
   "metadata": {},
   "outputs": [],
   "source": [
    "import pyaudio\n",
    "import numpy as np"
   ]
  },
  {
   "cell_type": "markdown",
   "metadata": {},
   "source": [
    "## Generate!"
   ]
  },
  {
   "cell_type": "code",
   "execution_count": 128,
   "metadata": {},
   "outputs": [
    {
     "name": "stdout",
     "output_type": "stream",
     "text": [
      "Wall time: 5.29 s\n"
     ]
    }
   ],
   "source": [
    "%%time\n",
    "\n",
    "p = pyaudio.PyAudio()\n",
    "\n",
    "# sampling rate, Hz, must be integer\n",
    "# fps == Frame Per Second\n",
    "# fs = 44100\n",
    "fps = 48000 # sounds a lot better.. 44100 causes some kind of ringing noise\n",
    "\n",
    "# in seconds, may be float\n",
    "duration = 5.0\n",
    "\n",
    "# sine frequency, Hz, may be float\n",
    "f = 1000.0\n",
    "\n",
    "# generate samples, note conversion to float32 array\n",
    "samples = np.array(np.sin(2 * np.pi * np.arange(fps * duration) * f / fps), dtype=np.float32)\n",
    "# sine_wave = np.array([np.sin(2 * np.pi * f * x/fps) for x in range(num_samples*int(duration))], dtype=np.float32).tobytes()\n",
    "\n",
    "noise = np.array(np.sin(2 * np.pi * np.arange(fps * duration) * 500 / fps), dtype=np.float32)\n",
    "noise2 = np.array(np.sin(2 * np.pi * np.arange(fps * duration) * 250 / fps), dtype=np.float32)\n",
    "noise3 = np.array(np.sin(2 * np.pi * np.arange(fps * duration) * 125 / fps), dtype=np.float32)\n",
    "noise4 = np.array(np.sin(2 * np.pi * np.arange(fps * duration) * 62.5 / fps), dtype=np.float32)*2\n",
    "noise5 = np.array(np.sin(2 * np.pi * np.arange(fps * duration) * 2000 / fps), dtype=np.float32)/30\n",
    "\n",
    "combined = ((samples + noise + noise2 + noise3 + noise4 + noise5)/5).tobytes()\n",
    "\n",
    "# for paFloat32 sample values must be in range [-1.0, 1.0]\n",
    "stream = p.open(format=pyaudio.paFloat32,\n",
    "                channels=1,\n",
    "                rate=fps,\n",
    "                output=True)\n",
    "\n",
    "# play. May repeat with different volume values (if done interactively) \n",
    "stream.write(combined)\n",
    "\n",
    "stream.stop_stream()\n",
    "stream.close()\n",
    "\n",
    "p.terminate()"
   ]
  },
  {
   "cell_type": "markdown",
   "metadata": {},
   "source": [
    "# Another approach\n",
    "\n",
    "Using python Wave package (no installation needed)\n",
    "\n",
    "link: https://www.pythonforengineers.com/audio-and-digital-signal-processingdsp-in-python/"
   ]
  },
  {
   "cell_type": "markdown",
   "metadata": {},
   "source": [
    "## IMPORT"
   ]
  },
  {
   "cell_type": "code",
   "execution_count": 84,
   "metadata": {},
   "outputs": [],
   "source": [
    "import numpy as np\n",
    "import wave\n",
    "import struct"
   ]
  },
  {
   "cell_type": "markdown",
   "metadata": {},
   "source": [
    "## Generate!"
   ]
  },
  {
   "cell_type": "code",
   "execution_count": 85,
   "metadata": {},
   "outputs": [],
   "source": [
    "# frequency is the number of times a wave repeats a second\n",
    "frequency = 1000\n",
    "noisy_freq = 50\n",
    "\n",
    "num_samples = 48000\n",
    "\n",
    "# The sampling rate of the analog to digital convert\n",
    "\n",
    "sampling_rate = 48000.0\n",
    " \n",
    "amplitude = 16000"
   ]
  },
  {
   "cell_type": "code",
   "execution_count": 86,
   "metadata": {},
   "outputs": [],
   "source": [
    "sine_wave = [np.sin(2 * np.pi * frequency * x/sampling_rate) for x in range(num_samples)]\n",
    "sine_noise = [np.sin(2 * np.pi * noisy_freq * x1/  sampling_rate) for x1 in range(num_samples)]"
   ]
  },
  {
   "cell_type": "code",
   "execution_count": 87,
   "metadata": {},
   "outputs": [],
   "source": [
    "#Convert them to numpy arrays\n",
    "sine_wave = np.array(sine_wave)\n",
    "sine_noise = np.array(sine_noise)\n",
    "\n",
    "# Add them to create a noisy signal\n",
    "combined_signal = sine_wave + sine_noise"
   ]
  },
  {
   "cell_type": "code",
   "execution_count": 88,
   "metadata": {},
   "outputs": [],
   "source": [
    "nframes=num_samples\n",
    " \n",
    "comptype=\"NONE\"\n",
    " \n",
    "compname=\"not compressed\"\n",
    " \n",
    "nchannels=1\n",
    " \n",
    "sampwidth=2"
   ]
  },
  {
   "cell_type": "code",
   "execution_count": 89,
   "metadata": {},
   "outputs": [],
   "source": [
    "file = \"test_w_noise.wav\"\n",
    "wav_file=wave.open(file, 'w')\n",
    "\n",
    "wav_file.setparams((nchannels, sampwidth, int(sampling_rate), nframes, comptype, compname))"
   ]
  },
  {
   "cell_type": "code",
   "execution_count": 90,
   "metadata": {},
   "outputs": [],
   "source": [
    "for s in combined_signal:\n",
    "   wav_file.writeframes(struct.pack('h', int(s*amplitude)))"
   ]
  }
 ],
 "metadata": {
  "kernelspec": {
   "display_name": "keras_env",
   "language": "python",
   "name": "keras_env"
  },
  "language_info": {
   "codemirror_mode": {
    "name": "ipython",
    "version": 3
   },
   "file_extension": ".py",
   "mimetype": "text/x-python",
   "name": "python",
   "nbconvert_exporter": "python",
   "pygments_lexer": "ipython3",
   "version": "3.6.7"
  },
  "toc": {
   "base_numbering": 1,
   "nav_menu": {},
   "number_sections": true,
   "sideBar": true,
   "skip_h1_title": false,
   "title_cell": "Table of Contents",
   "title_sidebar": "Contents",
   "toc_cell": false,
   "toc_position": {},
   "toc_section_display": true,
   "toc_window_display": false
  },
  "varInspector": {
   "cols": {
    "lenName": 16,
    "lenType": 16,
    "lenVar": 40
   },
   "kernels_config": {
    "python": {
     "delete_cmd_postfix": "",
     "delete_cmd_prefix": "del ",
     "library": "var_list.py",
     "varRefreshCmd": "print(var_dic_list())"
    },
    "r": {
     "delete_cmd_postfix": ") ",
     "delete_cmd_prefix": "rm(",
     "library": "var_list.r",
     "varRefreshCmd": "cat(var_dic_list()) "
    }
   },
   "types_to_exclude": [
    "module",
    "function",
    "builtin_function_or_method",
    "instance",
    "_Feature"
   ],
   "window_display": false
  }
 },
 "nbformat": 4,
 "nbformat_minor": 2
}
