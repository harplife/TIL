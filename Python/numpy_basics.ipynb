{
 "cells": [
  {
   "cell_type": "markdown",
   "metadata": {},
   "source": [
    "# Numpy 간단 이해\n",
    "\n",
    "설치: `pip install numpy` OR `conda install numpy`\n",
    "\n",
    "1. numpy 특징\n",
    "    - vector, matrix 계사넹 특화된 python library\n",
    "    - 빠른 속도, 적은 메모리, ndarray라는 배열 이용\n",
    "    - 다른 library(matplot 등)의 기반이 되는 library\n",
    "\n",
    "\n",
    "2. numpy array(ndarray)\n",
    "    - np.array(list, dtype=np.float62)\n",
    "\n",
    "\n",
    "3. Numpy array 특징\n",
    "    - arr.ndim, arr.shape, arr.size, axis\n",
    "\n",
    "\n",
    "4. numpy array 다양한 생성 함수\n",
    "    - zeros(), ones(), full(), empty()\n",
    "    - zeros_like(), arange, linspace()\n",
    "    - random기반 생성 함수 (05_numpy_mat 참고)"
   ]
  },
  {
   "cell_type": "markdown",
   "metadata": {},
   "source": [
    "## numpy 자료구조"
   ]
  },
  {
   "cell_type": "code",
   "execution_count": 1,
   "metadata": {},
   "outputs": [
    {
     "name": "stdout",
     "output_type": "stream",
     "text": [
      "a[0] : 1, a[0]의 타입: <class 'int'>\n",
      "<class 'numpy.ndarray'>\n",
      "arr[0]:1, arr[0]의 타입:<class 'numpy.int32'>\n",
      "int32\n"
     ]
    }
   ],
   "source": [
    "#numpy에 대한 alisasing은 무조건 np (따른걸로 해도 상관은 없되...)\n",
    "import numpy as np\n",
    "\n",
    "a = [1,2,3,4]\n",
    "print(\"a[0] : {}, a[0]의 타입: {}\".format(a[0],type(a[0])))\n",
    "\n",
    "arr = np.array([1,2,3,4])\n",
    "print(type(arr))\n",
    "print(\"arr[0]:{}, arr[0]의 타입:{}\".format(arr[0],type(arr[0])))\n",
    "print(arr.dtype)"
   ]
  },
  {
   "cell_type": "code",
   "execution_count": 2,
   "metadata": {},
   "outputs": [
    {
     "data": {
      "text/plain": [
       "array(['100', '3.14', 'Hong', 'True'],\n",
       "      dtype='<U32')"
      ]
     },
     "execution_count": 2,
     "metadata": {},
     "output_type": "execute_result"
    }
   ],
   "source": [
    "my_list = [100,3.14,\"Hong\",True]\n",
    "arr = np.array(my_list)\n",
    "# unicode로 출력이 된다.\n",
    "arr"
   ]
  },
  {
   "cell_type": "markdown",
   "metadata": {},
   "source": [
    "## 다차원 배열"
   ]
  },
  {
   "cell_type": "code",
   "execution_count": 8,
   "metadata": {},
   "outputs": [
    {
     "name": "stdout",
     "output_type": "stream",
     "text": [
      "[1, 2, 3]\n",
      "[[1 2 3]\n",
      " [4 5 6]\n",
      " [7 8 9]]\n"
     ]
    }
   ],
   "source": [
    "# 2차원 리스트 (파이썬 리스트)\n",
    "my_list = [[1,2,3],[4,5,6],[7,8,9]]\n",
    "print(my_list[0])\n",
    "# numpy array를 사용하여 수학적 매트릭스 형태로 파이선 2차원 리스트를 볼수있다.\n",
    "arr = np.array(my_list)\n",
    "print(arr)"
   ]
  },
  {
   "cell_type": "markdown",
   "metadata": {},
   "source": [
    "## 인덱싱"
   ]
  },
  {
   "cell_type": "code",
   "execution_count": 10,
   "metadata": {},
   "outputs": [
    {
     "name": "stdout",
     "output_type": "stream",
     "text": [
      "6\n",
      "6\n",
      "[[1. 2. 3.]\n",
      " [4. 5. 6.]\n",
      " [7. 8. 9.]]\n",
      "2  차원 numpy 배열\n",
      "(3, 3)  행과 열\n",
      "3\n",
      "9\n"
     ]
    }
   ],
   "source": [
    "# 파이쏜 인덱싱 방법\n",
    "my_list = [[1,2,3],[4,5,6],[7,8,9]]\n",
    "print(my_list[1][2])\n",
    "\n",
    "# numpy 인덱싱 방법\n",
    "arr = np.array(my_list)\n",
    "print(arr[1,2])\n",
    "\n",
    "# 정수형태의 2차원 리스트의 데이터타입을 지정해줄수 있다.\n",
    "arr = np.array(my_list, dtype=np.float64)\n",
    "print(arr)\n",
    "print(arr.ndim, \" 차원 numpy 배열\") # 배열의 차원을 출력\n",
    "print(arr.shape, \" 행과 열\")# 배열의 형태(행과열의 개수)를 tuple로 출력\n",
    "print(len(arr)) # numpy배열을 len()함수로 보면 약간 적절하지 못 하다! 1차원만 가능한 len()\n",
    "print(arr.size) # len()대신에 .size를 쓰는게 낳다."
   ]
  },
  {
   "cell_type": "markdown",
   "metadata": {},
   "source": [
    "## AXIS\n",
    "\n",
    "    numpy배열의 axis?\n",
    "    axis는 차원에 영향을 받는다.\n",
    "    1차원 = axis = 0\n",
    "    2차원 = axis = 0,1\n",
    "    3차원 = axis = 0,1,2"
   ]
  },
  {
   "cell_type": "code",
   "execution_count": 14,
   "metadata": {},
   "outputs": [
    {
     "name": "stdout",
     "output_type": "stream",
     "text": [
      "[[1. 2. 3.]\n",
      " [4. 5. 6.]\n",
      " [7. 8. 9.]]\n",
      "[12. 15. 18.]\n",
      "[ 6. 15. 24.]\n"
     ]
    }
   ],
   "source": [
    "print(arr)\n",
    "print(arr.sum(axis=0)) # 열의 값들을 더한다\n",
    "print(arr.sum(axis=1)) # 행의 값들을 더한다"
   ]
  },
  {
   "cell_type": "code",
   "execution_count": 41,
   "metadata": {},
   "outputs": [
    {
     "name": "stdout",
     "output_type": "stream",
     "text": [
      "[1 2 3 4 5 6 7 8 9]\n",
      "[[1 2 3]\n",
      " [4 5 6]\n",
      " [7 8 9]]\n",
      "arr1[0,0] = 1\n",
      "arr1[0,1] = 2\n",
      "arr1[0,2] = 3\n",
      "arr1[1,0] = 4\n",
      "arr1[1,1] = 5\n",
      "arr1[1,2] = 6\n",
      "arr1[2,0] = 7\n",
      "arr1[2,1] = 8\n",
      "arr1[2,2] = 9\n"
     ]
    }
   ],
   "source": [
    "import numpy as np\n",
    "\n",
    "my_list1 = [1,2,3,4,5,6,7,8,9]\n",
    "arr1 = np.array(my_list1)\n",
    "print(arr1)\n",
    "arr1.shape = (3,3) # array 형태를 바꿀수 있다. (행3 열3)\n",
    "print(arr1)\n",
    "\n",
    "for x in range(0,arr1.shape[0]):\n",
    "    for y in range(0,arr1.shape[1]):\n",
    "        print(\"arr1[{},{}] = {}\".format(x,y,arr1[x,y]))"
   ]
  },
  {
   "cell_type": "code",
   "execution_count": 19,
   "metadata": {},
   "outputs": [
    {
     "data": {
      "text/plain": [
       "3"
      ]
     },
     "execution_count": 19,
     "metadata": {},
     "output_type": "execute_result"
    }
   ],
   "source": [
    "arr1.shape[0]"
   ]
  },
  {
   "cell_type": "markdown",
   "metadata": {},
   "source": [
    "## 자료구조 변환"
   ]
  },
  {
   "cell_type": "code",
   "execution_count": 27,
   "metadata": {},
   "outputs": [
    {
     "name": "stdout",
     "output_type": "stream",
     "text": [
      "[1. 2. 3. 4. 5.]\n",
      "float64\n",
      "['1' '2' '3' '4' '5']\n",
      "<U11\n"
     ]
    }
   ],
   "source": [
    "arr = np.array([1,2,3,4,5])\n",
    "arr1 = arr.astype(np.float64)\n",
    "print(arr1)\n",
    "print(arr1.dtype)\n",
    "arr1 = arr.astype(np.str)\n",
    "print(arr1)\n",
    "print(arr1.dtype)"
   ]
  },
  {
   "cell_type": "markdown",
   "metadata": {},
   "source": [
    "## 지정 shape으로 0으로 채워진 배열 만들기"
   ]
  },
  {
   "cell_type": "code",
   "execution_count": 33,
   "metadata": {},
   "outputs": [
    {
     "name": "stdout",
     "output_type": "stream",
     "text": [
      "[[[0 0 0 0]\n",
      "  [0 0 0 0]\n",
      "  [0 0 0 0]\n",
      "  [0 0 0 0]]\n",
      "\n",
      " [[0 0 0 0]\n",
      "  [0 0 0 0]\n",
      "  [0 0 0 0]\n",
      "  [0 0 0 0]]\n",
      "\n",
      " [[0 0 0 0]\n",
      "  [0 0 0 0]\n",
      "  [0 0 0 0]\n",
      "  [0 0 0 0]]\n",
      "\n",
      " [[0 0 0 0]\n",
      "  [0 0 0 0]\n",
      "  [0 0 0 0]\n",
      "  [0 0 0 0]]]\n"
     ]
    }
   ],
   "source": [
    "arr_zs = np.zeros((4,4,4),dtype=np.int32)\n",
    "#shape를 튜플로 지정해준다.\n",
    "#dtype도 지정해줄수 있따.\n",
    "print(arr_zs)"
   ]
  },
  {
   "cell_type": "markdown",
   "metadata": {},
   "source": [
    "## 지정 shape으로 1로 채워진 배열 만들기"
   ]
  },
  {
   "cell_type": "code",
   "execution_count": 43,
   "metadata": {},
   "outputs": [
    {
     "name": "stdout",
     "output_type": "stream",
     "text": [
      "[[[1 1 1 1]\n",
      "  [1 1 1 1]\n",
      "  [1 1 1 1]\n",
      "  [1 1 1 1]]\n",
      "\n",
      " [[1 1 1 1]\n",
      "  [1 1 1 1]\n",
      "  [1 1 1 1]\n",
      "  [1 1 1 1]]\n",
      "\n",
      " [[1 1 1 1]\n",
      "  [1 1 1 1]\n",
      "  [1 1 1 1]\n",
      "  [1 1 1 1]]\n",
      "\n",
      " [[1 1 1 1]\n",
      "  [1 1 1 1]\n",
      "  [1 1 1 1]\n",
      "  [1 1 1 1]]]\n"
     ]
    }
   ],
   "source": [
    "import numpy as np\n",
    "\n",
    "arr_os = np.ones((4,4,4),dtype=np.int32)\n",
    "print(arr_os)"
   ]
  },
  {
   "cell_type": "markdown",
   "metadata": {},
   "source": [
    "## 지정 shape으로 비워진 배열 만들기"
   ]
  },
  {
   "cell_type": "code",
   "execution_count": 45,
   "metadata": {},
   "outputs": [
    {
     "data": {
      "text/plain": [
       "array([[[0., 0., 0.],\n",
       "        [0., 0., 0.],\n",
       "        [0., 0., 0.]],\n",
       "\n",
       "       [[0., 0., 0.],\n",
       "        [0., 0., 0.],\n",
       "        [0., 0., 0.]],\n",
       "\n",
       "       [[0., 0., 0.],\n",
       "        [0., 0., 0.],\n",
       "        [0., 0., 0.]]])"
      ]
     },
     "execution_count": 45,
     "metadata": {},
     "output_type": "execute_result"
    }
   ],
   "source": [
    "arr_empt = np.empty((3,3,3))\n",
    "# 초기값을 안주고 공간만 생성\n",
    "# 쓰레기값들이 있을수 있다.\n",
    "arr_empt"
   ]
  },
  {
   "cell_type": "markdown",
   "metadata": {},
   "source": [
    "## 지정 shape으로 지정 값으로 채워진 배열 만들기"
   ]
  },
  {
   "cell_type": "code",
   "execution_count": 46,
   "metadata": {},
   "outputs": [
    {
     "data": {
      "text/plain": [
       "array([[[42, 42, 42, 42],\n",
       "        [42, 42, 42, 42],\n",
       "        [42, 42, 42, 42],\n",
       "        [42, 42, 42, 42]],\n",
       "\n",
       "       [[42, 42, 42, 42],\n",
       "        [42, 42, 42, 42],\n",
       "        [42, 42, 42, 42],\n",
       "        [42, 42, 42, 42]],\n",
       "\n",
       "       [[42, 42, 42, 42],\n",
       "        [42, 42, 42, 42],\n",
       "        [42, 42, 42, 42],\n",
       "        [42, 42, 42, 42]],\n",
       "\n",
       "       [[42, 42, 42, 42],\n",
       "        [42, 42, 42, 42],\n",
       "        [42, 42, 42, 42],\n",
       "        [42, 42, 42, 42]]])"
      ]
     },
     "execution_count": 46,
     "metadata": {},
     "output_type": "execute_result"
    }
   ],
   "source": [
    "arr_ful = np.full((4,4,4),42) # 내가 원하는 값으로 초기화\n",
    "arr_ful"
   ]
  },
  {
   "cell_type": "markdown",
   "metadata": {},
   "source": [
    "## 다른 배열과 같은 shape으로 지정 값으로 채워진 배열 만들기"
   ]
  },
  {
   "cell_type": "code",
   "execution_count": 47,
   "metadata": {},
   "outputs": [
    {
     "data": {
      "text/plain": [
       "array([[[7, 7, 7, 7],\n",
       "        [7, 7, 7, 7],\n",
       "        [7, 7, 7, 7],\n",
       "        [7, 7, 7, 7]],\n",
       "\n",
       "       [[7, 7, 7, 7],\n",
       "        [7, 7, 7, 7],\n",
       "        [7, 7, 7, 7],\n",
       "        [7, 7, 7, 7]],\n",
       "\n",
       "       [[7, 7, 7, 7],\n",
       "        [7, 7, 7, 7],\n",
       "        [7, 7, 7, 7],\n",
       "        [7, 7, 7, 7]],\n",
       "\n",
       "       [[7, 7, 7, 7],\n",
       "        [7, 7, 7, 7],\n",
       "        [7, 7, 7, 7],\n",
       "        [7, 7, 7, 7]]])"
      ]
     },
     "execution_count": 47,
     "metadata": {},
     "output_type": "execute_result"
    }
   ],
   "source": [
    "arr_like = np.full_like(arr_ful,7)\n",
    "# 특정 array의 shape과 같은 array를 지정값으로 생성\n",
    "arr_like"
   ]
  },
  {
   "cell_type": "markdown",
   "metadata": {},
   "source": [
    "## range를 지정해서 배열 채우기"
   ]
  },
  {
   "cell_type": "code",
   "execution_count": 73,
   "metadata": {},
   "outputs": [
    {
     "data": {
      "text/plain": [
       "array([ 0,  2,  4,  6,  8, 10, 12, 14, 16, 18, 20, 22, 24, 26, 28, 30, 32,\n",
       "       34, 36, 38, 40, 42, 44, 46, 48, 50, 52, 54, 56, 58, 60, 62, 64, 66,\n",
       "       68, 70, 72, 74, 76, 78, 80, 82, 84, 86, 88, 90, 92, 94, 96, 98])"
      ]
     },
     "execution_count": 73,
     "metadata": {},
     "output_type": "execute_result"
    }
   ],
   "source": [
    "arr_rang = np.arange(0,100,2) # 0~100 range, 2증가수\n",
    "arr_rang"
   ]
  },
  {
   "cell_type": "markdown",
   "metadata": {},
   "source": [
    "## 지정 개수로 자동으로 증가수 채우기?"
   ]
  },
  {
   "cell_type": "code",
   "execution_count": 79,
   "metadata": {},
   "outputs": [
    {
     "data": {
      "text/plain": [
       "array([ 0.,  2.,  4.,  6.,  8., 10.])"
      ]
     },
     "execution_count": 79,
     "metadata": {},
     "output_type": "execute_result"
    }
   ],
   "source": [
    "arr_spc = np.linspace(0,10,6) # 0~10사이 6개 수\n",
    "# 여기서 중요한건 6개의 수가 만들어지고,\n",
    "# 증가수가 자동으로 지정된다\n",
    "arr_spc"
   ]
  },
  {
   "cell_type": "markdown",
   "metadata": {},
   "source": [
    "## random seed"
   ]
  },
  {
   "cell_type": "code",
   "execution_count": null,
   "metadata": {},
   "outputs": [],
   "source": [
    "import numpy as np\n",
    "\n",
    "\"\"\"\n",
    "random 알고리즘은 특정 초기갑을 이용해서 계산된다\n",
    "이걸 seed 라고 부른다.\n",
    "seed값을 고정시키고 난수를 발생시키면\n",
    "고정적인 (똑같이 발생시킬수 있는) 난수가 발생된다.\n",
    "\"\"\"\n",
    "np.random.seed(5)"
   ]
  },
  {
   "cell_type": "markdown",
   "metadata": {},
   "source": [
    "## 균등분포 만들기"
   ]
  },
  {
   "cell_type": "code",
   "execution_count": 4,
   "metadata": {},
   "outputs": [
    {
     "name": "stdout",
     "output_type": "stream",
     "text": [
      "[[99 78 61 16]\n",
      " [73  8 62 27]\n",
      " [30 80  7 76]]\n"
     ]
    }
   ],
   "source": [
    "arr = np.random.randint(0,100,(3,4))\n",
    "# 0~100사이 균등분포 정수형 난수\n",
    "# 3행 4열\n",
    "print(arr)"
   ]
  },
  {
   "cell_type": "markdown",
   "metadata": {},
   "source": [
    "## ndarray shape 바꾸기\n",
    "\n",
    "\n",
    "NDARRAY의 속성들\n",
    "1. .arange()\n",
    "2. .reshape()\n",
    "3. .copy()\n",
    "\n",
    "** VIEW라는 개념을 잘 이해해야 된다!\n"
   ]
  },
  {
   "cell_type": "code",
   "execution_count": 15,
   "metadata": {},
   "outputs": [
    {
     "name": "stdout",
     "output_type": "stream",
     "text": [
      "type:list = <class 'numpy.ndarray'> : [ 0  1  2  3  4  5  6  7  8  9 10 11]\n"
     ]
    },
    {
     "data": {
      "text/plain": [
       "array([ 0,  1,  2,  3,  4,  5,  6,  7,  8,  9, 10, 11])"
      ]
     },
     "metadata": {},
     "output_type": "display_data"
    },
    {
     "name": "stdout",
     "output_type": "stream",
     "text": [
      "(12,)\n",
      "==============================\n",
      "[[ 0  1  2]\n",
      " [ 3  4  5]\n",
      " [ 6  7  8]\n",
      " [ 9 10 11]]\n",
      "==============================\n",
      "[100   1   2   3   4   5   6   7   8   9  10  11]\n",
      "[[100   1   2]\n",
      " [  3   4   5]\n",
      " [  6   7   8]\n",
      " [  9  10  11]]\n",
      "데이터가 같아요!\n",
      "==============================\n",
      "[100   1   2   3   4   5   6   7   8   9  10  11]\n",
      "데이터가 달라요!\n",
      "[[42  1  2  3  4  5]\n",
      " [ 6  7  8  9 10 11]]\n"
     ]
    }
   ],
   "source": [
    "# .arange는 1차 배열바께 못 만든다!~\n",
    "arr = np.arange(0,12,1)\n",
    "# one thing to note is that printing ndarray and\n",
    "# just returning ndarray output is DIFFERENT.\n",
    "print(\"type:list = {} : {}\".format(type(arr),arr))\n",
    "# display() does the same, but I guess it's more useful?\n",
    "display(arr)\n",
    "# returns a tuple of SHAPE, which is number of ROWS AND COLUMNS\n",
    "print(arr.shape)\n",
    "\n",
    "\n",
    "print(\"=\"*30)\n",
    "\n",
    "# Reshape 할때 조심해야 할 사항은 새로 생성된\n",
    "# numpy배열이 view로 생성된다?\n",
    "arr1 = arr.reshape(4,3)\n",
    "print(arr1)\n",
    "# arr과 arr1은 데이터를 공유한다. rr1은 걍 view 방식이 다른 뿐이다!\n",
    "\n",
    "print(\"=\"*30)\n",
    "arr[0] = 100\n",
    "# arr만 바꿨는데 보니 arr1도 바껴서 보인다!\n",
    "print(arr)\n",
    "print(arr1)\n",
    "if arr1.base is arr:\n",
    "    print(\"데이터가 같아요!\")\n",
    "else:\n",
    "    print(\"데이터가 달라요!\")\n",
    "\n",
    "print(\"=\"*30)\n",
    "# reshape을 하고 데이터를 공유하고 싶지 않을때\n",
    "# .copy()를 사용해서 아예 복사를 한다.\n",
    "arr2 = arr.reshape(2,6).copy()\n",
    "\n",
    "if arr2.base is arr:\n",
    "    print(arr)\n",
    "    print(arr2)\n",
    "    print(\"데이터가 같아요!\")\n",
    "else:\n",
    "    print(arr)\n",
    "    print(\"데이터가 달라요!\")\n",
    "    arr2[0,0]=42\n",
    "    print(arr2)"
   ]
  },
  {
   "cell_type": "markdown",
   "metadata": {},
   "source": [
    "### 자동으로 shape 바꾸기\n",
    "    \n",
    "    자동 행/열 정렬로 reshape\n",
    "    .reshape(-1,n)\n",
    "    .reshape(n,-1)"
   ]
  },
  {
   "cell_type": "code",
   "execution_count": 26,
   "metadata": {},
   "outputs": [
    {
     "name": "stdout",
     "output_type": "stream",
     "text": [
      "[[ 0  1  2  3]\n",
      " [ 4  5  6  7]\n",
      " [ 8  9 10 11]]\n",
      "[[ 0  1  2]\n",
      " [ 3  4  5]\n",
      " [ 6  7  8]\n",
      " [ 9 10 11]]\n",
      "==============================\n",
      "[[ 5 10  8  4]\n",
      " [ 6  0 10  3]\n",
      " [ 4 11 10  8]]\n",
      "[ 5 10  8  4  6  0 10  3  4 11 10  8]\n",
      "False\n"
     ]
    }
   ],
   "source": [
    "arr = np.arange(0,12,1) # 요소가 12개인 numpy array\n",
    "arr1 = arr.reshape(-1,4) # 4열짜리인, 자동으로 행 생성. -1을 사용하면 된다.\n",
    "print(arr1)\n",
    "arr1 = arr.reshape(4,-1) # 4행, 자동 열 생성\n",
    "print(arr1)\n",
    "\n",
    "'''\n",
    "다차원 배열을 1차원 배열로 바꾼다.\n",
    ".ravel()\n",
    "이것도 결국 view만 바꾸는거다.\n",
    "'''\n",
    "print(\"=\"*30)\n",
    "arr2 = np.random.randint(0,12,(3,4))\n",
    "print(arr2)\n",
    "arr3 = arr2.ravel()\n",
    "print(arr3)\n",
    "arr3 = arr2.ravel().copy()\n",
    "print(arr3 is arr2)"
   ]
  },
  {
   "cell_type": "markdown",
   "metadata": {},
   "source": [
    "## .resize 함수에 대한 이해\n",
    "\n",
    "    .resize() 함수 이해\n",
    "    arr.resize(shape)와 np.resize(array,shape)의 차이\n",
    "    원본을 바꾸냐 : 원본의 resize된 모습을 copy한다. (shape하고 copy쓴 느낌?)"
   ]
  },
  {
   "cell_type": "code",
   "execution_count": 42,
   "metadata": {},
   "outputs": [
    {
     "name": "stdout",
     "output_type": "stream",
     "text": [
      "원본 arr: \n",
      " [ 0  1  2  3  4  5  6  7  8  9 10 11]\n",
      "==============================\n",
      "view만 바뀐 arr1: \n",
      " [[ 0  1  2  3]\n",
      " [ 4  5  6  7]\n",
      " [ 8  9 10 11]]\n",
      ".resize()는 원본을 바꾸니, return이 없다: \n",
      " None\n",
      "원본: \n",
      " [[ 0  1  2  3  4  5]\n",
      " [ 6  7  8  9 10 11]]\n",
      "==============================\n",
      "np.resize(arr,shape) 사용: \n",
      " [[ 0  1  2  3  4  5]\n",
      " [ 6  7  8  9 10 11]]\n",
      "False\n",
      "==============================\n",
      "[[ 0  1  2  3]\n",
      " [ 4  5  6  7]\n",
      " [ 8  9 10 11]]\n",
      "==============================\n",
      "[[ 0  1  2  3  4]\n",
      " [ 5  6  7  8  9]\n",
      " [10 11  0  0  0]]\n",
      "==============================\n",
      "[[0 1]\n",
      " [2 3]]\n"
     ]
    }
   ],
   "source": [
    "arr = np.arange(0,12,1)\n",
    "print(\"원본 arr: \\n\", arr)\n",
    "print(\"=\"*30)\n",
    "\n",
    "arr1 = arr.reshape(3,4)\n",
    "print(\"view만 바뀐 arr1: \\n\", arr1)\n",
    "arr2 = arr.resize(2,6)\n",
    "print(\".resize()는 원본을 바꾸니, return이 없다: \\n\",arr2)\n",
    "print(\"원본: \\n\",arr)\n",
    "print(\"=\"*30)\n",
    "\n",
    "arr2 = np.resize(arr,(2,6))\n",
    "print(\"np.resize(arr,shape) 사용: \\n\",arr2)\n",
    "print(arr2 is arr)\n",
    "print(\"=\"*30)\n",
    "\n",
    "\"\"\"\n",
    ".resize() 함수의 특성\n",
    "reshape을 사용하면 사용가능한 shape만 가능한데,\n",
    "resize를 사용하면 요소개수와 상관없이 shape을 갖춘다.\n",
    "요소가 모자르면 0으로 채우고, 남으면 버린다.\n",
    "\"\"\"\n",
    "arr = np.arange(0,12,1)\n",
    "arr.resize(3,4)\n",
    "print(arr)\n",
    "print(\"=\"*30)\n",
    "# 요소가 부족할떄 0 더하기\n",
    "arr.resize(3,5)\n",
    "print(arr)\n",
    "print(\"=\"*30)\n",
    "# 요소가 남으면 버리기\n",
    "arr.resize(2,2)\n",
    "print(arr)"
   ]
  },
  {
   "cell_type": "markdown",
   "metadata": {},
   "source": [
    "## 다른 shape의 배열들을 합치기!\n",
    "\n",
    "    행의 개수가 다른데 열의 개수가 같은\n",
    "    두개의 배열을 연결\n",
    "    .vstack() 함수 (vertical 방향으로 stack, 더하기)\n",
    "    ** 이런 더하는 행위를 concatenation이라 부른다. (연결이란 뜻을 가짐. Interconnect*)\n",
    "    return값은 view임으로 원본 배열들이 수정되면 return값도 다르게 보인다."
   ]
  },
  {
   "cell_type": "code",
   "execution_count": 53,
   "metadata": {},
   "outputs": [
    {
     "name": "stdout",
     "output_type": "stream",
     "text": [
      "[[1 2 3]\n",
      " [4 5 6]]\n",
      "[[ 1  3  5]\n",
      " [ 7  9 11]\n",
      " [13 15 17]\n",
      " [19 21 23]]\n",
      "[[ 1  2  3]\n",
      " [ 4  5  6]\n",
      " [ 1  3  5]\n",
      " [ 7  9 11]\n",
      " [13 15 17]\n",
      " [19 21 23]]\n"
     ]
    }
   ],
   "source": [
    "arr = np.arange(1,7,1)\n",
    "arr.resize(2,3)\n",
    "print(arr)\n",
    "\n",
    "arr1 = np.arange(1,26,2)\n",
    "arr1.resize(4,3)\n",
    "print(arr1)\n",
    "\n",
    "result = np.vstack((arr,arr1))\n",
    "print(result)"
   ]
  },
  {
   "cell_type": "code",
   "execution_count": 55,
   "metadata": {},
   "outputs": [
    {
     "name": "stdout",
     "output_type": "stream",
     "text": [
      "[[1 2 3]\n",
      " [4 5 6]]\n",
      "[[2 3 4 5]\n",
      " [6 7 8 9]]\n",
      "[[1 2 3 2 3 4 5]\n",
      " [4 5 6 6 7 8 9]]\n"
     ]
    }
   ],
   "source": [
    "import numpy as np\n",
    "\n",
    "'''\n",
    "horizontal stacking\n",
    "'''\n",
    "\n",
    "arr1 = np.arange(1,7,1)\n",
    "arr1.resize(2,3)\n",
    "arr2 = np.arange(2,11,1)\n",
    "arr2.resize(2,4)\n",
    "\n",
    "print(arr1)\n",
    "print(arr2)\n",
    "\n",
    "result = np.hstack((arr1,arr2))\n",
    "print(result)"
   ]
  },
  {
   "cell_type": "markdown",
   "metadata": {},
   "source": [
    "## Indexing & Slicing"
   ]
  },
  {
   "cell_type": "code",
   "execution_count": 63,
   "metadata": {},
   "outputs": [
    {
     "name": "stdout",
     "output_type": "stream",
     "text": [
      "0 10\n",
      "1 11\n",
      "2 12\n",
      "3 13\n",
      "4 14\n",
      "5 15\n",
      "6 16\n",
      "7 17\n",
      "8 18\n",
      "9 19\n",
      "==============================\n",
      "[10 11 12]\n",
      "False\n",
      "[1000   11   12]\n",
      "[1000   11   12   13   14   15   16   17   18   19]\n",
      "==============================\n",
      "[1000   12   14   16   18]\n",
      "[  19   18   17   16   15   14   13   12   11 1000]\n"
     ]
    }
   ],
   "source": [
    "import numpy as np\n",
    "'''\n",
    "indexing\n",
    "1. enumerate()\n",
    "\n",
    "slicing\n",
    "1. [index:index]\n",
    "'''\n",
    "\n",
    "arr = np.arange(10,20,1)\n",
    "\n",
    "# 보통 파이썬 for문은 한개씩 표출되나\n",
    "# enumerate()을 사용하면 index와 value가 같이 나온다 => tuple\n",
    "for index,item in enumerate(arr):\n",
    "    print(index, item)\n",
    "    \n",
    "print(\"=\"*30)\n",
    "\n",
    "# numpy에 슬라이싱하면 view가 생성된다.\n",
    "tmp = arr[0:3]\n",
    "print(tmp)\n",
    "# 원본 데이터를 공유하나 reference는 다르다??\n",
    "print(arr is tmp)\n",
    "tmp[0] = 1000\n",
    "print(tmp)\n",
    "print(arr)\n",
    "\n",
    "print(\"=\"*30)\n",
    "\n",
    "'''\n",
    "슬라이싱 하는데 2칸씩 뛴다.\n",
    "'''\n",
    "print(arr[0:-1:2])\n",
    "# 역순으로 슬라이싱\n",
    "print(arr[::-1])"
   ]
  },
  {
   "cell_type": "code",
   "execution_count": 70,
   "metadata": {},
   "outputs": [
    {
     "name": "stdout",
     "output_type": "stream",
     "text": [
      "[[1 2 3]\n",
      " [4 5 6]\n",
      " [7 8 9]]\n",
      "==============================\n",
      "[[1 2]\n",
      " [4 5]\n",
      " [7 8]]\n",
      "==============================\n",
      "[[2 3]\n",
      " [5 6]\n",
      " [8 9]]\n",
      "==============================\n",
      "[[5 6]\n",
      " [8 9]]\n"
     ]
    }
   ],
   "source": [
    "import numpy as np\n",
    "\n",
    "arr = np.arange(1,10,1)\n",
    "arr.resize(3,3)\n",
    "print(arr)\n",
    "print(\"=\"*30)\n",
    "\n",
    "print(arr[:,0:2]) # 각 행의 요소 2개씩 뽑기\n",
    "print(\"=\"*30)\n",
    "\n",
    "print(arr[:,1:3]) # 각 행의 지정된 요소 뽑기\n",
    "print(\"=\"*30)\n",
    "\n",
    "print(arr[1:,1:3]) # 지정된 행의 지정된 요소 뽑기"
   ]
  },
  {
   "cell_type": "markdown",
   "metadata": {},
   "source": [
    "## 논리연산\n",
    "\n",
    "    NUMPY ARRAY에 대한 논리연산\n",
    "    numpy는 기본적으로 boolean indexing을 지원\n",
    "    1. boolean mask\n",
    "    2. boolean indexing\n",
    "\n",
    "    불린 마스크를 사용해서 불린 인덱싱 사용!"
   ]
  },
  {
   "cell_type": "code",
   "execution_count": 3,
   "metadata": {},
   "outputs": [
    {
     "name": "stdout",
     "output_type": "stream",
     "text": [
      "[5 8 9 5 0 0 1 7 6 9]\n",
      "[False  True False False  True  True False False  True False]\n",
      "[8 0 0 6]\n",
      "[8 0 0 6]\n"
     ]
    }
   ],
   "source": [
    "np.random.seed(1)\n",
    "arr = np.random.randint(0,10,(10))\n",
    "print(arr)\n",
    "\n",
    "tmp = (arr%2==0) # boolean mask\n",
    "# 여기선 even 숫자만\n",
    "print(tmp)\n",
    "\n",
    "# boolean indexing\n",
    "# even 숫자 mask를 사용하여 even 숫자만 슬라이싱\n",
    "# TRUE되는 숫자들만 출력이 된다.\n",
    "print(arr[tmp])\n",
    "print(arr[arr%2==0])"
   ]
  },
  {
   "cell_type": "code",
   "execution_count": 89,
   "metadata": {},
   "outputs": [
    {
     "name": "stdout",
     "output_type": "stream",
     "text": [
      "['KIM' 'MOON' 'LEE' 'KIM' 'LEE' 'KIM']\n",
      "[[ 1.76405235  0.40015721  0.97873798]\n",
      " [ 2.2408932   1.86755799 -0.97727788]\n",
      " [ 0.95008842 -0.15135721 -0.10321885]\n",
      " [ 0.4105985   0.14404357  1.45427351]\n",
      " [ 0.76103773  0.12167502  0.44386323]\n",
      " [ 0.33367433  1.49407907 -0.20515826]]\n",
      "==============================\n",
      "['KIM' 'MOON' 'LEE' 'KIM' 'LEE' 'KIM']\n",
      "[False False  True False  True False]\n",
      "ALL THE LEE'S: \n",
      " [[ 0.95008842 -0.15135721 -0.10321885]\n",
      " [ 0.76103773  0.12167502  0.44386323]]\n"
     ]
    }
   ],
   "source": [
    "import numpy as np\n",
    "\n",
    "name_arr = np.array([\"KIM\",\"MOON\",\"LEE\",\"KIM\",\"LEE\",\"KIM\"])\n",
    "\n",
    "np.random.seed(0)\n",
    "data_arr = np.random.randn(6,3) # 6행3열짜리 0,1 분포 난수 생성\n",
    "\n",
    "# 배열 2개 > 맵핑\n",
    "# name_arr[0] => data_arr[0,:]로 간주\n",
    "\n",
    "# 이름이 \"Lee\"인 사람의 data를 추출\n",
    "print(name_arr)\n",
    "print(data_arr)\n",
    "\n",
    "print(\"=\"*30)\n",
    "\n",
    "# 불린 마스크 생성\n",
    "print(name_arr)\n",
    "tmp = (name_arr==\"LEE\")\n",
    "print(tmp)\n",
    "\n",
    "# 불린 마스크를 사용하여 불린 인덱싱\n",
    "# 즉, LEE라는 사람의 데이터를 갖고오는 인덱싱\n",
    "print(\"ALL THE LEE'S: \\n\", data_arr[tmp,:])"
   ]
  },
  {
   "cell_type": "markdown",
   "metadata": {},
   "source": [
    "## Fancy 인덱싱\n",
    "\n",
    "배열에 index배열을 전달해서 배열요소를 참조하는 방식"
   ]
  },
  {
   "cell_type": "code",
   "execution_count": 99,
   "metadata": {},
   "outputs": [
    {
     "name": "stdout",
     "output_type": "stream",
     "text": [
      "[[5 0 3 3 7]\n",
      " [9 3 5 2 4]\n",
      " [7 6 8 8 1]\n",
      " [6 7 7 8 1]]\n",
      "5\n",
      "[5 0 3 3 7]\n",
      "[0 3]\n",
      "[9 6]\n"
     ]
    }
   ],
   "source": [
    "np.random.seed(0)\n",
    "arr = np.random.randint(0,10,(4,5))\n",
    "print(arr)\n",
    "print(arr[0,0]) # 인덱싱\n",
    "print(arr[0,:]) # 슬라이싱\n",
    "\n",
    "# FANCY 인덱싱\n",
    "print(arr[0,[1,3]]) # 1과 3열의 0행 정보 제공\n",
    "\n",
    "print(arr[[1,3],0]) # 1,3행의 0열 정보 제공"
   ]
  },
  {
   "cell_type": "markdown",
   "metadata": {},
   "source": [
    "## 이행연산\n",
    "\n",
    "shape이 똑같은 배열끼리만 가능"
   ]
  },
  {
   "cell_type": "code",
   "execution_count": 106,
   "metadata": {},
   "outputs": [
    {
     "name": "stdout",
     "output_type": "stream",
     "text": [
      "[[5 0 3]\n",
      " [3 7 9]]\n",
      "[[3 5 2]\n",
      " [4 7 6]]\n",
      "[[8 8]\n",
      " [1 6]\n",
      " [7 7]]\n",
      "==============================\n",
      "[[ 8  5  5]\n",
      " [ 7 14 15]]\n",
      "==============================\n",
      "[[ 61  61]\n",
      " [ 94 129]]\n",
      "==============================\n",
      "[8 1 5]\n",
      "[[13  1  8]\n",
      " [11  8 14]]\n",
      "False\n"
     ]
    }
   ],
   "source": [
    "np.random.seed(0)\n",
    "arr1 = np.random.randint(0,10,(2,3))\n",
    "arr2 = np.random.randint(0,10,(2,3))\n",
    "arr3 = np.random.randint(0,10,(3,2))\n",
    "print(arr1)\n",
    "print(arr2)\n",
    "print(arr3)\n",
    "print(\"=\"*30)\n",
    "\n",
    "print(arr1+arr2) #같은 인덱스에 있는것 끼리 연산\n",
    "\n",
    "print(\"=\"*30)\n",
    "\"\"\"\n",
    "행렬곱\n",
    "dot product\n",
    "내적\n",
    "\"\"\"\n",
    "print(np.dot(arr1,arr3))\n",
    "\n",
    "print(\"=\"*30)\n",
    "\"\"\"\n",
    "2차원 배열 + 1차원 배열\n",
    "BROADCASTING이라고 하는 기능이 있다.\n",
    "\"\"\"\n",
    "arr4 = np.random.randint(0,10,(3))\n",
    "print(arr4) # 1행 3열\n",
    "print(arr1+arr4) # 2행3열 + 1행3열(x2)\n",
    "\n",
    "'''\n",
    "배열 값 비교는\n",
    "원래는 값을 하나하나 loop돌려서 확인하지만\n",
    "이게 리소스와 시간을 많이 잡기 떄문에\n",
    "numpy 자체함수 np.array_equal(배열, 배열)로\n",
    "쉽게 비교분석이 가능하다.\n",
    "'''\n",
    "print(np.array_equal(arr1,arr2))"
   ]
  },
  {
   "cell_type": "markdown",
   "metadata": {},
   "source": [
    "## 간단한 연산\n",
    "\n",
    "    3차원 배열\n",
    "    axis=0 > depth\n",
    "    axis=1 > 행방향\n",
    "    axis=2 > 열방향"
   ]
  },
  {
   "cell_type": "code",
   "execution_count": 113,
   "metadata": {},
   "outputs": [
    {
     "name": "stdout",
     "output_type": "stream",
     "text": [
      "[[2 7 2]\n",
      " [9 2 3]\n",
      " [3 2 3]]\n",
      "==============================\n",
      "33\n",
      "==============================\n",
      "[14 11  8]\n",
      "==============================\n",
      "[11 14  8]\n"
     ]
    }
   ],
   "source": [
    "arr = np.random.randint(0,10,(3,3))\n",
    "print(arr)\n",
    "print(\"=\"*30)\n",
    "# 전체 sum\n",
    "print(arr.sum())\n",
    "print(\"=\"*30)\n",
    "# 열방향 sum\n",
    "print(arr.sum(axis=0))\n",
    "print(\"=\"*30)\n",
    "# 행방향 sum\n",
    "print(arr.sum(axis=1))"
   ]
  },
  {
   "cell_type": "markdown",
   "metadata": {},
   "source": [
    "## 집계함수\n",
    "\n",
    "    집계함수가 필요한 이유는;\n",
    "\n",
    "    수학식을 이용하면\n",
    "    모든 집계함수를 프로그램적으로 구현이 가능.\n",
    "    우리가 다루는 데이터는 상당히 크기가 큰 데이터이다."
   ]
  },
  {
   "cell_type": "code",
   "execution_count": 11,
   "metadata": {},
   "outputs": [],
   "source": [
    "arr = np.arange(100000000)\n",
    "# 밑에 CELL에서 주피터 기능 %%time을 사용해서\n",
    "# 밑 cell에서 구현한 함수 계산 시간을 확인할수 있다."
   ]
  },
  {
   "cell_type": "code",
   "execution_count": 12,
   "metadata": {},
   "outputs": [
    {
     "name": "stdout",
     "output_type": "stream",
     "text": [
      "4.99999995e+15\n",
      "Wall time: 22.6 s\n"
     ]
    }
   ],
   "source": [
    "%%time\n",
    "\n",
    "result = 0.0\n",
    "for tmp in arr:\n",
    "    result += tmp\n",
    "\n",
    "print(result)"
   ]
  },
  {
   "cell_type": "code",
   "execution_count": 13,
   "metadata": {},
   "outputs": [
    {
     "name": "stdout",
     "output_type": "stream",
     "text": [
      "887459712\n",
      "Wall time: 45.6 ms\n"
     ]
    }
   ],
   "source": [
    "%%time\n",
    "\n",
    "print(arr.sum())"
   ]
  },
  {
   "cell_type": "markdown",
   "metadata": {},
   "source": [
    "## mask indexing + 집계연산"
   ]
  },
  {
   "cell_type": "code",
   "execution_count": 123,
   "metadata": {},
   "outputs": [
    {
     "name": "stdout",
     "output_type": "stream",
     "text": [
      "[ True False  True False False]\n",
      "2\n",
      "==============================\n",
      "[[3.3972174  3.5768477  3.06000009 3.51379384 2.34282297]\n",
      " [2.31902092 3.35476966 1.56584561 3.47174338 2.95195559]\n",
      " [2.41936168 3.25278526 2.98106258 2.30931694 3.79976165]\n",
      " [5.2141412  3.43887142 3.6382597  5.01584138 2.75634725]]\n",
      "[[ True  True  True  True False]\n",
      " [False  True False  True False]\n",
      " [False  True False False  True]\n",
      " [ True  True  True  True False]]\n",
      "12\n"
     ]
    }
   ],
   "source": [
    "arr = np.array([True,False,True,False,False])\n",
    "print(arr)\n",
    "# True=1, False=0이기에\n",
    "# .sum()을 하면 1+1 한 값들만 나온다.\n",
    "print(arr.sum())\n",
    "# True개수를 찾는데 유용하다.\n",
    "print(\"=\"*30)\n",
    "\n",
    "# 배열의 True (<3.0) 개수 찾기\n",
    "arr = np.random.normal(3,1,(4,5))\n",
    "print(arr)\n",
    "print(arr > 3.0) # boolean mask,index 활용\n",
    "print((arr>3.0).sum()) # sum 활용"
   ]
  },
  {
   "cell_type": "markdown",
   "metadata": {},
   "source": [
    "## Sorting (정렬)\n",
    "\n",
    "    정렬, 2가지 형태\n",
    "\n",
    "    1. np.sort(배열, axis=)\n",
    "    정렬된 결과를 return, 원본엔 변화가 없다.\n",
    "\n",
    "    2. 배열.sort(axis=)\n",
    "    원본이 정렬된다. Return none.\n",
    "\n",
    "    NOTE:\n",
    "    axis를 명시하지 않으면 axis=-1로 지정된다 : 마지막 축"
   ]
  },
  {
   "cell_type": "code",
   "execution_count": 126,
   "metadata": {},
   "outputs": [
    {
     "name": "stdout",
     "output_type": "stream",
     "text": [
      "[[5 0 3]\n",
      " [3 7 9]\n",
      " [3 5 2]]\n",
      "[[0 3 5]\n",
      " [3 7 9]\n",
      " [2 3 5]]\n",
      "[[0 3 5]\n",
      " [2 3 5]\n",
      " [3 7 9]]\n"
     ]
    }
   ],
   "source": [
    "np.random.seed(0)\n",
    "arr = np.random.randint(0,10,(3,3))\n",
    "print(arr)\n",
    "\n",
    "arr.sort() # axis=-1 : axis=1 (2차원), 열방향\n",
    "print(arr)\n",
    "\n",
    "arr.sort(axis=0) # 행방향\n",
    "print(arr)"
   ]
  },
  {
   "cell_type": "markdown",
   "metadata": {},
   "source": [
    "## Unique값들만 추출!\n",
    "\n",
    "    np.unique(배열)\n",
    "    중복값을 없애고 사용되는 원소들 리턴."
   ]
  },
  {
   "cell_type": "code",
   "execution_count": 132,
   "metadata": {},
   "outputs": [
    {
     "name": "stdout",
     "output_type": "stream",
     "text": [
      "[5 0 3 3 7 3 5]\n",
      "[0 3 5 7]\n",
      "[8 3 5 7]\n"
     ]
    }
   ],
   "source": [
    "np.random.seed(0)\n",
    "arr = np.random.randint(0,9,(7))\n",
    "print(arr)\n",
    "tmp = np.unique(arr)\n",
    "print(tmp)\n",
    "tmp[0] = 8\n",
    "print(tmp)"
   ]
  }
 ],
 "metadata": {
  "kernelspec": {
   "display_name": "data_env",
   "language": "python",
   "name": "data_env"
  },
  "language_info": {
   "codemirror_mode": {
    "name": "ipython",
    "version": 3
   },
   "file_extension": ".py",
   "mimetype": "text/x-python",
   "name": "python",
   "nbconvert_exporter": "python",
   "pygments_lexer": "ipython3",
   "version": "3.6.7"
  },
  "toc": {
   "base_numbering": 1,
   "nav_menu": {},
   "number_sections": true,
   "sideBar": true,
   "skip_h1_title": false,
   "title_cell": "Table of Contents",
   "title_sidebar": "Contents",
   "toc_cell": false,
   "toc_position": {},
   "toc_section_display": true,
   "toc_window_display": false
  },
  "varInspector": {
   "cols": {
    "lenName": 16,
    "lenType": 16,
    "lenVar": 40
   },
   "kernels_config": {
    "python": {
     "delete_cmd_postfix": "",
     "delete_cmd_prefix": "del ",
     "library": "var_list.py",
     "varRefreshCmd": "print(var_dic_list())"
    },
    "r": {
     "delete_cmd_postfix": ") ",
     "delete_cmd_prefix": "rm(",
     "library": "var_list.r",
     "varRefreshCmd": "cat(var_dic_list()) "
    }
   },
   "types_to_exclude": [
    "module",
    "function",
    "builtin_function_or_method",
    "instance",
    "_Feature"
   ],
   "window_display": false
  }
 },
 "nbformat": 4,
 "nbformat_minor": 2
}
