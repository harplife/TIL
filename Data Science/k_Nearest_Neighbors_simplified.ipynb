{
 "cells": [
  {
   "cell_type": "markdown",
   "metadata": {},
   "source": [
    "# k-Nearest Neighbors (KNN)\n",
    "비지도 학습에 기본\n",
    "\n",
    "resource: https://www.analyticsvidhya.com/blog/2018/03/introduction-k-neighbours-algorithm-clustering/\n",
    "\n",
    "    Neighbor => 사용자가 지정한 지점에 근접한 데이터 (한마디로, 이웃!)\n",
    "    Class => 데이터의 분류, 즉, label\n",
    "    k => neighbor 수\n",
    "    \n",
    "    KNN의 원리: \"자신을 알기위해선 주위를 둘러봐라!\"\n",
    "    \n",
    "    1. 사용자가 지정한 지점(test data)에 근접한 Neighbor들을 찾는다.\n",
    "        - 참고: 거리를 계산하는데 있어 Euclidean Distance (유클리드 거리)를 사용한다.\n",
    "    2. 이 Neighbor들이 어떻게 분류(class)되는지 알아넨다.\n",
    "    3. 근접한 Neighbor들의 class로 지정된 지점의 class를 예측한다.\n",
    "    4. 즉, 근접한 neighbors의 class로 일정한 지점의 class를 찾는다.\n",
    "    5. 이러한 이유로 neighbors 범위 (k)가 아주 중요하다.\n",
    "        - k값이 무제한적으로 올라갈 수록,\n",
    "          분류모델의 분류선이 좀 더 부드러워진다 (자료 참고)\n",
    "        - k값이 올라갈 수록 정확도가 떨어진다.\n",
    "            - 이웃들이 한 종류로만 분류되면 괜찮지만,\n",
    "              여러 분류일수록 그만큼의 에러가 있다는 뜻.\n",
    "        - k값은 너무 낮아서도 안되고, 너무 커서도 안 된다.\n",
    "            - 에러의 최저값이 나오는 k값을 찾아야 된다!"
   ]
  },
  {
   "cell_type": "markdown",
   "metadata": {},
   "source": [
    "## import"
   ]
  },
  {
   "cell_type": "code",
   "execution_count": 1,
   "metadata": {},
   "outputs": [],
   "source": [
    "import pandas as pd\n",
    "import numpy as np\n",
    "import math\n",
    "import operator"
   ]
  },
  {
   "cell_type": "markdown",
   "metadata": {},
   "source": [
    "## 학습자료 (iris라는 꽃 종류를 상대로 학습)"
   ]
  },
  {
   "cell_type": "code",
   "execution_count": 2,
   "metadata": {},
   "outputs": [
    {
     "data": {
      "text/html": [
       "<div>\n",
       "<style scoped>\n",
       "    .dataframe tbody tr th:only-of-type {\n",
       "        vertical-align: middle;\n",
       "    }\n",
       "\n",
       "    .dataframe tbody tr th {\n",
       "        vertical-align: top;\n",
       "    }\n",
       "\n",
       "    .dataframe thead th {\n",
       "        text-align: right;\n",
       "    }\n",
       "</style>\n",
       "<table border=\"1\" class=\"dataframe\">\n",
       "  <thead>\n",
       "    <tr style=\"text-align: right;\">\n",
       "      <th></th>\n",
       "      <th>SepalLength</th>\n",
       "      <th>SepalWidth</th>\n",
       "      <th>PetalLength</th>\n",
       "      <th>PetalWidth</th>\n",
       "      <th>Name</th>\n",
       "    </tr>\n",
       "  </thead>\n",
       "  <tbody>\n",
       "    <tr>\n",
       "      <th>0</th>\n",
       "      <td>5.1</td>\n",
       "      <td>3.5</td>\n",
       "      <td>1.4</td>\n",
       "      <td>0.2</td>\n",
       "      <td>Iris-setosa</td>\n",
       "    </tr>\n",
       "    <tr>\n",
       "      <th>1</th>\n",
       "      <td>4.9</td>\n",
       "      <td>3.0</td>\n",
       "      <td>1.4</td>\n",
       "      <td>0.2</td>\n",
       "      <td>Iris-setosa</td>\n",
       "    </tr>\n",
       "    <tr>\n",
       "      <th>2</th>\n",
       "      <td>4.7</td>\n",
       "      <td>3.2</td>\n",
       "      <td>1.3</td>\n",
       "      <td>0.2</td>\n",
       "      <td>Iris-setosa</td>\n",
       "    </tr>\n",
       "    <tr>\n",
       "      <th>3</th>\n",
       "      <td>4.6</td>\n",
       "      <td>3.1</td>\n",
       "      <td>1.5</td>\n",
       "      <td>0.2</td>\n",
       "      <td>Iris-setosa</td>\n",
       "    </tr>\n",
       "    <tr>\n",
       "      <th>4</th>\n",
       "      <td>5.0</td>\n",
       "      <td>3.6</td>\n",
       "      <td>1.4</td>\n",
       "      <td>0.2</td>\n",
       "      <td>Iris-setosa</td>\n",
       "    </tr>\n",
       "  </tbody>\n",
       "</table>\n",
       "</div>"
      ],
      "text/plain": [
       "   SepalLength  SepalWidth  PetalLength  PetalWidth         Name\n",
       "0          5.1         3.5          1.4         0.2  Iris-setosa\n",
       "1          4.9         3.0          1.4         0.2  Iris-setosa\n",
       "2          4.7         3.2          1.3         0.2  Iris-setosa\n",
       "3          4.6         3.1          1.5         0.2  Iris-setosa\n",
       "4          5.0         3.6          1.4         0.2  Iris-setosa"
      ]
     },
     "execution_count": 2,
     "metadata": {},
     "output_type": "execute_result"
    }
   ],
   "source": [
    "data = pd.read_csv(\"./data/iris/iris.csv\")\n",
    "data.head()"
   ]
  },
  {
   "cell_type": "markdown",
   "metadata": {},
   "source": [
    "## 예측할 자료\n",
    "\n",
    "Sepal 길이, 넓이, Petal 길이, 넓이를 대상으로 하여금,\n",
    "이러한 값을 가진 종류가 무엇인지 예측한다"
   ]
  },
  {
   "cell_type": "code",
   "execution_count": 5,
   "metadata": {},
   "outputs": [],
   "source": [
    "testSet = [[7.2, 3.6, 5.1, 2.5]]\n",
    "test = pd.DataFrame(testSet)"
   ]
  },
  {
   "cell_type": "markdown",
   "metadata": {},
   "source": [
    "## Euclidean Distance (유클리드 거리)\n",
    "    - 2개의 점의 거리를 계산하는데에 있어 자주 사용되는 방식이다\n",
    "    - 피타고라스의 정리를 사용하여 계산\n",
    "    \n",
    "2개 점의 거리를 계산하는 다른 방식들:\n",
    "1. Cosine similarity\n",
    "2. Manhattan distance\n",
    "3. Minkowski distance\n",
    "4. Jaccard similarity\n",
    "\n",
    "resource: http://dataaspirant.com/2015/04/11/five-most-popular-similarity-measures-implementation-in-python/"
   ]
  },
  {
   "cell_type": "code",
   "execution_count": 6,
   "metadata": {},
   "outputs": [],
   "source": [
    "# Defining our KNN model\n",
    "def KNN(trainingSet, testInstance, k):\n",
    "    distances = {}\n",
    "    sort = {}\n",
    "    \n",
    "    \n",
    "    # Euclidean Distance\n",
    "    dist = 0\n",
    "    # 1. for each row of the training data,\n",
    "    for x in range(len(trainingSet)):\n",
    "        # 2. for each of the categories for both training and test data,\n",
    "        for y in range(testInstance.shape[1]):\n",
    "            # 3. n sum the square the difference of test and training data\n",
    "            dist += np.square([testInstance[y][0] - \n",
    "                              trainingSet.iloc[x][y]][0])\n",
    "        # 4. then square root of the sum (of the square of diff. of x,y)\n",
    "        distances[x] = np.sqrt(dist)\n",
    "        # note: dist needs to be initialized for each training data\n",
    "        dist = 0\n",
    "        # all this gathers the distance between\n",
    "        # each of the training data and, for now, one row of the test data\n",
    "    \n",
    "    # Sorting them on the basis of distance (closet at the top)\n",
    "    sorted_d = sorted(distances.items(), key=operator.itemgetter(1))\n",
    "    \n",
    "    \n",
    "    # Extracting top k neighbors (closest at the top)\n",
    "    neighbors = []\n",
    "    for x in range(k):\n",
    "        # Extracts the index of the neighbor\n",
    "        neighbors.append(sorted_d[x][0])\n",
    "    \n",
    "    \n",
    "    # Calculating the most freq class in the neighbors\n",
    "    classVotes = {}\n",
    "    # 1. for each of the neighbors,\n",
    "    for x in range(len(neighbors)):\n",
    "        # 2. find the Name of each neighbor\n",
    "        response = trainingSet.iloc[neighbors[x]][-1]\n",
    "        # 3. each neighbor casts a vote based on their class (Name)\n",
    "        if response in classVotes:\n",
    "            classVotes[response] += 1\n",
    "        else:\n",
    "            classVotes[response] = 1\n",
    "            \n",
    "    # class with the most vote at the top (descending order)\n",
    "    sortedVotes = sorted(classVotes.items(),\n",
    "                         key=operator.itemgetter(1), \n",
    "                         reverse=True)\n",
    "    \n",
    "    # return the Top Class, and neighbors\n",
    "    return(sortedVotes[0][0], neighbors)"
   ]
  },
  {
   "cell_type": "code",
   "execution_count": 7,
   "metadata": {},
   "outputs": [
    {
     "name": "stdout",
     "output_type": "stream",
     "text": [
      "Iris-virginica\n",
      "[141, 139, 120]\n",
      "Wall time: 161 ms\n"
     ]
    }
   ],
   "source": [
    "%%time\n",
    "\n",
    "# Setting number of neighbors = 1\n",
    "k = 3\n",
    "\n",
    "# Running KNN model\n",
    "result, neigh = KNN(data, test, k)\n",
    "\n",
    "# Predicted class\n",
    "print(result)\n",
    "\n",
    "# Nearest neighbor(s)\n",
    "print(neigh)"
   ]
  },
  {
   "cell_type": "markdown",
   "metadata": {},
   "source": [
    "## scikit_learn의 함수 사용"
   ]
  },
  {
   "cell_type": "code",
   "execution_count": 19,
   "metadata": {},
   "outputs": [
    {
     "name": "stdout",
     "output_type": "stream",
     "text": [
      "['Iris-virginica']\n",
      "[[141 139 120]]\n",
      "Wall time: 9 ms\n"
     ]
    }
   ],
   "source": [
    "%%time\n",
    "\n",
    "from sklearn.neighbors import KNeighborsClassifier\n",
    "neigh = KNeighborsClassifier(n_neighbors=3)\n",
    "neigh.fit(data.iloc[:,0:4], data['Name'])\n",
    "\n",
    "print(neigh.predict(test))\n",
    "\n",
    "print(neigh.kneighbors(test)[1])"
   ]
  }
 ],
 "metadata": {
  "kernelspec": {
   "display_name": "keras_env",
   "language": "python",
   "name": "keras_env"
  },
  "language_info": {
   "codemirror_mode": {
    "name": "ipython",
    "version": 3
   },
   "file_extension": ".py",
   "mimetype": "text/x-python",
   "name": "python",
   "nbconvert_exporter": "python",
   "pygments_lexer": "ipython3",
   "version": "3.6.7"
  },
  "toc": {
   "base_numbering": 1,
   "nav_menu": {},
   "number_sections": true,
   "sideBar": true,
   "skip_h1_title": false,
   "title_cell": "Table of Contents",
   "title_sidebar": "Contents",
   "toc_cell": false,
   "toc_position": {},
   "toc_section_display": true,
   "toc_window_display": false
  },
  "varInspector": {
   "cols": {
    "lenName": 16,
    "lenType": 16,
    "lenVar": 40
   },
   "kernels_config": {
    "python": {
     "delete_cmd_postfix": "",
     "delete_cmd_prefix": "del ",
     "library": "var_list.py",
     "varRefreshCmd": "print(var_dic_list())"
    },
    "r": {
     "delete_cmd_postfix": ") ",
     "delete_cmd_prefix": "rm(",
     "library": "var_list.r",
     "varRefreshCmd": "cat(var_dic_list()) "
    }
   },
   "types_to_exclude": [
    "module",
    "function",
    "builtin_function_or_method",
    "instance",
    "_Feature"
   ],
   "window_display": false
  }
 },
 "nbformat": 4,
 "nbformat_minor": 2
}
