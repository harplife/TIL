{
 "cells": [
  {
   "cell_type": "markdown",
   "metadata": {},
   "source": [
    "# 통계- 목적에 따른 분류\n",
    "1. 기술통계 ( Descriptive Statistics )\n",
    " - 우리에게 주어진 데이터를 요약, 설명, 분석하는 통계기법을 의미\n",
    " - pandas 사용 (EDA - 탐색적 데이터 분석)\n",
    "2. 추론/추리통계 (Inferential statistics )\n",
    " - 수집한 데이터 기반으로 예측하고 검정하는 통계기법을 의미\n",
    " - **통계적 가설 검정"
   ]
  },
  {
   "cell_type": "markdown",
   "metadata": {},
   "source": [
    "## 통계적 가설 검정\n",
    " - **통계적 가설 검정: 표본으로 부터 얻은 가설을 통계적으로 검증하는 방법\n",
    " \n",
    "     이 검정을 하기 위해 먼저 할 일은 가설을 정의:\n",
    "     - 귀무가설 ( null hypothesis ) => H0 (H-zero)라 표현\n",
    "     reject가 예상이 되는 가설.\n",
    "     관계가 없고, 영향력이 없고, 관련이 없다.\n",
    "     채택되기 원하는 가설이 아니다.\n",
    "     - 대립가설 ( alternative hypothesis ) => H1 (H-one)라 표현\n",
    "     관계가 있고, 영향력이 있다.\n",
    "     채택되기 원하는 가설이다!\n",
    "     - **대립가설 vs. 귀무가설\n",
    "     대립가설은 증명하고자 하는 가설.\n",
    "     귀무가설은 그 반대이다.\n",
    "     - *기각영역\n",
    "     - *임계값 ( ciritical value ) => CV\n",
    "     - *유의수준 ( level of significance ) => 알파 기호로 표시\n",
    "     유의수준(=!신뢰수준)이 결정되면 임계값을 계산할 수 있다.\n",
    "     임계값이 계산되면 임계값을 기준으로,\n",
    "     귀무가설, 대립가설이 채택된다.\n",
    "     기각영역에 있는 가설이 채택된다!\n",
    "\n",
    "- **통계적 가설검정의 중요성\n",
    "    1. 머신러닝에 사용될 parameter를 분류하기 위해 사용\n",
    "    2. 표본을 통해 모집단의 특성을 유추"
   ]
  },
  {
   "cell_type": "markdown",
   "metadata": {},
   "source": [
    "### Exercise\n",
    "    우리나라 남자들의 평균 수명은 75라고 한다.\n",
    "    하지만 의학기술의 발달로 평균 수명이 증가했다라는 의견이\n",
    "    나오고 있다. 그래서 최근에 사망한 남성 30명의 평균 수명을\n",
    "    조사하였더니 평균 79세로 나왔다.\n",
    "    어느 가설이 더 타당한지를 유의수준 10%로 검정.\n",
    "    단, 모집단의 표준편차는 10."
   ]
  },
  {
   "cell_type": "code",
   "execution_count": 1,
   "metadata": {},
   "outputs": [
    {
     "name": "stdout",
     "output_type": "stream",
     "text": [
      "77.3369495786887\n"
     ]
    }
   ],
   "source": [
    "import math\n",
    "\n",
    "sample = math.sqrt(30) # square root of # of samples ~5.477\n",
    "z = 1.28 # critical value 0.1 => z-score 1.28\n",
    "std = 10 # standard deviation = 10\n",
    "mean = 75 # mean = 75\n",
    "# CV = Z * (std/sqrt(n of sample)) + mean\n",
    "CV = (z * (std/sample)) + mean\n",
    "\n",
    "\"\"\"\n",
    "대립가설은 79, 임계값 77.33~임으로서,\n",
    "대립가설은 기각영역에 속한다.\n",
    "이로서 대립가설: 평균 수명이 올랐다가 채택됬고,\n",
    "이에 대한 신뢰도는 90% 이다.\n",
    "유의수준을 0.01 (신뢰도 99%)로 했다면 귀무가설이 채택된다..\n",
    "\"\"\"\n",
    "print(CV) # 77.336~"
   ]
  },
  {
   "cell_type": "markdown",
   "metadata": {},
   "source": [
    "## 카이제곱 검정 (Chi-squared Test)\n",
    "1.  범주별로 빈도만 구해진 범주형 데이터에 대해\n",
    "    시행하는 독립성 검정 방법\n",
    "2.  두 범주형 데이터에 대해 서로 연관성이\n",
    "    있는가 혹은 그렇지 않을가를 알아보기 위한 검증방법"
   ]
  },
  {
   "cell_type": "markdown",
   "metadata": {},
   "source": [
    "### Exercise\n",
    "흡연량과 음주량 사이에 연관성이 있는가?\n",
    "밑에 테이블 참고:"
   ]
  },
  {
   "cell_type": "markdown",
   "metadata": {
    "heading_collapsed": true
   },
   "source": [
    "#### data table"
   ]
  },
  {
   "cell_type": "code",
   "execution_count": 4,
   "metadata": {
    "hidden": true,
    "scrolled": true
   },
   "outputs": [
    {
     "data": {
      "text/html": [
       "<div>\n",
       "<style scoped>\n",
       "    .dataframe tbody tr th:only-of-type {\n",
       "        vertical-align: middle;\n",
       "    }\n",
       "\n",
       "    .dataframe tbody tr th {\n",
       "        vertical-align: top;\n",
       "    }\n",
       "\n",
       "    .dataframe thead th {\n",
       "        text-align: right;\n",
       "    }\n",
       "</style>\n",
       "<table border=\"1\" class=\"dataframe\">\n",
       "  <thead>\n",
       "    <tr style=\"text-align: right;\">\n",
       "      <th></th>\n",
       "      <th>1갑 이상</th>\n",
       "      <th>1갑 이하</th>\n",
       "      <th>안피움</th>\n",
       "      <th>계</th>\n",
       "    </tr>\n",
       "  </thead>\n",
       "  <tbody>\n",
       "    <tr>\n",
       "      <th>반병 이상</th>\n",
       "      <td>23.0</td>\n",
       "      <td>21.0</td>\n",
       "      <td>63.0</td>\n",
       "      <td>107.0</td>\n",
       "    </tr>\n",
       "    <tr>\n",
       "      <th>반병 이하</th>\n",
       "      <td>31.0</td>\n",
       "      <td>48.0</td>\n",
       "      <td>159.0</td>\n",
       "      <td>238.0</td>\n",
       "    </tr>\n",
       "    <tr>\n",
       "      <th>못마심</th>\n",
       "      <td>13.0</td>\n",
       "      <td>23.0</td>\n",
       "      <td>119.0</td>\n",
       "      <td>155.0</td>\n",
       "    </tr>\n",
       "    <tr>\n",
       "      <th>계</th>\n",
       "      <td>67.0</td>\n",
       "      <td>92.0</td>\n",
       "      <td>341.0</td>\n",
       "      <td>500.0</td>\n",
       "    </tr>\n",
       "  </tbody>\n",
       "</table>\n",
       "</div>"
      ],
      "text/plain": [
       "       1갑 이상  1갑 이하    안피움      계\n",
       "반병 이상   23.0   21.0   63.0  107.0\n",
       "반병 이하   31.0   48.0  159.0  238.0\n",
       "못마심     13.0   23.0  119.0  155.0\n",
       "계       67.0   92.0  341.0  500.0"
      ]
     },
     "metadata": {},
     "output_type": "display_data"
    }
   ],
   "source": [
    "import numpy as np\n",
    "import pandas as pd\n",
    "sample = np.array([[23,21,63],[31,48,159],[13,23,119]])\n",
    "df = pd.DataFrame(sample,\n",
    "            columns=[\"1갑 이상\",\"1갑 이하\",\"안피움\"],\n",
    "            index=[\"반병 이상\",\"반병 이하\",\"못마심\"])\n",
    "df[\"계\"] = np.nan\n",
    "df.loc[\"반병 이상\",\"계\"] = df.loc[\"반병 이상\"].sum()\n",
    "df.loc[\"반병 이하\",\"계\"] = df.loc[\"반병 이하\"].sum()\n",
    "df.loc[\"못마심\",\"계\"] = df.loc[\"못마심\"].sum()\n",
    "df.loc[\"계\"] = np.nan\n",
    "df.loc[\"계\",\"1갑 이상\"] = df[\"1갑 이상\"].sum()\n",
    "df.loc[\"계\",\"1갑 이하\"] = df[\"1갑 이하\"].sum()\n",
    "df.loc[\"계\",\"안피움\"] = df[\"안피움\"].sum()\n",
    "df.loc[\"계\",\"계\"] = df[\"계\"].sum()\n",
    "\n",
    "display(df)"
   ]
  },
  {
   "cell_type": "markdown",
   "metadata": {
    "heading_collapsed": true
   },
   "source": [
    "#### steps"
   ]
  },
  {
   "cell_type": "markdown",
   "metadata": {
    "hidden": true
   },
   "source": [
    "    귀무가설 : 흡연과 주량은 연관성이 없다.\n",
    "    대립가설 : 흡연과 주량은 연관성이 있다.\n",
    "1. 범주별 기대값 구하기\n",
    "\n",
    "        기대값(\"1갑이상\", \"반병이상\") =\n",
    "        ( (\"1값 이상\" 총 사람수/총수) * (\"반병 이상\" 총 사람수/총수) ) * 총 수\n",
    "        즉, 67/500 x 107/500 x 500 = 0.02867 x 500 = 14.338\n",
    "\n",
    "2. 각 범주별 카이제곱값을 구한다.\n",
    "\n",
    "        x^2 = (관측값 - 기대값)^2 / 기대값\n",
    "        \n",
    "3. 전체 카이제곱 값 합하기\n",
    "4. 카이제곱의 자유도 구하기\n",
    "\n",
    "        자유도는 각 종목의 parameter수를 본으로 한다.\n",
    "        예:\n",
    "        흡연 Parameter수는 3개, 즉, 자유도는 2\n",
    "        주량 parameter수는 3개, 즉, 자유도는 2\n",
    "        전체 자유도는 자유도의 곱: 2x2 = 4\n",
    "\n",
    "5. 검정 결과 도출\n",
    "    - 카이제곱 분포표를 기준으로\n",
    "        자유도와 알파값(유의수준)을 이용하여 카이제곱 값을 알아온다.\n",
    "    - 자유도(4)와 알파값(0.05) => 9.49 (카이제곱 검정값)\n",
    "    - 우리가 구한 카이제곱 값은 12.87 > 9.49\n",
    "    - 구한 카이제곱 값이 검정값보다 높아야 채택!\n",
    "    - 따라서 귀무가설을 기각하고 대립가설을 채택!"
   ]
  },
  {
   "cell_type": "code",
   "execution_count": 11,
   "metadata": {
    "hidden": true
   },
   "outputs": [
    {
     "data": {
      "text/plain": [
       "5.232964430185522"
      ]
     },
     "execution_count": 11,
     "metadata": {},
     "output_type": "execute_result"
    }
   ],
   "source": [
    "import math\n",
    "\n",
    "# expected value = EV 기대치\n",
    "EV = ((df.loc[\"계\",\"1갑 이상\"]/df.loc[\"계\",\"계\"])\\\n",
    "    *(df.loc[\"반병 이상\",\"계\"]/df.loc[\"계\",\"계\"]))*500\n",
    "\n",
    "x1y1 = df.loc[\"반병 이상\",\"1갑 이상\"] # 관측값\n",
    "# math.pow(v,power)하면 제곱값 계산 가능\n",
    "chi = math.pow((x1y1-EV),2)/EV\n",
    "chi # 5.23 나온다"
   ]
  },
  {
   "cell_type": "markdown",
   "metadata": {},
   "source": [
    "### 답:\n",
    "python에 scipy를 사용하면 된다!\n",
    "\n",
    "미리 conda install scipy 해줘야 된다~\n",
    "\n",
    "밑에 참고:"
   ]
  },
  {
   "cell_type": "code",
   "execution_count": 14,
   "metadata": {},
   "outputs": [
    {
     "name": "stdout",
     "output_type": "stream",
     "text": [
      "카이제곱 총 값: 12.826630603041854\n",
      "pvalue: 0.012154721873148373\n",
      "자유도: 4\n"
     ]
    },
    {
     "data": {
      "text/plain": [
       "array([[ 14.338,  19.688,  72.974],\n",
       "       [ 31.892,  43.792, 162.316],\n",
       "       [ 20.77 ,  28.52 , 105.71 ]])"
      ]
     },
     "metadata": {},
     "output_type": "display_data"
    },
    {
     "name": "stdout",
     "output_type": "stream",
     "text": [
      "대립가설 채택!\n"
     ]
    }
   ],
   "source": [
    "import numpy as np\n",
    "from scipy import stats\n",
    "\n",
    "arr = np.array([[23,21,63],\n",
    "              [31,48,159],\n",
    "              [13,23,119]])\n",
    "\n",
    "chi2, pvalue, free, _table = stats.chi2_contingency(arr)\n",
    "print(\"카이제곱 총 값: {}\".format(chi2))\n",
    "print(\"pvalue: {}\".format(pvalue))\n",
    "print(\"자유도: {}\".format(free))\n",
    "\n",
    "# 기대값 테이블\n",
    "display(_table)\n",
    "\n",
    "if pvalue < 0.05:\n",
    "    print(\"대립가설 채택!\")\n",
    "else:\n",
    "    print(\"기립가설 채택...\")"
   ]
  },
  {
   "cell_type": "markdown",
   "metadata": {},
   "source": [
    "## 독립표본 t검정 (2 sample t-test)\n",
    "\n",
    "- 두 집단간의 평균 값의 차이가 통계적으로 의미가 있는지를 검정하는 방법\n",
    "- 차이가 있는가, 혹은 차이가 무시할 정도인지를 판별!\n",
    "    - 귀무가설 : 두 그룹간의 평균키의 차이가 없다.\n",
    "    - 대립가설 : 두 그룹간의 평균키의 차이는 의미가 있다."
   ]
  },
  {
   "cell_type": "code",
   "execution_count": 12,
   "metadata": {},
   "outputs": [
    {
     "name": "stdout",
     "output_type": "stream",
     "text": [
      "Group1's average: 172.2651385415681\n",
      "Group2's average: 172.4445123073152\n",
      "0.812533733321847\n",
      "귀립가설 채택... 평균의 차이는 의미가 없다.\n"
     ]
    }
   ],
   "source": [
    "import numpy as np\n",
    "from scipy import stats\n",
    "\n",
    "# tip: 사용하지 않을 변수는 _라 표현한다!\n",
    "group1 = [170 + np.random.normal(2,1) for _ in range(10)]\n",
    "group2 = [174 + np.random.normal(0,3) for _ in range(10)]\n",
    "\n",
    "print(\"Group1's average: {}\".format(np.mean(group1)))\n",
    "print(\"Group2's average: {}\".format(np.mean(group2)))\n",
    "\n",
    "# ttest_ind의 ind = independent\n",
    "stats, pvalue = stats.ttest_ind(group1, group2)\n",
    "print(pvalue)\n",
    "if pvalue<0.05:\n",
    "    print(\"대립가설 채택! 평균의 차이는 의미가 있다.\")\n",
    "else:\n",
    "    print(\"귀립가설 채택... 평균의 차이는 의미가 없다.\")"
   ]
  },
  {
   "cell_type": "markdown",
   "metadata": {},
   "source": [
    "## 대응표본 t검정 (pared t-test)\n",
    "- 특정 집단을 대상으로 실험 전과 실험 후의 차이가 통계적으로 의미가 있는지를 검정하는 방법\n",
    "    - 즉, 실험 효과를 과학적으로 입증하고자 할때 사용\n",
    "- 예: 다이어트약의 복용전과 복용후의 값을 통계적으로 검증\n",
    "    - 귀무가설 : 복용전후의 체중의 차이가 없다.\n",
    "    - 대립가설 : 복용전후의 체중의 차이가 있다."
   ]
  },
  {
   "cell_type": "code",
   "execution_count": 201,
   "metadata": {},
   "outputs": [
    {
     "name": "stdout",
     "output_type": "stream",
     "text": [
      "60.042574056047854\n",
      "58.695802740576006\n",
      "대립가설 채택! 약이 효과가 있다!\n"
     ]
    }
   ],
   "source": [
    "import numpy as np\n",
    "from scipy import stats\n",
    "\n",
    "# 20명의 사람의 복용전 무게\n",
    "before = [60 + np.random.normal(0,5) for _ in range(20)]\n",
    "after = [w - np.random.normal(1,2) for w in before]\n",
    "print(np.mean(before))\n",
    "print(np.mean(after))\n",
    "\n",
    "# ttest_rel의 rel = relative\n",
    "stats, pvalue = stats.ttest_rel(before, after)\n",
    "if pvalue<0.05:\n",
    "    print(\"대립가설 채택! 약이 효과가 있다!\")\n",
    "else:\n",
    "    print(\"귀립가설 채택... 약 효과 없음..\")"
   ]
  },
  {
   "cell_type": "markdown",
   "metadata": {},
   "source": [
    "## 분산분석 (ANOVA)\n",
    "- t-test의 일부. 3개 이상의 데이터를 분석할떄 사용된다."
   ]
  },
  {
   "cell_type": "code",
   "execution_count": 4,
   "metadata": {},
   "outputs": [
    {
     "name": "stdout",
     "output_type": "stream",
     "text": [
      "0.9447776342385614\n"
     ]
    }
   ],
   "source": [
    "from scipy import stats\n",
    "\n",
    "# 교육 훈련 데이터\n",
    "# 이 4개의 교육 훈련의 차이가 있냐 없냐를 찾는다!\n",
    "a = [67,45,98,67,34,22]\n",
    "b = [56,48,80,37,32,62]\n",
    "c = [47,47,58,37,84,12]\n",
    "d = [77,65,38,87,24,32]\n",
    "\n",
    "_, pvalue = stats.f_oneway(a,b,c,d)\n",
    "print(pvalue) # 0.944~ > 0.05\n",
    "# 이 교육훈련들의 차이가 없다는게 검증됬다."
   ]
  },
  {
   "cell_type": "code",
   "execution_count": null,
   "metadata": {},
   "outputs": [],
   "source": []
  }
 ],
 "metadata": {
  "kernelspec": {
   "display_name": "data_env",
   "language": "python",
   "name": "data_env"
  },
  "language_info": {
   "codemirror_mode": {
    "name": "ipython",
    "version": 3
   },
   "file_extension": ".py",
   "mimetype": "text/x-python",
   "name": "python",
   "nbconvert_exporter": "python",
   "pygments_lexer": "ipython3",
   "version": "3.6.7"
  },
  "toc": {
   "base_numbering": 1,
   "nav_menu": {},
   "number_sections": true,
   "sideBar": true,
   "skip_h1_title": false,
   "title_cell": "Table of Contents",
   "title_sidebar": "Contents",
   "toc_cell": false,
   "toc_position": {},
   "toc_section_display": true,
   "toc_window_display": false
  },
  "varInspector": {
   "cols": {
    "lenName": 16,
    "lenType": 16,
    "lenVar": 40
   },
   "kernels_config": {
    "python": {
     "delete_cmd_postfix": "",
     "delete_cmd_prefix": "del ",
     "library": "var_list.py",
     "varRefreshCmd": "print(var_dic_list())"
    },
    "r": {
     "delete_cmd_postfix": ") ",
     "delete_cmd_prefix": "rm(",
     "library": "var_list.r",
     "varRefreshCmd": "cat(var_dic_list()) "
    }
   },
   "types_to_exclude": [
    "module",
    "function",
    "builtin_function_or_method",
    "instance",
    "_Feature"
   ],
   "window_display": false
  }
 },
 "nbformat": 4,
 "nbformat_minor": 2
}
