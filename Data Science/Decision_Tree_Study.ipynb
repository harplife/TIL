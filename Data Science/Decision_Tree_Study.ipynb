{
 "cells": [
  {
   "cell_type": "markdown",
   "metadata": {},
   "source": [
    "# Decision Tree 기본 지식\n",
    "    1. Machine Learning(기계학습) 종류에\n",
    "       지도학습(supervised learning)로 구분되는 모델\n",
    "    2. Categorical Data (범주형 데이터)와\n",
    "       Continuous Data (양적 데이터),\n",
    "       둘 다 상관없이 사용할 수 있는 모델\n",
    "    3. 주로 데이터의 여러 특성(feature)를 가지고,\n",
    "       binary classification (yes/no) 형식으로\n",
    "       더 이상 특성이 없거나 혹은\n",
    "       더 이상 특성을 나눌 필요가 없을 때\n",
    "       leaf (마지막 결정)이 나온다."
   ]
  },
  {
   "cell_type": "markdown",
   "metadata": {},
   "source": [
    "## Decision Tree 예제"
   ]
  },
  {
   "cell_type": "markdown",
   "metadata": {},
   "source": [
    "### Scenario 1\n",
    "    어느 상담실에 상담사 A씨와 학생 B씨가 학생 B씨의\n",
    "    대학교 전공 진로에 대해 상담을 하고 있다.\n",
    "    A씨는 B씨가 좋아할 만한 전공을 예측해야 된다.\n",
    "    대화하다 보니 컴퓨터 공학이 좋을듯 한데,\n",
    "    일단 확인하는 차에 밑에 질문들을 던진다.\n",
    "    \n",
    "    (상담사가 특이해서 여기선 모든 질문의 답이\n",
    "    예/아니오로 나뉠수 있게 질문한다)\n",
    "    1. A: 프로그래밍 수업 들어봤나?\n",
    "       B: 예.. 작년에 (엉 알간)\n",
    "    2. A: 프로그래밍 잘 하나?\n",
    "       B: 점수는 잘 나왔어요 (예~해)\n",
    "    3. A: 미적분 수업 들어봤나?\n",
    "       B: 예\n",
    "    4. A: 미적분 잘 하나?\n",
    "       B: 못 하지는 않아요 (예~하지)\n",
    "    \n",
    "    위에 질문들을 날리고 A씨는\n",
    "    B씨가 수학도 잘 하고 프로그래밍도 잘 하니\n",
    "    컴퓨터 공학 좋아할 거라 예측한다.\n",
    "    물론, B씨한테 \"컴퓨터 공학 어떠니\" 하니까\n",
    "    B씨가 \"어 좋을것 같네요\" 한다."
   ]
  },
  {
   "cell_type": "markdown",
   "metadata": {},
   "source": [
    "#### Scenario 1 분석\n",
    "    위에 상담사 A씨가 던진 질문들은 의사결정나무 모델에\n",
    "    맞추어진 질문들이다.\n",
    "    A씨는 컴퓨터 공학의 특징(Features)들이\n",
    "    프로그래밍과 수학이라 생각한다.\n",
    "    물론 여기서 각 과목을 했는지, 잘 하는지도\n",
    "    각 과목에 대한 특징들이다.\n",
    "    이러한 특징들을 가지고, yes/no 방식으로 나누는게\n",
    "    의사결정나무이다."
   ]
  },
  {
   "cell_type": "markdown",
   "metadata": {},
   "source": [
    "### Scenario 2\n",
    "    어느 형님 A씨가 동생 B씨가 한테 이렇게 말했다.\n",
    "    \"내가 낸 문제에 답 맞추면 내가 떢뽂이 사줄께\"\n",
    "    \n",
    "    A씨가 낸 문제는 이렇다:\n",
    "    \"1~100 사이에 번호 하나를 내 핸드폰에 적어놨으니\n",
    "    그 번호를 맞춰봐라. 맞출 기회는 총 20번 있고,\n",
    "    각 기회마다 번호에 대한 질문을 할 수 있어.\"\n",
    "    동생 B씨는 떢뽂이를 위해 열심히 질문을 던졌고,\n",
    "    20 기회 내에 답을 맞추지 못 하였다.\n",
    "    \n",
    "    B씨의 20 질문 중 첫 4 질문들은 이렇다:\n",
    "    1. 7 이야? (아니 ㅋ)\n",
    "    2. 10보다 커? (응)\n",
    "    3. 30보다 커? (응)\n",
    "    4. 90보다 낮아? (응)\n",
    "    (참고로 동생 어린애다.)\n",
    "    \n",
    "    결국 떢뽂이를 못 얻어먹은 B씨는 형한테\n",
    "    분을 토하여 사기쳤다고 한다.\n",
    "    이로서 A씨는 똑같은 문제를 10번 기회 내에\n",
    "    맞춰보겠다고 한다 (못 맞추면 떢뽂이).\n",
    "    \n",
    "    A씨의 질문들은 이렇다:\n",
    "    1. 50보다 커? (응)\n",
    "    2. 75보다 작아? (응)\n",
    "    3. 60보다 커? (응)\n",
    "    4. 70보다 작어? (..응)\n",
    "    5. 65보다 커? (아니..)\n",
    "    6. 63보다 작어? (응..)\n",
    "    7. 62 맞제? (아..니..)\n",
    "    8. 61 이지? (ㅠㅠ 응)\n",
    "    \n",
    "    이로서 A씨는 B씨한테 온갓 잘난체를 하며\n",
    "    수학의 중요성을 말하고,\n",
    "    동생에게 수학공부 열심히 하라고 말하며,\n",
    "    떢뽂이를 사줬다!"
   ]
  },
  {
   "cell_type": "markdown",
   "metadata": {},
   "source": [
    "#### Scenario 2 분석\n",
    "    이 씨나리오는 Decision Tree Model에 있어\n",
    "    Feature의 중요성을 강조해 준다.\n",
    "    예측할 데이터에 있어 예측할 데이터가\n",
    "    애매모호 한 경우, 혹은 특히\n",
    "    데이터에 대한 특징이 너무 많을 경우\n",
    "    (예: 100은 1보다 크고, 2보다 크고.. 특징이 99개),\n",
    "    의사결정 하는데 있어 가장 가중치가 많을 만한\n",
    "    특징들만 따로 구별해서 사용하는게 좋다."
   ]
  },
  {
   "cell_type": "markdown",
   "metadata": {},
   "source": [
    "# 파이썬 코드 구현\n",
    "    여기서 학습데이터는 UCI에서 기계학습을 위해\n",
    "    제공해주는 \"Balance Scale Data Set\"을 사용한다.\n",
    "    x 데이터는 4개의 0~9 사이의 숫자,\n",
    "    y 데이터는 label: L, B, R 이다.\n",
    "    \"Balance\": 즉, 균형을 뜻하며,\n",
    "    각 번호들은 기울기 데이터를 의미한다.\n",
    "    \n",
    "    예:\n",
    "    0,0,0,0 => B (Balanced, 균형 잡혔다)\n",
    "    1,1,0,0, => L (Left, 왼쪽으로 기울였다)\n",
    "    0,0,1,1 => R (Right, 오른쪽으로 기울였다)\n",
    "    ...\n",
    "    3,4,7,2 => R (7<9)\n",
    "    \n",
    "링크: http://archive.ics.uci.edu/ml/datasets/balance+scale"
   ]
  },
  {
   "cell_type": "markdown",
   "metadata": {},
   "source": [
    "## import"
   ]
  },
  {
   "cell_type": "code",
   "execution_count": 1,
   "metadata": {},
   "outputs": [],
   "source": [
    "import numpy as np \n",
    "import pandas as pd \n",
    "from sklearn.metrics import confusion_matrix \n",
    "# below is deprecated\n",
    "# from sklearn.cross_validation import train_test_split\n",
    "from sklearn.model_selection import train_test_split\n",
    "from sklearn.tree import DecisionTreeClassifier \n",
    "from sklearn.metrics import accuracy_score \n",
    "from sklearn.metrics import classification_report "
   ]
  },
  {
   "cell_type": "markdown",
   "metadata": {},
   "source": [
    "## 코드 구조\n",
    "    1. 데이터 전처리\n",
    "    2. 데이터 x,y 구분\n",
    "    3. 학습\n",
    "    4. 예측\n",
    "    5. 정확도 측정"
   ]
  },
  {
   "cell_type": "markdown",
   "metadata": {},
   "source": [
    "### 데이터 전처리"
   ]
  },
  {
   "cell_type": "code",
   "execution_count": 2,
   "metadata": {},
   "outputs": [
    {
     "name": "stdout",
     "output_type": "stream",
     "text": [
      "샘플 개수:  625\n",
      "데이터셋 모형:  (625, 5)\n",
      "데이터셋:\n"
     ]
    },
    {
     "data": {
      "text/html": [
       "<div>\n",
       "<style scoped>\n",
       "    .dataframe tbody tr th:only-of-type {\n",
       "        vertical-align: middle;\n",
       "    }\n",
       "\n",
       "    .dataframe tbody tr th {\n",
       "        vertical-align: top;\n",
       "    }\n",
       "\n",
       "    .dataframe thead th {\n",
       "        text-align: right;\n",
       "    }\n",
       "</style>\n",
       "<table border=\"1\" class=\"dataframe\">\n",
       "  <thead>\n",
       "    <tr style=\"text-align: right;\">\n",
       "      <th></th>\n",
       "      <th>0</th>\n",
       "      <th>1</th>\n",
       "      <th>2</th>\n",
       "      <th>3</th>\n",
       "      <th>4</th>\n",
       "    </tr>\n",
       "  </thead>\n",
       "  <tbody>\n",
       "    <tr>\n",
       "      <th>0</th>\n",
       "      <td>B</td>\n",
       "      <td>1</td>\n",
       "      <td>1</td>\n",
       "      <td>1</td>\n",
       "      <td>1</td>\n",
       "    </tr>\n",
       "    <tr>\n",
       "      <th>1</th>\n",
       "      <td>R</td>\n",
       "      <td>1</td>\n",
       "      <td>1</td>\n",
       "      <td>1</td>\n",
       "      <td>2</td>\n",
       "    </tr>\n",
       "    <tr>\n",
       "      <th>2</th>\n",
       "      <td>R</td>\n",
       "      <td>1</td>\n",
       "      <td>1</td>\n",
       "      <td>1</td>\n",
       "      <td>3</td>\n",
       "    </tr>\n",
       "    <tr>\n",
       "      <th>3</th>\n",
       "      <td>R</td>\n",
       "      <td>1</td>\n",
       "      <td>1</td>\n",
       "      <td>1</td>\n",
       "      <td>4</td>\n",
       "    </tr>\n",
       "    <tr>\n",
       "      <th>4</th>\n",
       "      <td>R</td>\n",
       "      <td>1</td>\n",
       "      <td>1</td>\n",
       "      <td>1</td>\n",
       "      <td>5</td>\n",
       "    </tr>\n",
       "  </tbody>\n",
       "</table>\n",
       "</div>"
      ],
      "text/plain": [
       "   0  1  2  3  4\n",
       "0  B  1  1  1  1\n",
       "1  R  1  1  1  2\n",
       "2  R  1  1  1  3\n",
       "3  R  1  1  1  4\n",
       "4  R  1  1  1  5"
      ]
     },
     "execution_count": 2,
     "metadata": {},
     "output_type": "execute_result"
    }
   ],
   "source": [
    "balance_data = pd.read_csv(\n",
    "    'https://archive.ics.uci.edu/ml/machine-learning-'+\n",
    "    'databases/balance-scale/balance-scale.data',\n",
    "    sep= ',', header = None)\n",
    "\n",
    "print (\"샘플 개수: \", len(balance_data))\n",
    "print (\"데이터셋 모형: \", balance_data.shape)\n",
    "print (\"데이터셋:\")\n",
    "\n",
    "balance_data.head()"
   ]
  },
  {
   "cell_type": "markdown",
   "metadata": {},
   "source": [
    "### X,Y 구분"
   ]
  },
  {
   "cell_type": "code",
   "execution_count": 3,
   "metadata": {},
   "outputs": [],
   "source": [
    "# 자료구조: label,num,num,num,num (5열)\n",
    "X = balance_data.values[:, 1:5] # 1~5?\n",
    "Y = balance_data.values[:, 0]\n",
    "\n",
    "# scikit에 train_test_split 함수로 x,y 데이터 구분\n",
    "X_train, X_test, Y_train, Y_test = train_test_split(\n",
    "    X, Y, test_size = 0.3, random_state = 100)"
   ]
  },
  {
   "cell_type": "code",
   "execution_count": 4,
   "metadata": {},
   "outputs": [
    {
     "data": {
      "text/plain": [
       "array([[3, 5, 1, 4],\n",
       "       [3, 1, 3, 5],\n",
       "       [1, 3, 1, 2],\n",
       "       [5, 4, 5, 1],\n",
       "       [4, 5, 4, 1]], dtype=object)"
      ]
     },
     "metadata": {},
     "output_type": "display_data"
    },
    {
     "name": "stdout",
     "output_type": "stream",
     "text": [
      "학습자료 모형:  (437, 4)\n"
     ]
    },
    {
     "data": {
      "text/plain": [
       "array(['L', 'R', 'L', 'L', 'L'], dtype=object)"
      ]
     },
     "metadata": {},
     "output_type": "display_data"
    },
    {
     "name": "stdout",
     "output_type": "stream",
     "text": [
      "학습자료 Label 모형:  (437,)\n"
     ]
    }
   ],
   "source": [
    "display(X_train[:5])\n",
    "print(\"학습자료 모형: \",X_train.shape)\n",
    "display(Y_train[:5])\n",
    "print(\"학습자료 Label 모형: \", Y_train.shape)"
   ]
  },
  {
   "cell_type": "code",
   "execution_count": 5,
   "metadata": {},
   "outputs": [
    {
     "data": {
      "text/plain": [
       "array([[4, 4, 3, 3],\n",
       "       [2, 4, 1, 1],\n",
       "       [4, 1, 5, 3],\n",
       "       [1, 4, 1, 1],\n",
       "       [3, 1, 2, 5]], dtype=object)"
      ]
     },
     "metadata": {},
     "output_type": "display_data"
    },
    {
     "name": "stdout",
     "output_type": "stream",
     "text": [
      "예측자료 모형:  (188, 4)\n"
     ]
    },
    {
     "data": {
      "text/plain": [
       "array(['L', 'L', 'R', 'L', 'R'], dtype=object)"
      ]
     },
     "metadata": {},
     "output_type": "display_data"
    },
    {
     "name": "stdout",
     "output_type": "stream",
     "text": [
      "예측자료 Label 모형:  (188,)\n"
     ]
    }
   ],
   "source": [
    "display(X_test[:5])\n",
    "print(\"예측자료 모형: \", X_test.shape)\n",
    "display(Y_test[:5])\n",
    "print(\"예측자료 Label 모형: \", Y_test.shape)"
   ]
  },
  {
   "cell_type": "markdown",
   "metadata": {},
   "source": [
    "### 학습"
   ]
  },
  {
   "cell_type": "code",
   "execution_count": 7,
   "metadata": {},
   "outputs": [
    {
     "data": {
      "text/plain": [
       "DecisionTreeClassifier(class_weight=None, criterion='gini', max_depth=3,\n",
       "            max_features=None, max_leaf_nodes=None,\n",
       "            min_impurity_decrease=0.0, min_impurity_split=None,\n",
       "            min_samples_leaf=5, min_samples_split=2,\n",
       "            min_weight_fraction_leaf=0.0, presort=False, random_state=100,\n",
       "            splitter='best')"
      ]
     },
     "execution_count": 7,
     "metadata": {},
     "output_type": "execute_result"
    }
   ],
   "source": [
    "# scikit에 DecisionTreeClassifier를 갖고온다.\n",
    "# 이건 gini를 사용하는 classifer.\n",
    "# entropy로 만든 모델하고 비교해본다.\n",
    "clf_gini = DecisionTreeClassifier(criterion = \"gini\",\n",
    "        random_state = 100,max_depth=3, min_samples_leaf=5)\n",
    "\n",
    "clf_gini.fit(X_train, Y_train)\n",
    "\n",
    "clf_gini"
   ]
  },
  {
   "cell_type": "code",
   "execution_count": 8,
   "metadata": {},
   "outputs": [
    {
     "data": {
      "text/plain": [
       "DecisionTreeClassifier(class_weight=None, criterion='entropy', max_depth=3,\n",
       "            max_features=None, max_leaf_nodes=None,\n",
       "            min_impurity_decrease=0.0, min_impurity_split=None,\n",
       "            min_samples_leaf=5, min_samples_split=2,\n",
       "            min_weight_fraction_leaf=0.0, presort=False, random_state=100,\n",
       "            splitter='best')"
      ]
     },
     "execution_count": 8,
     "metadata": {},
     "output_type": "execute_result"
    }
   ],
   "source": [
    "# entropy를 사용하는 classifier\n",
    "clf_entropy = DecisionTreeClassifier(\n",
    "    criterion = \"entropy\", random_state = 100,\n",
    "    max_depth = 3, min_samples_leaf = 5)\n",
    "\n",
    "clf_entropy.fit(X_train, Y_train)"
   ]
  },
  {
   "cell_type": "markdown",
   "metadata": {},
   "source": [
    "### 예측"
   ]
  },
  {
   "cell_type": "code",
   "execution_count": 9,
   "metadata": {},
   "outputs": [
    {
     "data": {
      "text/plain": [
       "array(['R', 'L', 'R', 'R', 'R', 'L', 'R', 'L', 'L', 'L', 'R', 'L', 'L',\n",
       "       'L', 'R', 'L', 'R', 'L', 'L', 'R', 'L', 'R', 'L', 'L', 'R', 'L',\n",
       "       'L', 'L', 'R', 'L', 'L', 'L', 'R', 'L', 'L', 'L', 'L', 'R', 'L',\n",
       "       'L', 'R', 'L', 'R', 'L', 'R', 'R', 'L', 'L', 'R', 'L', 'R', 'R',\n",
       "       'L', 'R', 'R', 'L', 'R', 'R', 'L', 'L', 'R', 'R', 'L', 'L', 'L',\n",
       "       'L', 'L', 'R', 'R', 'L', 'L', 'R', 'R', 'L', 'R', 'L', 'R', 'R',\n",
       "       'R', 'L', 'R', 'L', 'L', 'L', 'L', 'R', 'R', 'L', 'R', 'L', 'R',\n",
       "       'R', 'L', 'L', 'L', 'R', 'R', 'L', 'L', 'L', 'R', 'L', 'R', 'R',\n",
       "       'R', 'R', 'R', 'R', 'R', 'L', 'R', 'L', 'R', 'R', 'L', 'R', 'R',\n",
       "       'R', 'R', 'R', 'L', 'R', 'L', 'L', 'L', 'L', 'L', 'L', 'L', 'R',\n",
       "       'R', 'R', 'R', 'L', 'R', 'R', 'R', 'L', 'L', 'R', 'L', 'R', 'L',\n",
       "       'R', 'L', 'L', 'R', 'L', 'L', 'R', 'L', 'R', 'L', 'R', 'R', 'R',\n",
       "       'L', 'R', 'R', 'R', 'R', 'R', 'L', 'L', 'R', 'R', 'R', 'R', 'L',\n",
       "       'R', 'R', 'R', 'L', 'R', 'L', 'L', 'L', 'L', 'R', 'R', 'L', 'R',\n",
       "       'R', 'L', 'L', 'R', 'R', 'R'], dtype=object)"
      ]
     },
     "execution_count": 9,
     "metadata": {},
     "output_type": "execute_result"
    }
   ],
   "source": [
    "y_pred_gini = clf_gini.predict(X_test)\n",
    "y_pred_gini"
   ]
  },
  {
   "cell_type": "code",
   "execution_count": 10,
   "metadata": {},
   "outputs": [
    {
     "data": {
      "text/plain": [
       "array(['R', 'L', 'R', 'L', 'R', 'L', 'R', 'L', 'R', 'R', 'R', 'R', 'L',\n",
       "       'L', 'R', 'L', 'R', 'L', 'L', 'R', 'L', 'R', 'L', 'L', 'R', 'L',\n",
       "       'R', 'L', 'R', 'L', 'R', 'L', 'R', 'L', 'L', 'L', 'L', 'L', 'R',\n",
       "       'L', 'R', 'L', 'R', 'L', 'R', 'R', 'L', 'L', 'R', 'L', 'L', 'R',\n",
       "       'L', 'L', 'R', 'L', 'R', 'R', 'L', 'R', 'R', 'R', 'L', 'L', 'R',\n",
       "       'L', 'L', 'R', 'L', 'L', 'L', 'R', 'R', 'L', 'R', 'L', 'R', 'R',\n",
       "       'R', 'L', 'R', 'L', 'L', 'L', 'L', 'R', 'R', 'L', 'R', 'L', 'R',\n",
       "       'R', 'L', 'L', 'L', 'R', 'R', 'L', 'L', 'L', 'R', 'L', 'L', 'R',\n",
       "       'R', 'R', 'R', 'R', 'R', 'L', 'R', 'L', 'R', 'R', 'L', 'R', 'R',\n",
       "       'L', 'R', 'R', 'L', 'R', 'R', 'R', 'L', 'L', 'L', 'L', 'L', 'R',\n",
       "       'R', 'R', 'R', 'L', 'R', 'R', 'R', 'L', 'L', 'R', 'L', 'R', 'L',\n",
       "       'R', 'L', 'R', 'R', 'L', 'L', 'R', 'L', 'R', 'R', 'R', 'R', 'R',\n",
       "       'L', 'R', 'R', 'R', 'R', 'R', 'R', 'L', 'R', 'L', 'R', 'R', 'L',\n",
       "       'R', 'L', 'R', 'L', 'R', 'L', 'L', 'L', 'L', 'L', 'R', 'R', 'R',\n",
       "       'L', 'L', 'L', 'R', 'R', 'R'], dtype=object)"
      ]
     },
     "execution_count": 10,
     "metadata": {},
     "output_type": "execute_result"
    }
   ],
   "source": [
    "y_pred_entropy = clf_entropy.predict(X_test)\n",
    "y_pred_entropy"
   ]
  },
  {
   "cell_type": "markdown",
   "metadata": {},
   "source": [
    "### 정확도 측정"
   ]
  },
  {
   "cell_type": "code",
   "execution_count": 13,
   "metadata": {},
   "outputs": [
    {
     "name": "stdout",
     "output_type": "stream",
     "text": [
      "Confusion Matrix: \n",
      " [[ 0  6  7]\n",
      " [ 0 67 18]\n",
      " [ 0 19 71]]\n",
      "Accuracy :  73.40425531914893\n",
      "Report : \n",
      "               precision    recall  f1-score   support\n",
      "\n",
      "           B       0.00      0.00      0.00        13\n",
      "           L       0.73      0.79      0.76        85\n",
      "           R       0.74      0.79      0.76        90\n",
      "\n",
      "   micro avg       0.73      0.73      0.73       188\n",
      "   macro avg       0.49      0.53      0.51       188\n",
      "weighted avg       0.68      0.73      0.71       188\n",
      "\n"
     ]
    }
   ],
   "source": [
    "# gini result\n",
    "print(\"Confusion Matrix: \\n\",confusion_matrix(Y_test, y_pred_gini))\n",
    "print (\"Accuracy : \",accuracy_score(Y_test,y_pred_gini)*100)\n",
    "print(\"Report : \\n\",classification_report(Y_test, y_pred_gini))"
   ]
  },
  {
   "cell_type": "code",
   "execution_count": 14,
   "metadata": {},
   "outputs": [
    {
     "name": "stdout",
     "output_type": "stream",
     "text": [
      "Confusion Matrix: \n",
      " [[ 0  6  7]\n",
      " [ 0 63 22]\n",
      " [ 0 20 70]]\n",
      "Accuracy :  70.74468085106383\n",
      "Report : \n",
      "               precision    recall  f1-score   support\n",
      "\n",
      "           B       0.00      0.00      0.00        13\n",
      "           L       0.71      0.74      0.72        85\n",
      "           R       0.71      0.78      0.74        90\n",
      "\n",
      "   micro avg       0.71      0.71      0.71       188\n",
      "   macro avg       0.47      0.51      0.49       188\n",
      "weighted avg       0.66      0.71      0.68       188\n",
      "\n"
     ]
    }
   ],
   "source": [
    "# entropy result\n",
    "print(\"Confusion Matrix: \\n\",confusion_matrix(Y_test, y_pred_entropy))\n",
    "print (\"Accuracy : \",accuracy_score(Y_test,y_pred_entropy)*100)\n",
    "print(\"Report : \\n\",classification_report(Y_test, y_pred_entropy))"
   ]
  },
  {
   "cell_type": "code",
   "execution_count": null,
   "metadata": {},
   "outputs": [],
   "source": []
  }
 ],
 "metadata": {
  "kernelspec": {
   "display_name": "keras_env",
   "language": "python",
   "name": "keras_env"
  },
  "language_info": {
   "codemirror_mode": {
    "name": "ipython",
    "version": 3
   },
   "file_extension": ".py",
   "mimetype": "text/x-python",
   "name": "python",
   "nbconvert_exporter": "python",
   "pygments_lexer": "ipython3",
   "version": "3.6.7"
  },
  "toc": {
   "base_numbering": 1,
   "nav_menu": {},
   "number_sections": true,
   "sideBar": true,
   "skip_h1_title": false,
   "title_cell": "Table of Contents",
   "title_sidebar": "Contents",
   "toc_cell": false,
   "toc_position": {},
   "toc_section_display": true,
   "toc_window_display": false
  },
  "varInspector": {
   "cols": {
    "lenName": 16,
    "lenType": 16,
    "lenVar": 40
   },
   "kernels_config": {
    "python": {
     "delete_cmd_postfix": "",
     "delete_cmd_prefix": "del ",
     "library": "var_list.py",
     "varRefreshCmd": "print(var_dic_list())"
    },
    "r": {
     "delete_cmd_postfix": ") ",
     "delete_cmd_prefix": "rm(",
     "library": "var_list.r",
     "varRefreshCmd": "cat(var_dic_list()) "
    }
   },
   "types_to_exclude": [
    "module",
    "function",
    "builtin_function_or_method",
    "instance",
    "_Feature"
   ],
   "window_display": false
  }
 },
 "nbformat": 4,
 "nbformat_minor": 2
}
