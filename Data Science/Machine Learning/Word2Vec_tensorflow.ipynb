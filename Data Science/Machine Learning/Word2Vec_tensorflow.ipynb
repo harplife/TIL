{
 "cells": [
  {
   "cell_type": "markdown",
   "metadata": {},
   "source": [
    "<h3>Tensorflow로 배우는<span class=\"tocSkip\"></span></h3>\n",
    "<h1>Word2Vec<span class=\"tocSkip\"></span></h1>\n",
    "<h2>(Skip-Gram model)<span class=\"tocSkip\"></span></h2>\n",
    "\n",
    "<br>\n",
    "리소스: https://towardsdatascience.com/learn-word2vec-by-implementing-it-in-tensorflow-45641adaf2ac"
   ]
  },
  {
   "cell_type": "markdown",
   "metadata": {},
   "source": [
    "# 초간단 Knowledge!"
   ]
  },
  {
   "cell_type": "markdown",
   "metadata": {},
   "source": [
    "## Word2Vec 개요\n",
    "    1. Word Embedding\n",
    "    2. Word2Vec"
   ]
  },
  {
   "cell_type": "markdown",
   "metadata": {},
   "source": [
    "### Word Embedding\n",
    "    word embedding (단어 임베딩)이란 텍스트를 구성하는\n",
    "    각 단어를 (주로 머신러닝을 위해) 수치화(벡터화)하는 작업이다.\n",
    "    이에 기본적인 예는 BoW (Bag of Words)이다.\n",
    "    여기서 이어 CBBOW (Continuous bow),\n",
    "    Skip-Gram,\n",
    "    그리고 CBOW, Skip-Gram 짬뽕:\n",
    "    gensim 패키지에 속한 Word2Vec이다."
   ]
  },
  {
   "cell_type": "markdown",
   "metadata": {},
   "source": [
    "### Word2Vec\n",
    "    - 위에 말했듯이 Word2Vec은 CBOW와 Skim-Gram에 짬뽕이다.\n",
    "    - 이에 여러 작업이 추가되어 있다.\n",
    "        a. hierarchial softmax\n",
    "        b. negative sampling\n",
    "    - Word2Vec은 구글사에서 제공되며,\n",
    "    - 오픈소스여서 누구나 사용할 수 있다.\n",
    "    - 2013년도에 Tomas Mikolov(와 다른 팀 멤버들)이 만들었다.\n",
    "        - 논문: https://arxiv.org/pdf/1310.4546.pdf\n",
    "    - shallow neural network이며, 3개 레이어를 사용한다.\n",
    "        a. 1 input layer\n",
    "        b. 1 hidden layer\n",
    "        c. 1 output layer\n",
    "    - word2vec의 특징:\n",
    "        a. 지정 단어에 연관된 단어를 예측하는 식으로 학습\n",
    "        b. output layer를 제거할 수 있음\n",
    "        c. hidden layer로 지정 단어의 context를 뽑을 수 있다."
   ]
  },
  {
   "cell_type": "markdown",
   "metadata": {},
   "source": [
    "# 코딩!\n",
    "    원래 Word2Vec은 Gensim library에서 호출해서\n",
    "    아주 쉽게 사용할 수 있다.\n",
    "    그러나 Word2Vec 모델의 원리를 알아낼려면\n",
    "    간단히 코드를 사용해봤자 이해하기 어려우니,\n",
    "    tensorflow를 사용하여 word2vec 기능들을 살펴본다."
   ]
  },
  {
   "cell_type": "markdown",
   "metadata": {},
   "source": [
    "## 필요한 library들 import"
   ]
  },
  {
   "cell_type": "code",
   "execution_count": 1,
   "metadata": {},
   "outputs": [],
   "source": [
    "import numpy as np\n",
    "import tensorflow as tf\n",
    "from sklearn.manifold import TSNE\n",
    "from sklearn import preprocessing\n",
    "import matplotlib.pyplot as plt"
   ]
  },
  {
   "cell_type": "markdown",
   "metadata": {},
   "source": [
    "## 학습 데이터"
   ]
  },
  {
   "cell_type": "code",
   "execution_count": 2,
   "metadata": {},
   "outputs": [],
   "source": [
    "corpus_raw = \"He is the king . The king is royal . She is the royal queen\"\n",
    "\n",
    "corpus_raw = corpus_raw.lower()"
   ]
  },
  {
   "cell_type": "code",
   "execution_count": 3,
   "metadata": {},
   "outputs": [
    {
     "name": "stdout",
     "output_type": "stream",
     "text": [
      "he is the king . the king is royal . she is the royal queen\n"
     ]
    }
   ],
   "source": [
    "print(corpus_raw)"
   ]
  },
  {
   "cell_type": "markdown",
   "metadata": {},
   "source": [
    "### 데이터 전처리"
   ]
  },
  {
   "cell_type": "markdown",
   "metadata": {},
   "source": [
    "#### 단어 추출"
   ]
  },
  {
   "cell_type": "code",
   "execution_count": 4,
   "metadata": {},
   "outputs": [],
   "source": [
    "words = []\n",
    "\n",
    "for word in corpus_raw.split():\n",
    "    # 단어들만 추출\n",
    "    if word != '.':\n",
    "        words.append(word)\n",
    "        \n",
    "words = set(words)"
   ]
  },
  {
   "cell_type": "markdown",
   "metadata": {},
   "source": [
    "#### 정제된 문장 추출"
   ]
  },
  {
   "cell_type": "code",
   "execution_count": 5,
   "metadata": {},
   "outputs": [],
   "source": [
    "raw_sents = corpus_raw.split('.')\n",
    "\n",
    "sents = []\n",
    "\n",
    "for sent in raw_sents:\n",
    "    sents.append(sent.split())"
   ]
  },
  {
   "cell_type": "code",
   "execution_count": 6,
   "metadata": {},
   "outputs": [
    {
     "name": "stdout",
     "output_type": "stream",
     "text": [
      "[['he', 'is', 'the', 'king'], ['the', 'king', 'is', 'royal'], ['she', 'is', 'the', 'royal', 'queen']]\n"
     ]
    }
   ],
   "source": [
    "print(sents)"
   ]
  },
  {
   "cell_type": "markdown",
   "metadata": {},
   "source": [
    "## Skip-Gram 모델\n",
    "    Skip-Gram 모델은 input 데이터가 (x, y)형태로,\n",
    "    단어와 예측할 단어 pair(커플)로 학습한다.\n",
    "    이러한 input 데이터가 만들어 지기 위해선,\n",
    "    문장에서 지정 window (단어의 n개 앞,뒤) 사이즈로\n",
    "    문장 단어 하나씩 그 주변의 단어들과 pairing 해준다."
   ]
  },
  {
   "cell_type": "markdown",
   "metadata": {},
   "source": [
    "<img src=\"https://cdn-images-1.medium.com/max/800/1*yiH5sZI-IBxDSQMKhvbcHw.png\" width=50% style=\"background-color:white;\" align=left />"
   ]
  },
  {
   "cell_type": "markdown",
   "metadata": {},
   "source": [
    "### 단어 pairing"
   ]
  },
  {
   "cell_type": "code",
   "execution_count": 7,
   "metadata": {},
   "outputs": [],
   "source": [
    "data = []\n",
    "\n",
    "# 여기선 단어 앞뒤 2개씩, min 2개 pair, max 4개 pair가 된다.\n",
    "WINDOW_SIZE = 2\n",
    "\n",
    "for sent in sents:\n",
    "    for word_index, word in enumerate(sent):\n",
    "        for nb_word in sent[\\\n",
    "            max(word_index - WINDOW_SIZE, 0) : \\\n",
    "            min(word_index + WINDOW_SIZE, len(sent)) + 1] :\n",
    "                if nb_word != word:\n",
    "                    data.append([word, nb_word])"
   ]
  },
  {
   "cell_type": "code",
   "execution_count": 8,
   "metadata": {},
   "outputs": [
    {
     "name": "stdout",
     "output_type": "stream",
     "text": [
      "[['he', 'is'], ['he', 'the'], ['is', 'he'], ['is', 'the'], ['is', 'king'], ['the', 'he'], ['the', 'is'], ['the', 'king'], ['king', 'is'], ['king', 'the'], ['the', 'king'], ['the', 'is'], ['king', 'the'], ['king', 'is'], ['king', 'royal'], ['is', 'the'], ['is', 'king'], ['is', 'royal'], ['royal', 'king'], ['royal', 'is'], ['she', 'is'], ['she', 'the'], ['is', 'she'], ['is', 'the'], ['is', 'royal'], ['the', 'she'], ['the', 'is'], ['the', 'royal'], ['the', 'queen'], ['royal', 'is'], ['royal', 'the'], ['royal', 'queen'], ['queen', 'the'], ['queen', 'royal']]\n"
     ]
    }
   ],
   "source": [
    "print(data)"
   ]
  },
  {
   "cell_type": "markdown",
   "metadata": {},
   "source": [
    "### 데이터 numbering\n",
    "    머신러닝 학습을 위해 단어를 숫자로 대체해야 된다.\n",
    "    단어에 대한 인덱싱 처리한거라 생각하면 된다."
   ]
  },
  {
   "cell_type": "code",
   "execution_count": 9,
   "metadata": {},
   "outputs": [
    {
     "name": "stdout",
     "output_type": "stream",
     "text": [
      "{'is': 0, 'king': 1, 'she': 2, 'the': 3, 'queen': 4, 'royal': 5, 'he': 6}\n",
      "{0: 'is', 1: 'king', 2: 'she', 3: 'the', 4: 'queen', 5: 'royal', 6: 'he'}\n"
     ]
    }
   ],
   "source": [
    "word2int = {}\n",
    "int2word = {}\n",
    "\n",
    "vocab_size = len(words)\n",
    "\n",
    "for i, word in enumerate(words):\n",
    "    word2int[word] = i\n",
    "    int2word[i] = word\n",
    "\n",
    "print(word2int)\n",
    "print(int2word)"
   ]
  },
  {
   "cell_type": "markdown",
   "metadata": {},
   "source": [
    "### 1-to-N (one-hot) encoding\n",
    "<img src=\"https://cdn-images-1.medium.com/max/800/1*neaOXEbp6h6kgOKVsMwLhw.png\" width=50% style=\"background-color:white;\" align=left />"
   ]
  },
  {
   "cell_type": "markdown",
   "metadata": {},
   "source": [
    "#### look-up-table\n",
    "    one-hot vector는 identity matrix의 역활을 한다.\n",
    "    즉, 지정 매트릭스에 n 번째 행을 갖고옴으로,\n",
    "    Neural Network에선 Weight 매트릭스에 n 번째\n",
    "    행을 갖고 오는 역활을 한다.\n",
    "    좀 더 정확히 말하자면,\n",
    "    'he'라는 단어가 현재 0000001 로 벡터화 되어있다면,\n",
    "    이를 학습된 Weight1(hidden layer)에 곱하면,\n",
    "    Weight에 7 번째 줄이 뽑힌다.\n",
    "    Weight[7] 줄은 'he'에 대한 단어의\n",
    "    neighbor (context)들에 대한 거리들이 표현되어 있다."
   ]
  },
  {
   "cell_type": "code",
   "execution_count": 10,
   "metadata": {},
   "outputs": [],
   "source": [
    "def to_one_hot(data_point_index, vocab_size):\n",
    "    temp = np.zeros(vocab_size)\n",
    "    temp[data_point_index] = 1\n",
    "    return temp"
   ]
  },
  {
   "cell_type": "markdown",
   "metadata": {},
   "source": [
    "#### one-hot처리 동시에 x, y 데이터 구분"
   ]
  },
  {
   "cell_type": "code",
   "execution_count": 11,
   "metadata": {},
   "outputs": [],
   "source": [
    "x_train = []\n",
    "y_train = []\n",
    "\n",
    "for data_word in data:\n",
    "    x_train.append( to_one_hot( word2int[ data_word[0] ],\n",
    "                              vocab_size))\n",
    "    y_train.append( to_one_hot( word2int[ data_word[1] ],\n",
    "                              vocab_size))\n",
    "x_train = np.asarray(x_train)\n",
    "y_train = np.asarray(y_train)"
   ]
  },
  {
   "cell_type": "code",
   "execution_count": 12,
   "metadata": {},
   "outputs": [
    {
     "name": "stdout",
     "output_type": "stream",
     "text": [
      "[[0. 0. 0. 0. 0. 0. 1.]\n",
      " [0. 0. 0. 0. 0. 0. 1.]\n",
      " [1. 0. 0. 0. 0. 0. 0.]\n",
      " [1. 0. 0. 0. 0. 0. 0.]\n",
      " [1. 0. 0. 0. 0. 0. 0.]\n",
      " [0. 0. 0. 1. 0. 0. 0.]\n",
      " [0. 0. 0. 1. 0. 0. 0.]\n",
      " [0. 0. 0. 1. 0. 0. 0.]\n",
      " [0. 1. 0. 0. 0. 0. 0.]\n",
      " [0. 1. 0. 0. 0. 0. 0.]]\n"
     ]
    }
   ],
   "source": [
    "print(x_train[:10])"
   ]
  },
  {
   "cell_type": "code",
   "execution_count": 13,
   "metadata": {},
   "outputs": [
    {
     "name": "stdout",
     "output_type": "stream",
     "text": [
      "[[1. 0. 0. 0. 0. 0. 0.]\n",
      " [0. 0. 0. 1. 0. 0. 0.]\n",
      " [0. 0. 0. 0. 0. 0. 1.]\n",
      " [0. 0. 0. 1. 0. 0. 0.]\n",
      " [0. 1. 0. 0. 0. 0. 0.]\n",
      " [0. 0. 0. 0. 0. 0. 1.]\n",
      " [1. 0. 0. 0. 0. 0. 0.]\n",
      " [0. 1. 0. 0. 0. 0. 0.]\n",
      " [1. 0. 0. 0. 0. 0. 0.]\n",
      " [0. 0. 0. 1. 0. 0. 0.]]\n"
     ]
    }
   ],
   "source": [
    "print(y_train[:10])"
   ]
  },
  {
   "cell_type": "markdown",
   "metadata": {},
   "source": [
    "### 데이터에 대한 정의\n",
    "    보다시피, 'he'라는 단어가 [0,0,0,0,0,0,1]로 처리됬고,\n",
    "    'he'의 동네친구 'is'와 'the'는 각 각\n",
    "    0010000, 0000100 으로 바뀌었다.\n",
    "    한 마디로,\n",
    "    0000001 이란 데이터가 들어오면,\n",
    "    0010000, 또는 0000100 이란 데이란 데이터가 예측되어야 된다."
   ]
  },
  {
   "cell_type": "markdown",
   "metadata": {},
   "source": [
    "## 3-layer Neural Network"
   ]
  },
  {
   "cell_type": "code",
   "execution_count": 14,
   "metadata": {},
   "outputs": [
    {
     "name": "stdout",
     "output_type": "stream",
     "text": [
      "loss is : 3.305218458175659\n",
      "loss is : 1.3281892538070679\n",
      "loss is : 1.3235028982162476\n",
      "loss is : 1.3222616910934448\n",
      "loss is : 1.321708083152771\n",
      "loss is : 1.3213995695114136\n",
      "loss is : 1.321204423904419\n",
      "loss is : 1.3210707902908325\n",
      "loss is : 1.3209737539291382\n",
      "loss is : 1.3209004402160645\n"
     ]
    }
   ],
   "source": [
    "tf.reset_default_graph()\n",
    "\n",
    "# 1. INPUT LAYER\n",
    "X = tf.placeholder(tf.float32, shape=(None, vocab_size))\n",
    "Y = tf.placeholder(tf.float32, shape=(None, vocab_size))\n",
    "\n",
    "# 2. HIDDEN LAYER\n",
    "EMBEDDING_DIM = 5\n",
    "# Embedding dimension:\n",
    "# 제대로된 의미는 모르겠지만\n",
    "# 대강 각 단어의 특징을 5개 정도 잡는다고 생각하면 될듯.\n",
    "# 너무 적으면 안 되고 너무 많으면 안된다.\n",
    "\n",
    "W1 = tf.Variable(tf.random_normal([vocab_size, EMBEDDING_DIM]))\n",
    "b1 = tf.Variable(tf.random_normal([EMBEDDING_DIM]))\n",
    "\n",
    "# Hidden Representation\n",
    "# 이 모델에 사용되는 Hypothesis는\n",
    "# 따로 사용될 수 있는 \n",
    "# 숨어 있는 용도가 있다.\n",
    "H = tf.add(tf.matmul(X, W1), b1)\n",
    "\n",
    "# 3. OUTPUT LAYER\n",
    "W2 = tf.Variable(tf.random_normal([EMBEDDING_DIM, vocab_size]))\n",
    "b2 = tf.Variable(tf.random_normal([vocab_size]))\n",
    "\n",
    "# activation function => softmax 사용\n",
    "prediction = tf.nn.softmax(tf.add(tf.matmul(H, W2), b2))\n",
    "\n",
    "# input_one_hot => embedded repr. => predicted_neighbor_prob\n",
    "# predicted_prob will be compared against a one hot vector\n",
    "\n",
    "sess = tf.Session()\n",
    "\n",
    "sess.run(tf.global_variables_initializer())\n",
    "\n",
    "# cost function => cross entropy (log loss)\n",
    "cross_entropy_loss = tf.reduce_mean(\n",
    "    -tf.reduce_sum(Y * tf.log(prediction), \n",
    "                  reduction_indices=[1]))\n",
    "\n",
    "\n",
    "optimizer = tf.train.GradientDescentOptimizer(0.1)\n",
    "\n",
    "model_train = optimizer.minimize(cross_entropy_loss)\n",
    "\n",
    "# 학습 반복수\n",
    "epoch = 10000\n",
    "\n",
    "for step in range(epoch):\n",
    "    sess.run(model_train, feed_dict={X: x_train, Y: y_train})\n",
    "    \n",
    "    if step%1000==0:\n",
    "        loss = sess.run(cross_entropy_loss, \n",
    "                        feed_dict={X: x_train, Y: y_train})\n",
    "        print(\"loss is : {}\".format(loss) )"
   ]
  },
  {
   "cell_type": "markdown",
   "metadata": {},
   "source": [
    "### Hidden Representation\n",
    "    이 모델 자체는 지정 단어에 n-gram 근접한 단어를\n",
    "    예측하는 식으로 학습이 되어 있지만,\n",
    "    이 예측모델을 사용하는 대신에\n",
    "    학습하면서 생기는 첫 번쨰 layer의\n",
    "    W1와 b1 값이다.\n",
    "    W1,b1은 위에 one-hot 처리 사용 (look-up-table)을 사용하여\n",
    "    지정 단어에 대한 학습된 벡터를 찾을 수 가 있다."
   ]
  },
  {
   "cell_type": "code",
   "execution_count": 15,
   "metadata": {},
   "outputs": [
    {
     "name": "stdout",
     "output_type": "stream",
     "text": [
      "[[ 0.16884391  0.47522554  1.7791299   2.1045978   1.7259084 ]\n",
      " [ 1.3524605  -0.9047998   0.16236609 -0.30971235 -0.39247093]\n",
      " [-0.47699308 -0.194042   -0.43534783 -1.0635788  -0.09963643]\n",
      " [ 1.6984836   1.1369572  -1.6472584   1.4050508   0.9246166 ]\n",
      " [ 1.2601703  -1.5514985   1.6991419   0.49853742  0.26527128]\n",
      " [-0.10860179  2.4968026  -0.12641595 -0.6618412   0.5468745 ]\n",
      " [ 0.3452465  -0.30957833 -0.03553431 -1.8872234  -0.08141606]]\n"
     ]
    }
   ],
   "source": [
    "print(sess.run(W1))"
   ]
  },
  {
   "cell_type": "code",
   "execution_count": 16,
   "metadata": {},
   "outputs": [
    {
     "name": "stdout",
     "output_type": "stream",
     "text": [
      "[ 1.2462664   0.6626038   0.87485343 -0.04988753 -2.7971547 ]\n"
     ]
    }
   ],
   "source": [
    "print(sess.run(b1))"
   ]
  },
  {
   "cell_type": "code",
   "execution_count": 17,
   "metadata": {},
   "outputs": [],
   "source": [
    "vectors = sess.run(W1 + b1)"
   ]
  },
  {
   "cell_type": "code",
   "execution_count": 18,
   "metadata": {},
   "outputs": [
    {
     "name": "stdout",
     "output_type": "stream",
     "text": [
      "[[ 1.4151102   1.1378293   2.6539834   2.0547104  -1.0712463 ]\n",
      " [ 2.5987267  -0.24219602  1.0372195  -0.3595999  -3.1896255 ]\n",
      " [ 0.7692733   0.4685618   0.4395056  -1.1134664  -2.896791  ]\n",
      " [ 2.9447498   1.799561   -0.77240497  1.3551632  -1.8725381 ]\n",
      " [ 2.5064368  -0.88889474  2.5739954   0.44864988 -2.5318835 ]\n",
      " [ 1.1376646   3.1594064   0.74843746 -0.71172875 -2.2502801 ]\n",
      " [ 1.5915129   0.35302547  0.8393191  -1.9371109  -2.8785708 ]]\n"
     ]
    }
   ],
   "source": [
    "print(vectors)"
   ]
  },
  {
   "cell_type": "code",
   "execution_count": 19,
   "metadata": {},
   "outputs": [
    {
     "name": "stdout",
     "output_type": "stream",
     "text": [
      "[ 2.5064368  -0.88889474  2.5739954   0.44864988 -2.5318835 ]\n"
     ]
    }
   ],
   "source": [
    "print(vectors[ word2int['queen'] ])"
   ]
  },
  {
   "cell_type": "markdown",
   "metadata": {},
   "source": [
    "## 근접 단어 찾기"
   ]
  },
  {
   "cell_type": "markdown",
   "metadata": {},
   "source": [
    "### Euclidean Distance (유클리드 거리)\n",
    "    피타고라스 정리를 기반으로한 유클리드 거리이다.\n",
    "    두 점 사이의 거리를 계산할 때 흔히 사용되는 방법이다.\n",
    "    특히 자연어처리에 있어 두 벡터 사이의 거리를 계산,\n",
    "    즉, 지정 단어와 근접한 단어의 거리를 계산하는데\n",
    "    자주 사용된다."
   ]
  },
  {
   "cell_type": "markdown",
   "metadata": {},
   "source": [
    "#### 유클리드 거리 그림\n",
    "<img src=\"https://upload.wikimedia.org/wikipedia/commons/thumb/1/10/Euclidean_distance_3d_2_cropped.png/495px-Euclidean_distance_3d_2_cropped.png\" width=50% style=\"background-color:white;\" align=left />"
   ]
  },
  {
   "cell_type": "markdown",
   "metadata": {},
   "source": [
    "#### 유클리드 거리 수식\n",
    "<img src=\"https://wikimedia.org/api/rest_v1/media/math/render/svg/795b967db2917cdde7c2da2d1ee327eb673276c0\" width=50% style=\"background-color:white;\" align=left />"
   ]
  },
  {
   "cell_type": "markdown",
   "metadata": {},
   "source": [
    "#### numpy로 수식 구현"
   ]
  },
  {
   "cell_type": "code",
   "execution_count": 20,
   "metadata": {},
   "outputs": [],
   "source": [
    "def euclidean_dist(vec1, vec2):\n",
    "    \n",
    "    return np.sqrt(np.sum(np.square(vec1-vec2)))"
   ]
  },
  {
   "cell_type": "markdown",
   "metadata": {},
   "source": [
    "### 근접 단어 검색 함수 코딩"
   ]
  },
  {
   "cell_type": "code",
   "execution_count": 21,
   "metadata": {},
   "outputs": [],
   "source": [
    "def find_closest(word_index, vectors):\n",
    "    min_dist = 10000 # to act like positive infinity?\n",
    "    min_index = -1\n",
    "    \n",
    "    # input 단어에 대한 벡터값\n",
    "    query_vector = vectors[word_index]\n",
    "    \n",
    "    # 각 벡터에 대한 index와 값들을 갖고와서,\n",
    "    for index, vector in enumerate(vectors):\n",
    "        # input단어 벡터와 각 벡터와의 거리가,\n",
    "        # (근접거리:\"무한\"보다는 적고,)\n",
    "        # 전에 적용된 근접거리 보다 적고,\n",
    "        # 두 벡터가 똑같은게 아니면,\n",
    "        if euclidean_dist(vector, query_vector) < min_dist \\\n",
    "        and not np.array_equal(vector, query_vector):\n",
    "            # min_dist (근접거리) 새로 적용\n",
    "            min_dist = euclidean_dist(vector, query_vector)\n",
    "            # 현재 최소근접단어에 대한 인덱스 적용\n",
    "            min_index = index\n",
    "            \n",
    "    # 위에 방식으로 하나하나 근접거리를 비교하고 나면\n",
    "    # 최소근접거리의 단어 인덱스가 나온다.\n",
    "    return min_index"
   ]
  },
  {
   "cell_type": "markdown",
   "metadata": {},
   "source": [
    "#### 학습한 결과\n",
    "    밑에 보다시피 위 학습모델은\n",
    "    king은 queen과 근접하고,\n",
    "    queen은 king과 근접하고,\n",
    "    she는 he와 근접하다는 것을 배웠다."
   ]
  },
  {
   "cell_type": "code",
   "execution_count": 22,
   "metadata": {},
   "outputs": [
    {
     "name": "stdout",
     "output_type": "stream",
     "text": [
      "is queen\n",
      "king queen\n",
      "she he\n",
      "the royal\n",
      "queen king\n",
      "royal she\n",
      "he she\n"
     ]
    }
   ],
   "source": [
    "for w in words:    \n",
    "    print( w, int2word[ find_closest( word2int[w], vectors ) ] )"
   ]
  },
  {
   "cell_type": "markdown",
   "metadata": {},
   "source": [
    "## 그래프로 확인해보기"
   ]
  },
  {
   "cell_type": "markdown",
   "metadata": {},
   "source": [
    "### 디멘션 줄여주는 TSNE"
   ]
  },
  {
   "cell_type": "code",
   "execution_count": 23,
   "metadata": {},
   "outputs": [],
   "source": [
    "model = TSNE(n_components=2, random_state=0)\n",
    "np.set_printoptions(suppress=True)\n",
    "vectors_2d = model.fit_transform(vectors)"
   ]
  },
  {
   "cell_type": "markdown",
   "metadata": {},
   "source": [
    "### 벡터값 Normalize"
   ]
  },
  {
   "cell_type": "code",
   "execution_count": 24,
   "metadata": {},
   "outputs": [],
   "source": [
    "normalizer = preprocessing.Normalizer()\n",
    "vectors_2d = normalizer.fit_transform(vectors, '12')"
   ]
  },
  {
   "cell_type": "markdown",
   "metadata": {},
   "source": [
    "### Matplotlib으로 plot"
   ]
  },
  {
   "cell_type": "code",
   "execution_count": 25,
   "metadata": {},
   "outputs": [
    {
     "name": "stdout",
     "output_type": "stream",
     "text": [
      "is: (0.3570253849029541,0.28706875443458557)\n",
      "is  =>  queen\n",
      "\n",
      "king: (0.6093035340309143,-0.056785840541124344)\n",
      "king  =>  queen\n",
      "\n",
      "she: (0.23588350415229797,0.14367586374282837)\n",
      "she  =>  he\n",
      "\n",
      "the: (0.6970052123069763,0.4259456396102905)\n",
      "the  =>  royal\n",
      "\n",
      "queen: (0.5561690330505371,-0.19724243879318237)\n",
      "queen  =>  king\n",
      "\n",
      "royal: (0.27268245816230774,0.7572659850120544)\n",
      "royal  =>  she\n",
      "\n",
      "he: (0.4055476188659668,0.0899575725197792)\n",
      "he  =>  she\n",
      "\n"
     ]
    },
    {
     "data": {
      "image/png": "[encoded data removed]",
      "text/plain": [
       "<Figure size 360x360 with 1 Axes>"
      ]
     },
     "metadata": {
      "needs_background": "light"
     },
     "output_type": "display_data"
    }
   ],
   "source": [
    "fig = plt.figure(figsize=(5,5))\n",
    "ax = fig.add_subplot(111)\n",
    "# fig, ax = plt.subplots()\n",
    "\n",
    "for w in words:\n",
    "    print(\"{}: ({},{})\".format(w, \n",
    "                               vectors_2d[word2int[w]][0], \n",
    "                               vectors_2d[word2int[w]][1] ))\n",
    "    \n",
    "    print( w, \" => \",int2word[ find_closest( word2int[w], vectors_2d ) ] )\n",
    "    \n",
    "    print()\n",
    "    \n",
    "    ax.annotate(w, \n",
    "        (vectors_2d[word2int[w]][0],vectors_2d[word2int[w]][1]) )\n",
    "    \n",
    "ax.set_ylim(-4,4)\n",
    "ax.set_xlim(-4,4)\n",
    "\n",
    "plt.show()"
   ]
  },
  {
   "cell_type": "markdown",
   "metadata": {},
   "source": [
    "# 추가 노트\n",
    "    밑에 보다시피 똑같은 모델을 여러번 돌려본 결과,\n",
    "    학습이 일정하게 되어 있지 않다.\n",
    "    물론 Weight와 bias값이 현재 random_normal로 되어있어\n",
    "    이러한 현상은 자주 볼 수 있다.\n",
    "    하지만 word2vec 모델 자체가 원래\n",
    "    학습데이터가 많아야 학습이 잘 되는 모델이다.\n",
    "    25,000 문장의 샘플 데이터를 사용했어도,\n",
    "    기본 BoW 모델보다 정확성이 훨씬 높거나 훨씬 낮지도 않다.\n",
    "    여기에 이어 negative sampling, hierarchial softmax도\n",
    "    적용해야 그나마 제대로된 짜가 word2vec이 나온다."
   ]
  },
  {
   "cell_type": "markdown",
   "metadata": {},
   "source": [
    "model 결과 그래프<br>\n",
    "<img src=\"data:image/png;base64,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\" width=30% style=\"background-color:white;\" align=left />"
   ]
  },
  {
   "cell_type": "markdown",
   "metadata": {},
   "source": [
    "model_2 결과 그래프\n",
    "<br>\n",
    "<img src=\"data:image/png;base64,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\" width=30% style=\"background-color:white;\" align=left />"
   ]
  },
  {
   "cell_type": "markdown",
   "metadata": {},
   "source": [
    "mode_3 결과 그래프\n",
    "<br>\n",
    "<img src=\"data:image/png;base64,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\" width=30% style=\"background-color:white;\" align=left />"
   ]
  },
  {
   "cell_type": "markdown",
   "metadata": {},
   "source": [
    "## CBOW\n",
    "    Word2Vec은 원래 Skip-Gram (중심단어로 주변단어 찾기) 모델과,\n",
    "    CBOW (주변단어로 중심단어 찾기) 모델로 구분된다.\n",
    "    CBOW 모델로 구현하기 위해선,\n",
    "    현재 학습된 모델에서 input을 주변단어로 넣으면 된다."
   ]
  },
  {
   "cell_type": "code",
   "execution_count": 93,
   "metadata": {},
   "outputs": [],
   "source": [
    "def find_center(context):\n",
    "    context_hotone = np.zeros(shape=(1,vocab_size))\n",
    "    # 총 단어수 7개보다 적으면,\n",
    "    if len(context) < vocab_size:\n",
    "        # context에 있는 단어가\n",
    "        for word in context:\n",
    "            # vocab에 있는 단어가 맞다면,\n",
    "            if word in words:\n",
    "                # 단어에 대한 hotone encoding을 추출하고\n",
    "                word_hotone = np.unique(x_train, axis=0)[::-1][word2int[word]]\n",
    "                # 단어 hotone encoding들을 합친다\n",
    "                context_hotone = context_hotone + word_hotone\n",
    "            else:\n",
    "                print(\"Word is not in vocabulary\")\n",
    "                return\n",
    "    else:\n",
    "        print(\"Context exceeds the size of the vocabulary\")\n",
    "        return\n",
    "    \n",
    "    # 합쳐진 context hotone를 사용해서 예측\n",
    "    # 원래 모델 자체가 단어 주변에 있는 단어를 예측하는 모델이니,\n",
    "    # 여러 단어들에 공통적으로 주변에 있는 단어를 찾게 된다.\n",
    "    probs = sess.run(prediction, feed_dict={X: context_hotone})\n",
    "    # 예측할 단어 리스트에서 context 단어를 제외\n",
    "    for word in context:\n",
    "        if word in int2word.values():\n",
    "            # 일단 제외방식을 확률을 -로 바꾸는걸로 한다.\n",
    "            probs[0][word2int[word]] = -probs[0][word2int[word]]\n",
    "    # 확률이 제일 높은거의 인덱스 가져오기\n",
    "    center_idx = np.argmax(probs)\n",
    "    # 인덱스 look up해서 단어 가져오기\n",
    "    result = int2word[center_idx]\n",
    "    \n",
    "    return result, probs"
   ]
  },
  {
   "cell_type": "code",
   "execution_count": 107,
   "metadata": {},
   "outputs": [
    {
     "data": {
      "text/plain": [
       "'he is the king . the king is royal . she is the royal queen'"
      ]
     },
     "execution_count": 107,
     "metadata": {},
     "output_type": "execute_result"
    }
   ],
   "source": [
    "corpus_raw"
   ]
  },
  {
   "cell_type": "code",
   "execution_count": 116,
   "metadata": {},
   "outputs": [
    {
     "data": {
      "text/plain": [
       "{'is': 0, 'king': 1, 'she': 2, 'the': 3, 'queen': 4, 'royal': 5, 'he': 6}"
      ]
     },
     "execution_count": 116,
     "metadata": {},
     "output_type": "execute_result"
    }
   ],
   "source": [
    "word2int"
   ]
  },
  {
   "cell_type": "code",
   "execution_count": 134,
   "metadata": {},
   "outputs": [
    {
     "name": "stdout",
     "output_type": "stream",
     "text": [
      "['she', 'is', 'the', 'queen'] : royal\n"
     ]
    }
   ],
   "source": [
    "# 위에 문장을 확인해보면 \"she is the royal queen\"이다.\n",
    "# 'royal'을 뺀 문장, 'she is the ___ queen'의 값을 넣어주면\n",
    "# 이 사이의 단어를 알려준다.\n",
    "context = ['she','is','the','queen']\n",
    "result, probs = find_center(context)\n",
    "print(\"{} : {}\".format(context, result))"
   ]
  },
  {
   "cell_type": "code",
   "execution_count": 135,
   "metadata": {},
   "outputs": [
    {
     "data": {
      "text/plain": [
       "array([[-0.00000011,  0.01272334, -0.00247079, -0.0000056 , -0.00000007,\n",
       "         0.5790665 ,  0.4057336 ]], dtype=float32)"
      ]
     },
     "execution_count": 135,
     "metadata": {},
     "output_type": "execute_result"
    }
   ],
   "source": [
    "# 확률 벡터를 확인하여 확률이 높은 단어들을 확인해본다.\n",
    "# 보다시피 royal이 제일 확률이 높았고,\n",
    "# 그 다음으로 'he'가 높았다.\n",
    "# 그 이유는 'is','the' 둘다 'he'와 제법 근접한 단어들이기 때문이다.\n",
    "probs"
   ]
  },
  {
   "cell_type": "code",
   "execution_count": 38,
   "metadata": {},
   "outputs": [
    {
     "name": "stdout",
     "output_type": "stream",
     "text": [
      "is queen\n",
      "king queen\n",
      "she he\n",
      "the royal\n",
      "queen king\n",
      "royal she\n",
      "he she\n"
     ]
    }
   ],
   "source": [
    "for w in words:    \n",
    "    print( w, int2word[ find_closest( word2int[w], vectors ) ] )"
   ]
  }
 ],
 "metadata": {
  "kernelspec": {
   "display_name": "gpu_env",
   "language": "python",
   "name": "gpu_env"
  },
  "language_info": {
   "codemirror_mode": {
    "name": "ipython",
    "version": 3
   },
   "file_extension": ".py",
   "mimetype": "text/x-python",
   "name": "python",
   "nbconvert_exporter": "python",
   "pygments_lexer": "ipython3",
   "version": "3.6.7"
  },
  "toc": {
   "base_numbering": 1,
   "nav_menu": {},
   "number_sections": true,
   "sideBar": false,
   "skip_h1_title": false,
   "title_cell": "Table of Contents",
   "title_sidebar": "Contents",
   "toc_cell": false,
   "toc_position": {
    "height": "733px",
    "left": "998px",
    "top": "94px",
    "width": "256px"
   },
   "toc_section_display": true,
   "toc_window_display": true
  },
  "varInspector": {
   "cols": {
    "lenName": 16,
    "lenType": 16,
    "lenVar": 40
   },
   "kernels_config": {
    "python": {
     "delete_cmd_postfix": "",
     "delete_cmd_prefix": "del ",
     "library": "var_list.py",
     "varRefreshCmd": "print(var_dic_list())"
    },
    "r": {
     "delete_cmd_postfix": ") ",
     "delete_cmd_prefix": "rm(",
     "library": "var_list.r",
     "varRefreshCmd": "cat(var_dic_list()) "
    }
   },
   "types_to_exclude": [
    "module",
    "function",
    "builtin_function_or_method",
    "instance",
    "_Feature"
   ],
   "window_display": false
  }
 },
 "nbformat": 4,
 "nbformat_minor": 2
}
